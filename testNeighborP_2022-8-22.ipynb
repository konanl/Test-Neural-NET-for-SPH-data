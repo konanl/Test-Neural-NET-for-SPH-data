{
 "cells": [
  {
   "cell_type": "code",
   "execution_count": 252,
   "id": "dbabfb8f-98d8-4914-a662-64412e2ddfed",
   "metadata": {},
   "outputs": [],
   "source": [
    "import torch\n",
    "import h5py\n",
    "import os\n",
    "import numpy as np\n",
    "from torch import nn as nn\n",
    "from torch.nn import functional as F\n",
    "from torch import optim\n",
    "from torch.utils.data import Dataset, DataLoader\n",
    "\n",
    "# using the API of d2l\n",
    "from d2l import torch as d2l"
   ]
  },
  {
   "cell_type": "code",
   "execution_count": 2,
   "id": "a9b04845-4189-4817-b4ea-c13e412a33b9",
   "metadata": {},
   "outputs": [],
   "source": [
    "data_dir = './dataset'  # snapshot_000_100_particle.hdf5"
   ]
  },
  {
   "cell_type": "code",
   "execution_count": 3,
   "id": "5ff26d48-5e65-4ab8-af24-932a7191aa64",
   "metadata": {},
   "outputs": [],
   "source": [
    "testFiles = os.listdir(data_dir)"
   ]
  },
  {
   "cell_type": "code",
   "execution_count": 4,
   "id": "040c4544-049a-49ee-9aac-2457dbf3517a",
   "metadata": {},
   "outputs": [
    {
     "data": {
      "text/plain": [
       "37"
      ]
     },
     "execution_count": 4,
     "metadata": {},
     "output_type": "execute_result"
    }
   ],
   "source": [
    "len(testFiles)"
   ]
  },
  {
   "cell_type": "code",
   "execution_count": 31,
   "id": "e9e3b05c-e1f6-43e4-b168-0148c0975914",
   "metadata": {},
   "outputs": [
    {
     "data": {
      "text/plain": [
       "['0_particle.hdf5',\n",
       " '10_particle.hdf5',\n",
       " '11_particle.hdf5',\n",
       " '12_particle.hdf5',\n",
       " '13_particle.hdf5',\n",
       " '14_particle.hdf5',\n",
       " '15_particle.hdf5',\n",
       " '16_particle.hdf5',\n",
       " '17_particle.hdf5',\n",
       " '18_particle.hdf5',\n",
       " '19_particle.hdf5',\n",
       " '1_particle.hdf5',\n",
       " '20_particle.hdf5',\n",
       " '21_particle.hdf5',\n",
       " '22_particle.hdf5',\n",
       " '23_particle.hdf5',\n",
       " '24_particle.hdf5',\n",
       " '25_particle.hdf5',\n",
       " '26_particle.hdf5',\n",
       " '27_particle.hdf5',\n",
       " '28_particle.hdf5',\n",
       " '29_particle.hdf5',\n",
       " '2_particle.hdf5',\n",
       " '30_particle.hdf5',\n",
       " '31_particle.hdf5',\n",
       " '32_particle.hdf5',\n",
       " '33_particle.hdf5',\n",
       " '34_particle.hdf5',\n",
       " '35_particle.hdf5',\n",
       " '36_particle.hdf5',\n",
       " '3_particle.hdf5',\n",
       " '4_particle.hdf5',\n",
       " '5_particle.hdf5',\n",
       " '6_particle.hdf5',\n",
       " '7_particle.hdf5',\n",
       " '8_particle.hdf5',\n",
       " '9_particle.hdf5']"
      ]
     },
     "execution_count": 31,
     "metadata": {},
     "output_type": "execute_result"
    }
   ],
   "source": [
    "testFiles"
   ]
  },
  {
   "cell_type": "code",
   "execution_count": 6,
   "id": "2b5e981c-f435-4045-93eb-cac257c6761a",
   "metadata": {},
   "outputs": [],
   "source": [
    "testFilePath = os.path.join(data_dir, '10_particle.hdf5')"
   ]
  },
  {
   "cell_type": "code",
   "execution_count": 7,
   "id": "f565c4d1-e51f-4744-b30d-6fb5856e8eee",
   "metadata": {},
   "outputs": [
    {
     "data": {
      "text/plain": [
       "'./dataset/10_particle.hdf5'"
      ]
     },
     "execution_count": 7,
     "metadata": {},
     "output_type": "execute_result"
    }
   ],
   "source": [
    "testFilePath"
   ]
  },
  {
   "cell_type": "code",
   "execution_count": 8,
   "id": "7c7e3e82-fc79-40ae-a9b7-9f8df4f6043b",
   "metadata": {},
   "outputs": [],
   "source": [
    "testFile = h5py.File(testFilePath)"
   ]
  },
  {
   "cell_type": "code",
   "execution_count": 9,
   "id": "c058aab0-f287-4c95-a730-b22864067775",
   "metadata": {},
   "outputs": [
    {
     "name": "stdout",
     "output_type": "stream",
     "text": [
      "10\n"
     ]
    }
   ],
   "source": [
    "for key in testFile:\n",
    "    print(key)"
   ]
  },
  {
   "cell_type": "raw",
   "id": "54455e94-eccd-43c2-b5c4-b0ea4434c7e6",
   "metadata": {},
   "source": [
    "=================================\n",
    "======Particle Data Sequence=====\n",
    "=================================\n",
    "1.ParticleIDs√ 2.Masses√ 3.Density√ 4.InternalEnergy \n",
    "5.Potential 6.SmoothingLength√ 7.Coordinates√ 8.Velocities√"
   ]
  },
  {
   "cell_type": "code",
   "execution_count": 10,
   "id": "e8715f46-2e7a-404a-b658-c5efd919f166",
   "metadata": {},
   "outputs": [
    {
     "data": {
      "text/plain": [
       "(126, 12)"
      ]
     },
     "execution_count": 10,
     "metadata": {},
     "output_type": "execute_result"
    }
   ],
   "source": [
    "testFile['10'][:].shape"
   ]
  },
  {
   "cell_type": "code",
   "execution_count": 11,
   "id": "c43a0581-08d0-472f-9776-96666796865b",
   "metadata": {},
   "outputs": [],
   "source": [
    "f = h5py.File('./snapshot_000.hdf5')"
   ]
  },
  {
   "cell_type": "code",
   "execution_count": 12,
   "id": "76ba13c2-cc9e-4a26-a7da-5204b33d32d6",
   "metadata": {},
   "outputs": [],
   "source": [
    "for p in f['dataset']:\n",
    "    if p[0] == 10.:\n",
    "        particle10 = p"
   ]
  },
  {
   "cell_type": "code",
   "execution_count": 13,
   "id": "3aeb198f-a3b4-4211-9159-93f8db75a405",
   "metadata": {},
   "outputs": [
    {
     "data": {
      "text/plain": [
       "array([ 1.0000000e+01,  2.9456370e+21,  8.0024481e+00,  1.4107614e+07,\n",
       "       -1.9564783e+11,  2.4640620e+07, -1.6455928e+08, -4.3253580e+07,\n",
       "        1.2894613e+07,  2.9160733e+02,  4.4095953e+04,  1.3067218e+02],\n",
       "      dtype=float32)"
      ]
     },
     "execution_count": 13,
     "metadata": {},
     "output_type": "execute_result"
    }
   ],
   "source": [
    "particle10"
   ]
  },
  {
   "cell_type": "code",
   "execution_count": 14,
   "id": "5b117b4f-dd26-42ed-8b86-939862a9dd1b",
   "metadata": {},
   "outputs": [],
   "source": [
    "class Dateset_sph(Dataset):\n",
    "    def __init__(self, features, labels):\n",
    "        super(Dateset_sph, self).__init__()\n",
    "        self.features = features\n",
    "        self.labels = labels\n",
    "        \n",
    "    def __getitem__(self, index):\n",
    "        return self.features[index], self.labels[index]\n",
    "    \n",
    "    def __len__(self):\n",
    "        return len(self.features)"
   ]
  },
  {
   "cell_type": "code",
   "execution_count": 15,
   "id": "f325f2fb-b361-47a7-a412-f57173895a7a",
   "metadata": {},
   "outputs": [],
   "source": [
    "# particle100--label.  \n",
    "# NeighborParticles--features"
   ]
  },
  {
   "cell_type": "code",
   "execution_count": 16,
   "id": "1923d4b6-7a7a-47f6-9225-215f59452352",
   "metadata": {},
   "outputs": [],
   "source": [
    "# 提取相应物理量的坐标\n",
    "particle_10_neighbor_particles = []\n",
    "for p in testFile['10']:\n",
    "    particle_10_neighbor_particles.append([p[0], p[1], p[2], p[5], p[6], p[9]])"
   ]
  },
  {
   "cell_type": "code",
   "execution_count": 17,
   "id": "8b368ed5-50c5-4ee5-8c1b-fb7a4e35c99c",
   "metadata": {},
   "outputs": [
    {
     "data": {
      "text/plain": [
       "([[12.0, 2.945637e+21, 7.96096, 24682298.0, -165883170.0, 298.50082],\n",
       "  [17.0, 2.945637e+21, 8.034667, 24610816.0, -167189810.0, 296.7773],\n",
       "  [18.0, 2.945637e+21, 8.022338, 24619978.0, -166891100.0, 295.1944],\n",
       "  [19.0, 2.945637e+21, 8.035706, 24607916.0, -167802620.0, 300.31058],\n",
       "  [20.0, 2.945637e+21, 8.011768, 24632234.0, -165740340.0, 298.3827],\n",
       "  [21.0, 2.945637e+21, 8.009963, 24634002.0, -165744030.0, 298.32278],\n",
       "  [22.0, 2.945637e+21, 7.962839, 24679852.0, -165703490.0, 300.08984],\n",
       "  [23.0, 2.945637e+21, 7.953202, 24689432.0, -165732600.0, 299.3514],\n",
       "  [29.0, 2.945637e+21, 8.015273, 24631120.0, -169253490.0, 303.59393],\n",
       "  [30.0, 2.945637e+21, 7.9932775, 24652538.0, -169328590.0, 302.7085],\n",
       "  [31.0, 2.945637e+21, 8.000595, 24641952.0, -169902880.0, 292.14755],\n",
       "  [32.0, 2.945637e+21, 8.013153, 24631008.0, -168110930.0, 290.4665],\n",
       "  [33.0, 2.945637e+21, 7.999516, 24644254.0, -165766660.0, 297.84863],\n",
       "  [34.0, 2.945637e+21, 8.003986, 24639196.0, -165579740.0, 302.23312],\n",
       "  [35.0, 2.945637e+21, 7.967563, 24675164.0, -165689420.0, 300.32935],\n",
       "  [40.0, 2.945637e+21, 8.030175, 24615874.0, -168850940.0, 305.02432],\n",
       "  [41.0, 2.945637e+21, 8.01436, 24632000.0, -169253140.0, 303.421],\n",
       "  [42.0, 2.945637e+21, 8.010792, 24635584.0, -169271100.0, 304.3563],\n",
       "  [43.0, 2.945637e+21, 8.020331, 24622558.0, -169856900.0, 293.81378],\n",
       "  [44.0, 2.945637e+21, 8.019421, 24624888.0, -168086140.0, 290.30984],\n",
       "  [45.0, 2.945637e+21, 7.9983034, 24645540.0, -168167980.0, 290.40793],\n",
       "  [55.0, 2.945637e+21, 8.002477, 24642544.0, -170458000.0, 313.98233],\n",
       "  [56.0, 2.945637e+21, 7.985721, 24659030.0, -170506110.0, 312.7748],\n",
       "  [57.0, 2.945637e+21, 7.9800816, 24662918.0, -170110700.0, 297.91675],\n",
       "  [58.0, 2.945637e+21, 8.011005, 24631594.0, -169434480.0, 300.13437],\n",
       "  [69.0, 2.945637e+21, 7.975702, 24668918.0, -170535060.0, 311.99414],\n",
       "  [72.0, 2.945637e+21, 8.003467, 24639008.0, -169456200.0, 299.69733],\n",
       "  [192.0, 2.945637e+21, 8.032184, 24611478.0, -164565740.0, 299.07138],\n",
       "  [193.0, 2.945637e+21, 8.033386, 24610310.0, -164520300.0, 295.11038],\n",
       "  [206.0, 2.945637e+21, 7.9904613, 24654138.0, -167306820.0, 294.11127],\n",
       "  [207.0, 2.945637e+21, 8.002392, 24640046.0, -165960620.0, 281.5579],\n",
       "  [208.0, 2.945637e+21, 7.984516, 24658284.0, -164576740.0, 289.86066],\n",
       "  [209.0, 2.945637e+21, 8.021779, 24621646.0, -164607170.0, 297.13245],\n",
       "  [221.0, 2.945637e+21, 8.034043, 24611426.0, -167190980.0, 296.70422],\n",
       "  [222.0, 2.945637e+21, 8.02616, 24619124.0, -167209660.0, 296.0285],\n",
       "  [223.0, 2.945637e+21, 7.9957204, 24646076.0, -168090860.0, 264.5061],\n",
       "  [224.0, 2.945637e+21, 8.020957, 24622346.0, -167866020.0, 302.1121],\n",
       "  [225.0, 2.945637e+21, 8.020402, 24622652.0, -168086670.0, 294.30176],\n",
       "  [226.0, 2.945637e+21, 7.988383, 24655202.0, -165799630.0, 297.50888],\n",
       "  [227.0, 2.945637e+21, 7.986831, 24656732.0, -165803500.0, 297.43555],\n",
       "  [240.0, 2.945637e+21, 8.034967, 24610544.0, -167178770.0, 296.52872],\n",
       "  [241.0, 2.945637e+21, 8.032883, 24610120.0, -165847410.0, 286.0591],\n",
       "  [242.0, 2.945637e+21, 8.034938, 24608674.0, -167783490.0, 301.19528],\n",
       "  [243.0, 2.945637e+21, 8.013286, 24630884.0, -168104750.0, 290.09903],\n",
       "  [244.0, 2.945637e+21, 8.021238, 24623116.0, -168078350.0, 290.23242],\n",
       "  [245.0, 2.945637e+21, 8.006316, 24636908.0, -165573420.0, 302.05408],\n",
       "  [258.0, 2.945637e+21, 7.9955716, 24650314.0, -169319870.0, 302.79175],\n",
       "  [259.0, 2.945637e+21, 8.005724, 24640428.0, -169289860.0, 303.60754],\n",
       "  [260.0, 2.945637e+21, 8.023449, 24619424.0, -168218600.0, 287.86853],\n",
       "  [261.0, 2.945637e+21, 8.025232, 24619220.0, -168066480.0, 290.38492],\n",
       "  [279.0, 2.945637e+21, 7.997553, 24647382.0, -170472140.0, 313.62103],\n",
       "  [280.0, 2.945637e+21, 7.9960775, 24646524.0, -169952220.0, 293.26846],\n",
       "  [299.0, 2.945637e+21, 7.976652, 24667980.0, -170532000.0, 312.171],\n",
       "  [301.0, 2.945637e+21, 8.007052, 24635482.0, -169445220.0, 300.17883],\n",
       "  [546.0, 2.945637e+21, 8.779193, 23951112.0, -152770720.0, 290.44598],\n",
       "  [547.0, 2.945637e+21, 8.776967, 23953402.0, -152868850.0, 299.39105],\n",
       "  [564.0, 2.945637e+21, 8.736148, 23998854.0, -154295340.0, 295.74072],\n",
       "  [565.0, 2.945637e+21, 8.767226, 23962782.0, -153319460.0, 293.0685],\n",
       "  [566.0, 2.945637e+21, 8.772008, 23958936.0, -155169660.0, 320.49048],\n",
       "  [567.0, 2.945637e+21, 8.775231, 23960042.0, -153861020.0, 297.4137],\n",
       "  [568.0, 2.945637e+21, 8.77437, 23960788.0, -153824780.0, 290.50525],\n",
       "  [585.0, 2.945637e+21, 8.760074, 23974096.0, -157015360.0, 317.3638],\n",
       "  [586.0, 2.945637e+21, 8.760379, 23973872.0, -157041250.0, 317.52435],\n",
       "  [587.0, 2.945637e+21, 8.755465, 23975770.0, -157414980.0, 300.54916],\n",
       "  [588.0, 2.945637e+21, 8.7543545, 23976682.0, -157378720.0, 298.8479],\n",
       "  [589.0, 2.945637e+21, 8.795269, 23944448.0, -156037040.0, 309.2872],\n",
       "  [590.0, 2.945637e+21, 8.768659, 23964036.0, -154290370.0, 343.77448],\n",
       "  [591.0, 2.945637e+21, 8.788752, 23952464.0, -153755800.0, 299.54886],\n",
       "  [592.0, 2.945637e+21, 8.775313, 23963234.0, -152958980.0, 308.01425],\n",
       "  [607.0, 2.945637e+21, 8.766054, 23969024.0, -157781980.0, 332.94763],\n",
       "  [608.0, 2.945637e+21, 8.7727995, 23962568.0, -158530580.0, 365.3932],\n",
       "  [609.0, 2.945637e+21, 8.752611, 23978092.0, -157323570.0, 297.64035],\n",
       "  [610.0, 2.945637e+21, 8.800747, 23937932.0, -156269810.0, 312.469],\n",
       "  [611.0, 2.945637e+21, 8.795281, 23944566.0, -156037740.0, 305.25174],\n",
       "  [612.0, 2.945637e+21, 8.771267, 23961594.0, -155829980.0, 305.58365],\n",
       "  [613.0, 2.945637e+21, 8.771623, 23961322.0, -155849630.0, 303.7138],\n",
       "  [632.0, 2.945637e+21, 8.743589, 23984832.0, -159185760.0, 323.81683],\n",
       "  [633.0, 2.945637e+21, 8.765365, 23968268.0, -157880020.0, 285.8874],\n",
       "  [634.0, 2.945637e+21, 8.762803, 23970500.0, -157760420.0, 284.68307],\n",
       "  [635.0, 2.945637e+21, 8.77851, 23955484.0, -156147780.0, 301.82175],\n",
       "  [636.0, 2.945637e+21, 8.776459, 23957216.0, -156059660.0, 301.27487],\n",
       "  [656.0, 2.945637e+21, 7.9433236, 24699558.0, -170219230.0, 291.73547],\n",
       "  [657.0, 2.945637e+21, 7.92855, 24714326.0, -170259490.0, 291.2303],\n",
       "  [658.0, 2.945637e+21, 8.761698, 23971438.0, -157707440.0, 287.10025],\n",
       "  [680.0, 2.945637e+21, 8.74177, 23986358.0, -159112370.0, 313.90128],\n",
       "  [681.0, 2.945637e+21, 8.755608, 23976526.0, -157383410.0, 293.64294],\n",
       "  [705.0, 2.945637e+21, 8.762931, 23964370.0, -159518820.0, 305.08368],\n",
       "  [706.0, 2.945637e+21, 8.770124, 23957390.0, -159780510.0, 315.62454],\n",
       "  [1046.0, 2.945637e+21, 8.767603, 23962478.0, -153316960.0, 293.69955],\n",
       "  [1068.0, 2.945637e+21, 8.737751, 23997380.0, -154388290.0, 295.43036],\n",
       "  [1069.0, 2.945637e+21, 8.740023, 23995360.0, -154499570.0, 292.2978],\n",
       "  [1070.0, 2.945637e+21, 8.781205, 23949692.0, -155757950.0, 313.3035],\n",
       "  [1071.0, 2.945637e+21, 8.775998, 23959364.0, -153888880.0, 301.42178],\n",
       "  [1072.0, 2.945637e+21, 8.775534, 23959774.0, -153872020.0, 298.9931],\n",
       "  [1094.0, 2.945637e+21, 8.740826, 23994636.0, -154539540.0, 291.42896],\n",
       "  [1095.0, 2.945637e+21, 8.771055, 23966154.0, -149044750.0, 255.03783],\n",
       "  [1096.0, 2.945637e+21, 8.771541, 23965756.0, -149021710.0, 254.85075],\n",
       "  [1098.0, 2.945637e+21, 8.7922735, 23949514.0, -153926750.0, 299.27393],\n",
       "  [1099.0, 2.945637e+21, 8.791536, 23950134.0, -153892640.0, 299.25803],\n",
       "  [1121.0, 2.945637e+21, 8.753867, 23977104.0, -157353810.0, 298.049],\n",
       "  [1122.0, 2.945637e+21, 8.786855, 23948218.0, -150382290.0, 267.9428],\n",
       "  [1123.0, 2.945637e+21, 8.801778, 23938334.0, -156311020.0, 293.13446],\n",
       "  [1147.0, 2.945637e+21, 8.745491, 23983164.0, -159245230.0, 329.78674],\n",
       "  [1148.0, 2.945637e+21, 8.781516, 23951344.0, -150493220.0, 248.19006],\n",
       "  [1149.0, 2.945637e+21, 8.787171, 23947956.0, -150369630.0, 268.63934],\n",
       "  [1203.0, 2.945637e+21, 8.744004, 23984482.0, -159202380.0, 325.22324],\n",
       "  [1746.0, 2.945637e+21, 8.773715, 23963940.0, -148920660.0, 254.31331],\n",
       "  [200018460.0, 2.945637e+21, 3.793638, 31486084.0, -184413140.0, 310.1251],\n",
       "  [200018460.0, 2.945637e+21, 3.8134778, 31420526.0, -182702130.0, 308.1647],\n",
       "  [200018530.0, 2.945637e+21, 3.794901, 31486084.0, -184398640.0, 310.1752],\n",
       "  [200018530.0, 2.945637e+21, 3.8090377, 31600614.0, -185766460.0, 307.72513],\n",
       "  [200018530.0, 2.945637e+21, 3.8005376, 31621812.0, -185891760.0, 308.4389],\n",
       "  [200018530.0, 2.945637e+21, 3.819081, 31754876.0, -183259950.0, 310.3718],\n",
       "  [200018580.0, 2.945637e+21, 3.7943869, 31627470.0, -187181300.0, 331.07147],\n",
       "  [200018580.0, 2.945637e+21, 3.8061233, 31754876.0, -183403170.0, 310.57965],\n",
       "  [200018640.0, 2.945637e+21, 3.7946303, 31626870.0, -187124350.0, 319.57263],\n",
       "  [200021000.0, 2.945637e+21, 3.788734, 31486084.0, -184470260.0, 310.3101],\n",
       "  [200021000.0, 2.945637e+21, 3.819071, 31754876.0, -182809970.0, 308.48062],\n",
       "  [200021000.0, 2.945637e+21, 3.818565, 31754876.0, -182816510.0, 308.50177],\n",
       "  [200021040.0, 2.945637e+21, 3.7992644, 31486084.0, -184349340.0, 309.77643],\n",
       "  [200021040.0, 2.945637e+21, 3.807837, 31420526.0, -182773500.0, 308.35968],\n",
       "  [200021040.0, 2.945637e+21, 3.819731, 31754876.0, -183254060.0, 310.4637],\n",
       "  [200021100.0, 2.945637e+21, 3.8086827, 31601484.0, -185766560.0, 307.51764],\n",
       "  [200021100.0, 2.945637e+21, 3.8015985, 31619152.0, -185871760.0, 309.6039],\n",
       "  [200021100.0, 2.945637e+21, 3.8098102, 31754876.0, -183363250.0, 311.152],\n",
       "  [200021150.0, 2.945637e+21, 3.7938683, 31627804.0, -186968800.0, 327.38647]],\n",
       " 126)"
      ]
     },
     "execution_count": 17,
     "metadata": {},
     "output_type": "execute_result"
    }
   ],
   "source": [
    "particle_10_neighbor_particles, len(particle_10_neighbor_particles)"
   ]
  },
  {
   "cell_type": "code",
   "execution_count": 18,
   "id": "8c52752b-f44c-4ab6-8883-aa5f7e49ec67",
   "metadata": {},
   "outputs": [],
   "source": [
    "particle_10_neighbor_particles = torch.tensor(particle_10_neighbor_particles)"
   ]
  },
  {
   "cell_type": "code",
   "execution_count": 19,
   "id": "12239340-33df-4f13-a88e-22c0fd8a1f1d",
   "metadata": {},
   "outputs": [
    {
     "data": {
      "text/plain": [
       "torch.Size([126, 6])"
      ]
     },
     "execution_count": 19,
     "metadata": {},
     "output_type": "execute_result"
    }
   ],
   "source": [
    "particle_10_neighbor_particles.shape"
   ]
  },
  {
   "cell_type": "code",
   "execution_count": 20,
   "id": "cd9d4494-0f45-4837-939e-caa0e89c527a",
   "metadata": {},
   "outputs": [],
   "source": [
    "particle_10 = torch.tensor([particle10[0], particle10[1], particle10[2], \n",
    "                 particle10[5], particle10[6], particle10[9]])"
   ]
  },
  {
   "cell_type": "code",
   "execution_count": 21,
   "id": "f7304f3b-3f19-43a6-aa24-03a8258f08a2",
   "metadata": {},
   "outputs": [
    {
     "data": {
      "text/plain": [
       "torch.Size([6])"
      ]
     },
     "execution_count": 21,
     "metadata": {},
     "output_type": "execute_result"
    }
   ],
   "source": [
    "particle_10.shape"
   ]
  },
  {
   "cell_type": "code",
   "execution_count": 339,
   "id": "f3d7731a-ee57-4994-925a-19dce8bc5f4e",
   "metadata": {},
   "outputs": [],
   "source": [
    "# 写一个批处理的程序\n",
    "center_particle = []\n",
    "particle_neighbor_particles = {}\n",
    "for file in testFiles:\n",
    "    filename = os.path.splitext(file)\n",
    "    # print(filename[0][:-9])\n",
    "    if filename[1] == '.hdf5':\n",
    "        path = os.path.join(data_dir, 'train',file)\n",
    "        # print(path)\n",
    "        center_particleID = filename[0][:-9]\n",
    "        f_center_particle = h5py.File('./snapshot_000.hdf5')\n",
    "        f_neighbor_particles = h5py.File(path)\n",
    "        \n",
    "        for p in f_center_particle['dataset']:\n",
    "            if p[0] == float(center_particleID):\n",
    "                # print(p)\n",
    "                # center_particle.append([p[0], p[1], p[2], p[5], p[6], p[9]])\n",
    "                center_particle.append([p[9]])\n",
    "                \n",
    "        particle_neighbor_particles[center_particleID] = []\n",
    "        k = 0\n",
    "        for p in f_neighbor_particles[center_particleID]:\n",
    "            # particle_neighbor_particles[center_particleID].append([p[0], p[1], p[2], p[5], p[6], p[9]])\n",
    "            particle_neighbor_particles[center_particleID].append([p[1], p[2], p[5], p[6], p[9]])\n",
    "            k += 1\n",
    "            if k == 100:\n",
    "                break\n",
    "                \n",
    "        # f_neighbor_particles = h5py.File()"
   ]
  },
  {
   "cell_type": "code",
   "execution_count": 340,
   "id": "4e11a537-dbb4-49ab-88ef-41fe58e4aee2",
   "metadata": {},
   "outputs": [
    {
     "data": {
      "text/plain": [
       "36"
      ]
     },
     "execution_count": 340,
     "metadata": {},
     "output_type": "execute_result"
    }
   ],
   "source": [
    "#center_particle, \n",
    "len(center_particle)"
   ]
  },
  {
   "cell_type": "code",
   "execution_count": 341,
   "id": "79de135d-ba61-4301-9418-503f3abab7ea",
   "metadata": {},
   "outputs": [
    {
     "data": {
      "text/plain": [
       "37"
      ]
     },
     "execution_count": 341,
     "metadata": {},
     "output_type": "execute_result"
    }
   ],
   "source": [
    "#particle_neighbor_particles, \n",
    "len(particle_neighbor_particles)"
   ]
  },
  {
   "cell_type": "code",
   "execution_count": 342,
   "id": "f0f78ebb-08dd-460a-9d45-a941b429a73f",
   "metadata": {},
   "outputs": [],
   "source": [
    "del particle_neighbor_particles['0']"
   ]
  },
  {
   "cell_type": "code",
   "execution_count": 343,
   "id": "97963f5d-01fa-4f46-8a8d-c8f2281a65e3",
   "metadata": {},
   "outputs": [
    {
     "data": {
      "text/plain": [
       "36"
      ]
     },
     "execution_count": 343,
     "metadata": {},
     "output_type": "execute_result"
    }
   ],
   "source": [
    "len(particle_neighbor_particles)"
   ]
  },
  {
   "cell_type": "code",
   "execution_count": 344,
   "id": "71465635-3c1a-4318-930f-5eba4481b332",
   "metadata": {},
   "outputs": [
    {
     "data": {
      "text/plain": [
       "[[291.60733],\n",
       " [281.8423],\n",
       " [298.50082],\n",
       " [275.4272],\n",
       " [280.0838],\n",
       " [287.25867],\n",
       " [293.94577],\n",
       " [296.7773],\n",
       " [295.1944],\n",
       " [300.31058],\n",
       " [274.2551],\n",
       " [298.3827],\n",
       " [298.32278],\n",
       " [300.08984],\n",
       " [299.3514],\n",
       " [275.17093],\n",
       " [280.0838],\n",
       " [280.64285],\n",
       " [291.5812],\n",
       " [301.32608],\n",
       " [303.59393],\n",
       " [283.81116],\n",
       " [302.7085],\n",
       " [292.14755],\n",
       " [290.4665],\n",
       " [297.84863],\n",
       " [302.23312],\n",
       " [300.32935],\n",
       " [311.35617],\n",
       " [278.6509],\n",
       " [293.17624],\n",
       " [286.7216],\n",
       " [288.62802],\n",
       " [276.36734],\n",
       " [277.8106],\n",
       " [282.07037]]"
      ]
     },
     "execution_count": 344,
     "metadata": {},
     "output_type": "execute_result"
    }
   ],
   "source": [
    "center_particle"
   ]
  },
  {
   "cell_type": "code",
   "execution_count": 230,
   "id": "02f8fe9c-4e49-46b6-8ae8-45398bc60d5c",
   "metadata": {},
   "outputs": [],
   "source": [
    "#particle_neighbor_particles\n",
    "# ParticleIDs√ Masses√ Density√ Coordinates√ Velocities√"
   ]
  },
  {
   "cell_type": "code",
   "execution_count": 345,
   "id": "afff9677-044c-4799-af59-443c4b5e1fcd",
   "metadata": {},
   "outputs": [
    {
     "data": {
      "text/plain": [
       "dict_keys(['10', '11', '12', '13', '14', '15', '16', '17', '18', '19', '1', '20', '21', '22', '23', '24', '25', '26', '27', '28', '29', '2', '30', '31', '32', '33', '34', '35', '36', '3', '4', '5', '6', '7', '8', '9'])"
      ]
     },
     "execution_count": 345,
     "metadata": {},
     "output_type": "execute_result"
    }
   ],
   "source": [
    "particle_neighbor_particles.keys()"
   ]
  },
  {
   "cell_type": "code",
   "execution_count": 346,
   "id": "38fc0104-7e25-463c-b71c-8c4e0787125f",
   "metadata": {},
   "outputs": [],
   "source": [
    "neighbor_particles = []\n",
    "for key in particle_neighbor_particles.keys():\n",
    "    neighbor_particles.append([particle_neighbor_particles[key]])"
   ]
  },
  {
   "cell_type": "raw",
   "id": "1185a2cf-f67d-4a73-bc39-fe660a266bb3",
   "metadata": {},
   "source": [
    "126 157 135 134 139 143 137 122 134 154 137 153 148 148 130 129 128 132 129 140 142 137 134 143 148 143 142 134 134 142 \n",
    "152 148 153 152 135 141"
   ]
  },
  {
   "cell_type": "code",
   "execution_count": 347,
   "id": "2fc0b423-4f88-4bbf-9580-7b0ab55a0d12",
   "metadata": {},
   "outputs": [],
   "source": [
    "neighbor_particles_ = []\n",
    "for i in range(len(neighbor_particles)):\n",
    "    neighbor_particles_.append(neighbor_particles[i][0][:])"
   ]
  },
  {
   "cell_type": "code",
   "execution_count": 348,
   "id": "fe6705fc-5e91-4a43-9155-a2abca06347b",
   "metadata": {},
   "outputs": [],
   "source": [
    "# 单独处理！！！"
   ]
  },
  {
   "cell_type": "code",
   "execution_count": 349,
   "id": "0982373e-f8ba-40aa-91f0-9de768c13537",
   "metadata": {},
   "outputs": [
    {
     "data": {
      "text/plain": [
       "100"
      ]
     },
     "execution_count": 349,
     "metadata": {},
     "output_type": "execute_result"
    }
   ],
   "source": [
    "len(neighbor_particles_[3])"
   ]
  },
  {
   "cell_type": "code",
   "execution_count": 386,
   "id": "162d0964-b08d-4889-83ac-436f0aa5d545",
   "metadata": {},
   "outputs": [],
   "source": [
    "# 归一化\n",
    "# norm function for numpy\n",
    "def data_norm(data):\n",
    "    mean = data.mean(axis=0, keepdims=True)\n",
    "    std = data.std(axis=0, keepdims=True)\n",
    "    return (data-mean)/std"
   ]
  },
  {
   "cell_type": "code",
   "execution_count": 387,
   "id": "f7a17d6b-448b-4863-be4f-39ccfd8de34b",
   "metadata": {},
   "outputs": [],
   "source": [
    "a = torch.Tensor(36, 100, 5)"
   ]
  },
  {
   "cell_type": "code",
   "execution_count": 389,
   "id": "a1ee4c7b-4a9c-438c-9dbc-687d316fce5c",
   "metadata": {},
   "outputs": [
    {
     "data": {
      "text/plain": [
       "torch.Size([36, 100, 5])"
      ]
     },
     "execution_count": 389,
     "metadata": {},
     "output_type": "execute_result"
    }
   ],
   "source": []
  },
  {
   "cell_type": "code",
   "execution_count": null,
   "id": "11f62004-da5d-4b03-869a-71b8e740eb92",
   "metadata": {},
   "outputs": [],
   "source": []
  },
  {
   "cell_type": "code",
   "execution_count": null,
   "id": "f514dce0-92ec-4858-90d1-444566819558",
   "metadata": {},
   "outputs": [],
   "source": []
  },
  {
   "cell_type": "code",
   "execution_count": 350,
   "id": "ab74f078-c7cd-4be5-bb48-149db55b94ad",
   "metadata": {},
   "outputs": [],
   "source": [
    "neighbor_particles_t = torch.tensor(neighbor_particles_)"
   ]
  },
  {
   "cell_type": "code",
   "execution_count": 351,
   "id": "827d55be-e31b-4b12-b2ef-63b926a490e5",
   "metadata": {},
   "outputs": [],
   "source": [
    "center_particle_t = torch.tensor(center_particle)"
   ]
  },
  {
   "cell_type": "code",
   "execution_count": 352,
   "id": "e405fe6a-59c9-4730-85b6-6dde216ff1d3",
   "metadata": {},
   "outputs": [
    {
     "data": {
      "text/plain": [
       "(torch.Size([36, 100, 5]), torch.Size([36, 1]))"
      ]
     },
     "execution_count": 352,
     "metadata": {},
     "output_type": "execute_result"
    }
   ],
   "source": [
    "neighbor_particles_t.shape, center_particle_t.shape"
   ]
  },
  {
   "cell_type": "code",
   "execution_count": 390,
   "id": "8990df11-52d4-4f60-892e-d914b9d96784",
   "metadata": {},
   "outputs": [],
   "source": [
    "center_particle_t = data_norm(center_particle_t)"
   ]
  },
  {
   "cell_type": "code",
   "execution_count": 391,
   "id": "6c0558cb-0e2e-430d-93b7-87a3248884c7",
   "metadata": {},
   "outputs": [],
   "source": [
    "neighbor_particles_t = data_norm(neighbor_particles_t)"
   ]
  },
  {
   "cell_type": "code",
   "execution_count": null,
   "id": "903dd623-8b3b-4559-bfdd-e98241d8705e",
   "metadata": {},
   "outputs": [],
   "source": []
  },
  {
   "cell_type": "code",
   "execution_count": 357,
   "id": "b36c522a-fdff-49fc-a156-d6b78605ca32",
   "metadata": {},
   "outputs": [],
   "source": [
    "# 先尝试基本的神经网络\n",
    "#neighbor_nums = 100\n",
    "class FNN(nn.Module):\n",
    "    def __init__(self, input_dim, output_dim, hidden_dim, neighbor_nums):\n",
    "        super(FNN, self).__init__()\n",
    "        \n",
    "        layers = []\n",
    "        layers.append(nn.Linear(input_dim*neighbor_nums, hidden_dim))\n",
    "        layers.append(nn.ReLU(inplace=True))\n",
    "        \n",
    "        curr_dim = hidden_dim\n",
    "        for i in range(2):\n",
    "            layers.append(nn.Linear(curr_dim, curr_dim*2))\n",
    "            layers.append(nn.ReLU(inplace=True))\n",
    "            curr_dim = curr_dim*2\n",
    "            \n",
    "        layers.append(nn.Linear(curr_dim, curr_dim//2))\n",
    "        layers.append(nn.Tanh())\n",
    "        layers.append(nn.Linear(curr_dim//2, output_dim))\n",
    "        \n",
    "        self.main = nn.Sequential(*layers)\n",
    "    \n",
    "    def forward(self, x):\n",
    "        batch_nums = x.shape[0]\n",
    "        x = x.reshape(batch_nums, -1)\n",
    "        return self.main(x)\n",
    "    "
   ]
  },
  {
   "cell_type": "code",
   "execution_count": 358,
   "id": "d05310b6-8e4a-4dea-8369-eca20f86e0d9",
   "metadata": {},
   "outputs": [],
   "source": [
    "t = FNN(5, 1, 10, 100)"
   ]
  },
  {
   "cell_type": "code",
   "execution_count": 359,
   "id": "008224cf-2f48-499d-963e-a46188bb3834",
   "metadata": {},
   "outputs": [
    {
     "data": {
      "text/plain": [
       "FNN(\n",
       "  (main): Sequential(\n",
       "    (0): Linear(in_features=500, out_features=10, bias=True)\n",
       "    (1): ReLU(inplace=True)\n",
       "    (2): Linear(in_features=10, out_features=20, bias=True)\n",
       "    (3): ReLU(inplace=True)\n",
       "    (4): Linear(in_features=20, out_features=40, bias=True)\n",
       "    (5): ReLU(inplace=True)\n",
       "    (6): Linear(in_features=40, out_features=20, bias=True)\n",
       "    (7): Tanh()\n",
       "    (8): Linear(in_features=20, out_features=1, bias=True)\n",
       "  )\n",
       ")"
      ]
     },
     "execution_count": 359,
     "metadata": {},
     "output_type": "execute_result"
    }
   ],
   "source": [
    "t"
   ]
  },
  {
   "cell_type": "code",
   "execution_count": 360,
   "id": "106a2dfe-5b4e-49ff-84ab-392670728f75",
   "metadata": {},
   "outputs": [],
   "source": [
    "a = torch.Tensor(36, 100, 5)"
   ]
  },
  {
   "cell_type": "code",
   "execution_count": 362,
   "id": "e34a9951-e8f9-4163-b1b3-a2f93bc2673b",
   "metadata": {},
   "outputs": [
    {
     "data": {
      "text/plain": [
       "(torch.Size([36, 100, 5]), torch.Size([36, 1]))"
      ]
     },
     "execution_count": 362,
     "metadata": {},
     "output_type": "execute_result"
    }
   ],
   "source": [
    "a.shape, t(a).shape"
   ]
  },
  {
   "cell_type": "code",
   "execution_count": 336,
   "id": "6853e1c8-f16c-4bb2-a81a-82e1a91ac0e8",
   "metadata": {},
   "outputs": [
    {
     "data": {
      "text/plain": [
       "torch.Size([36, 600])"
      ]
     },
     "execution_count": 336,
     "metadata": {},
     "output_type": "execute_result"
    }
   ],
   "source": [
    "a.reshape(36,-1).shape"
   ]
  },
  {
   "cell_type": "code",
   "execution_count": null,
   "id": "48265e1d-6013-4208-bc2c-2c58bab8935a",
   "metadata": {},
   "outputs": [],
   "source": [
    "len(train_data)"
   ]
  },
  {
   "cell_type": "code",
   "execution_count": 381,
   "id": "15a9b0f6-6c94-47f9-843e-37891332499b",
   "metadata": {},
   "outputs": [],
   "source": [
    "batch_size = 2"
   ]
  },
  {
   "cell_type": "code",
   "execution_count": 282,
   "id": "ebec0ed4-4d3c-4270-baab-5a12fbdaa68f",
   "metadata": {},
   "outputs": [],
   "source": [
    "# vaild data\n",
    "testFiles_vaild = os.listdir('./dataset/vaild')\n",
    "center_particle_vaild = []\n",
    "particle_neighbor_particles_vaild = {}\n",
    "for file in testFiles_vaild:\n",
    "    filename = os.path.splitext(file)\n",
    "    # print(filename[0][:-9])\n",
    "    if filename[1] == '.hdf5':\n",
    "        path = os.path.join('./dataset/vaild', file)\n",
    "        # print(path)\n",
    "        center_particleID = filename[0]\n",
    "        f_center_particle = h5py.File('./snapshot_001.hdf5')\n",
    "        f_neighbor_particles = h5py.File(path)\n",
    "        \n",
    "        for p in f_center_particle['dataset']:\n",
    "            if p[0] == float(center_particleID):\n",
    "                # print(p)\n",
    "                # center_particle.append([p[0], p[1], p[2], p[5], p[6], p[9]])\n",
    "                center_particle_vaild.append([p[9]])\n",
    "                \n",
    "        particle_neighbor_particles_vaild[center_particleID] = []\n",
    "        k = 0\n",
    "        for p in f_neighbor_particles[center_particleID]:\n",
    "            # particle_neighbor_particles[center_particleID].append([p[0], p[1], p[2], p[5], p[6], p[9]])\n",
    "            particle_neighbor_particles_vaild[center_particleID].append([p[1], p[2], p[5], p[6], p[9]])\n",
    "            k += 1\n",
    "            if k == 100:\n",
    "                break\n",
    "                "
   ]
  },
  {
   "cell_type": "code",
   "execution_count": 283,
   "id": "a2f2ff86-3816-4e55-b210-e9246e4cf49f",
   "metadata": {},
   "outputs": [
    {
     "data": {
      "text/plain": [
       "82"
      ]
     },
     "execution_count": 283,
     "metadata": {},
     "output_type": "execute_result"
    }
   ],
   "source": [
    "len(center_particle_vaild)"
   ]
  },
  {
   "cell_type": "code",
   "execution_count": 284,
   "id": "444eefcf-f2d9-4a92-b5c7-89b8983ce74b",
   "metadata": {},
   "outputs": [
    {
     "data": {
      "text/plain": [
       "83"
      ]
     },
     "execution_count": 284,
     "metadata": {},
     "output_type": "execute_result"
    }
   ],
   "source": [
    "len(particle_neighbor_particles_vaild)"
   ]
  },
  {
   "cell_type": "code",
   "execution_count": 287,
   "id": "615dbccc-0e2d-4a46-baeb-f05f76051db3",
   "metadata": {},
   "outputs": [
    {
     "ename": "KeyError",
     "evalue": "'0'",
     "output_type": "error",
     "traceback": [
      "\u001b[0;31m---------------------------------------------------------------------------\u001b[0m",
      "\u001b[0;31mKeyError\u001b[0m                                  Traceback (most recent call last)",
      "Input \u001b[0;32mIn [287]\u001b[0m, in \u001b[0;36m<cell line: 1>\u001b[0;34m()\u001b[0m\n\u001b[0;32m----> 1\u001b[0m \u001b[38;5;28;01mdel\u001b[39;00m particle_neighbor_particles_vaild[\u001b[38;5;124m'\u001b[39m\u001b[38;5;124m0\u001b[39m\u001b[38;5;124m'\u001b[39m]\n",
      "\u001b[0;31mKeyError\u001b[0m: '0'"
     ]
    }
   ],
   "source": [
    "del particle_neighbor_particles_vaild['0']"
   ]
  },
  {
   "cell_type": "code",
   "execution_count": 288,
   "id": "06b5c15f-cf67-4480-8cfe-5547f17adfbd",
   "metadata": {},
   "outputs": [
    {
     "data": {
      "text/plain": [
       "82"
      ]
     },
     "execution_count": 288,
     "metadata": {},
     "output_type": "execute_result"
    }
   ],
   "source": [
    "len(particle_neighbor_particles_vaild)"
   ]
  },
  {
   "cell_type": "code",
   "execution_count": 289,
   "id": "3978c4e1-8cef-4bd5-b09b-fa0870636bfd",
   "metadata": {},
   "outputs": [],
   "source": [
    "neighbor_particles_vaild = []\n",
    "for key in particle_neighbor_particles_vaild.keys():\n",
    "    neighbor_particles_vaild.append([particle_neighbor_particles_vaild[key]])\n",
    "    \n",
    "neighbor_particles_vaild_ = []\n",
    "for i in range(len(neighbor_particles_vaild)):\n",
    "    neighbor_particles_vaild_.append(neighbor_particles_vaild[i][0][:])"
   ]
  },
  {
   "cell_type": "code",
   "execution_count": 290,
   "id": "2dedb79b-0595-44a8-900c-dc92e32e5235",
   "metadata": {},
   "outputs": [
    {
     "data": {
      "text/plain": [
       "82"
      ]
     },
     "execution_count": 290,
     "metadata": {},
     "output_type": "execute_result"
    }
   ],
   "source": [
    "len(neighbor_particles_vaild)"
   ]
  },
  {
   "cell_type": "code",
   "execution_count": 291,
   "id": "5d838f51-904a-4973-95da-ad899e49f132",
   "metadata": {},
   "outputs": [
    {
     "data": {
      "text/plain": [
       "82"
      ]
     },
     "execution_count": 291,
     "metadata": {},
     "output_type": "execute_result"
    }
   ],
   "source": [
    "len(neighbor_particles_vaild_)"
   ]
  },
  {
   "cell_type": "code",
   "execution_count": 392,
   "id": "426763fb-cbe7-4190-8bd6-8d4ecacbf0aa",
   "metadata": {},
   "outputs": [],
   "source": [
    "center_particle_vaild_t = data_norm(torch.tensor(center_particle_vaild))"
   ]
  },
  {
   "cell_type": "code",
   "execution_count": 393,
   "id": "c0583ce9-f33c-4595-9d66-585cd3032dc1",
   "metadata": {},
   "outputs": [],
   "source": [
    "neighbor_particles_vaild_t = data_norm(torch.tensor(neighbor_particles_vaild_))"
   ]
  },
  {
   "cell_type": "code",
   "execution_count": 394,
   "id": "26d3e99c-8d69-4fb3-b248-4e356b0e2751",
   "metadata": {},
   "outputs": [],
   "source": [
    "# dataset\n",
    "train_data = Dateset_sph(neighbor_particles_t, center_particle_t)\n",
    "valid_data = Dateset_sph(neighbor_particles_vaild_t, center_particle_vaild_t)"
   ]
  },
  {
   "cell_type": "code",
   "execution_count": 395,
   "id": "d42e8e06-9bf4-4067-98e8-93e95fdfb170",
   "metadata": {},
   "outputs": [],
   "source": [
    "train_iter = DataLoader(train_data, batch_size=batch_size, shuffle=True, drop_last=True)\n",
    "valid_iter = DataLoader(vaild_data, batch_size=batch_size, shuffle=False, drop_last=False)"
   ]
  },
  {
   "cell_type": "code",
   "execution_count": 396,
   "id": "e1d014ac-d703-4c55-9102-fe3d9f0cd9cc",
   "metadata": {},
   "outputs": [
    {
     "data": {
      "text/plain": [
       "(18, 41)"
      ]
     },
     "execution_count": 396,
     "metadata": {},
     "output_type": "execute_result"
    }
   ],
   "source": [
    "len(train_iter), len(valid_iter)"
   ]
  },
  {
   "cell_type": "code",
   "execution_count": 366,
   "id": "7ac55765-9d31-45c2-898b-e3bcc42bb2d5",
   "metadata": {},
   "outputs": [],
   "source": [
    "def get_net():\n",
    "    net = FNN(5, 1, 10,100)\n",
    "    return net"
   ]
  },
  {
   "cell_type": "code",
   "execution_count": 367,
   "id": "18847bbc-6ccd-4e4d-8118-d05494dad46a",
   "metadata": {},
   "outputs": [],
   "source": [
    "loss = nn.MSELoss(reduction='none')\n",
    "\n",
    "def evaluate_loss(data_iter, net, devices):\n",
    "    l_sum, n = 0.0, 0\n",
    "    for features, labels in data_iter:\n",
    "        features, labels = features.to(devices[0]), labels.to(devices[0])\n",
    "        outputs = net(features)\n",
    "        l = loss(outputs, labels)\n",
    "        l_sum += l.sum()\n",
    "        n += labels.numel()\n",
    "    return (l_sum / n).to('cpu')"
   ]
  },
  {
   "cell_type": "code",
   "execution_count": 368,
   "id": "e02a6345-b14e-464b-af46-d6276756b421",
   "metadata": {},
   "outputs": [],
   "source": [
    "def train(net, train_iter, valid_iter, num_epochs, lr, wd, devices, lr_period,\n",
    "          lr_decay):\n",
    "    trainer = torch.optim.SGD(net.parameters(), lr=lr, momentum=0.9,\n",
    "                              weight_decay=wd)\n",
    "    scheduler = torch.optim.lr_scheduler.StepLR(trainer, lr_period, lr_decay)\n",
    "    num_batches, timer = len(train_iter), d2l.Timer()\n",
    "    legend = ['train loss', 'train acc']\n",
    "    if valid_iter is not None:\n",
    "        legend.append('valid acc')\n",
    "    animator = d2l.Animator(xlabel='epoch', xlim=[1, num_epochs],\n",
    "                            legend=legend)\n",
    "    net = nn.DataParallel(net, device_ids=devices).to(devices[0])\n",
    "    for epoch in range(num_epochs):\n",
    "        net.train()\n",
    "        metric = d2l.Accumulator(3)\n",
    "        for i, (features, labels) in enumerate(train_iter):\n",
    "            timer.start()\n",
    "#             l, acc = d2l.train_batch_ch13(net, features, labels,\n",
    "#                                           loss, trainer, devices)\n",
    "            l, acc = train_batch(net, features, labels,\n",
    "                                loss, trainer, devices)\n",
    "            metric.add(l, acc, labels.shape[0])\n",
    "            timer.stop()\n",
    "            if (i + 1) % (num_batches // 5) == 0 or i == num_batches - 1:\n",
    "                animator.add(epoch + (i + 1) / num_batches,\n",
    "                             (metric[0] / metric[2], metric[1] / metric[2],\n",
    "                              None))\n",
    "        if valid_iter is not None:\n",
    "            valid_acc = d2l.evaluate_accuracy_gpu(net, valid_iter)\n",
    "            animator.add(epoch + 1, (None, None, valid_acc))\n",
    "        scheduler.step()\n",
    "    measures = (f'train loss {metric[0] / metric[2]:.3f}, '\n",
    "                f'train acc {metric[1] / metric[2]:.3f}')\n",
    "    if valid_iter is not None:\n",
    "        measures += f', valid acc {valid_acc:.3f}'\n",
    "    print(measures + f'\\n{metric[2] * num_epochs / timer.sum():.1f}'\n",
    "          f' examples/sec on {str(devices)}')"
   ]
  },
  {
   "cell_type": "code",
   "execution_count": 369,
   "id": "dd646fe0-f3d5-4e91-a026-d5f9bb666140",
   "metadata": {},
   "outputs": [],
   "source": [
    "def train_batch(net, X, y, loss, trainer, devices):\n",
    "    if isinstance(X, list):\n",
    "        # Required for BERT fine-tuning (to be covered later)\n",
    "        X = [x.to(devices[0]) for x in X]\n",
    "    else:\n",
    "        X = X.to(devices[0])\n",
    "    y = y.to(devices[0])\n",
    "    net.train()\n",
    "    trainer.zero_grad()\n",
    "    pred = net(X)\n",
    "    l = loss(pred, y)\n",
    "    l.sum().backward()\n",
    "    trainer.step()\n",
    "    train_loss_sum = l.sum()\n",
    "    train_acc_sum = accuracy(pred, y, 0.05)\n",
    "    return train_loss_sum, train_acc_sum"
   ]
  },
  {
   "cell_type": "code",
   "execution_count": 373,
   "id": "478377d8-bbdd-4f11-8350-36d126475c0d",
   "metadata": {},
   "outputs": [],
   "source": [
    "def accuracy(y_hat, y, target):\n",
    "    if len(y_hat.shape) > 1 and y_hat.shape[1] > 1:\n",
    "        y_hat = d2l.argmax(y_hat, axis=1)\n",
    "    cmp = (torch.abs(d2l.astype(y_hat, y.dtype) - y) <= target)\n",
    "    return float(d2l.reduce_sum(d2l.astype(cmp, y.dtype)))"
   ]
  },
  {
   "cell_type": "code",
   "execution_count": 397,
   "id": "c8fde0b9-b85e-4e27-bcec-6432b8eb1ca6",
   "metadata": {},
   "outputs": [
    {
     "name": "stdout",
     "output_type": "stream",
     "text": [
      "train loss nan, train acc 0.000, valid acc 0.000\n",
      "624.3 examples/sec on [device(type='cuda', index=0)]\n"
     ]
    },
    {
     "data": {
      "image/svg+xml": [
       "<?xml version=\"1.0\" encoding=\"utf-8\" standalone=\"no\"?>\n",
       "<!DOCTYPE svg PUBLIC \"-//W3C//DTD SVG 1.1//EN\"\n",
       "  \"http://www.w3.org/Graphics/SVG/1.1/DTD/svg11.dtd\">\n",
       "<svg xmlns:xlink=\"http://www.w3.org/1999/xlink\" width=\"253.707812pt\" height=\"180.65625pt\" viewBox=\"0 0 253.707812 180.65625\" xmlns=\"http://www.w3.org/2000/svg\" version=\"1.1\">\n",
       " <metadata>\n",
       "  <rdf:RDF xmlns:dc=\"http://purl.org/dc/elements/1.1/\" xmlns:cc=\"http://creativecommons.org/ns#\" xmlns:rdf=\"http://www.w3.org/1999/02/22-rdf-syntax-ns#\">\n",
       "   <cc:Work>\n",
       "    <dc:type rdf:resource=\"http://purl.org/dc/dcmitype/StillImage\"/>\n",
       "    <dc:date>2022-08-24T16:01:27.352511</dc:date>\n",
       "    <dc:format>image/svg+xml</dc:format>\n",
       "    <dc:creator>\n",
       "     <cc:Agent>\n",
       "      <dc:title>Matplotlib v3.5.1, https://matplotlib.org/</dc:title>\n",
       "     </cc:Agent>\n",
       "    </dc:creator>\n",
       "   </cc:Work>\n",
       "  </rdf:RDF>\n",
       " </metadata>\n",
       " <defs>\n",
       "  <style type=\"text/css\">*{stroke-linejoin: round; stroke-linecap: butt}</style>\n",
       " </defs>\n",
       " <g id=\"figure_1\">\n",
       "  <g id=\"patch_1\">\n",
       "   <path d=\"M 0 180.65625 \n",
       "L 253.707812 180.65625 \n",
       "L 253.707812 0 \n",
       "L 0 0 \n",
       "L 0 180.65625 \n",
       "z\n",
       "\" style=\"fill: none\"/>\n",
       "  </g>\n",
       "  <g id=\"axes_1\">\n",
       "   <g id=\"patch_2\">\n",
       "    <path d=\"M 44.845312 143.1 \n",
       "L 240.145312 143.1 \n",
       "L 240.145312 7.2 \n",
       "L 44.845312 7.2 \n",
       "z\n",
       "\" style=\"fill: #ffffff\"/>\n",
       "   </g>\n",
       "   <g id=\"matplotlib.axis_1\">\n",
       "    <g id=\"xtick_1\">\n",
       "     <g id=\"line2d_1\">\n",
       "      <path d=\"M 85.961102 143.1 \n",
       "L 85.961102 7.2 \n",
       "\" clip-path=\"url(#pf046e08488)\" style=\"fill: none; stroke: #b0b0b0; stroke-width: 0.8; stroke-linecap: square\"/>\n",
       "     </g>\n",
       "     <g id=\"line2d_2\">\n",
       "      <defs>\n",
       "       <path id=\"m3d9e5dc370\" d=\"M 0 0 \n",
       "L 0 3.5 \n",
       "\" style=\"stroke: #000000; stroke-width: 0.8\"/>\n",
       "      </defs>\n",
       "      <g>\n",
       "       <use xlink:href=\"#m3d9e5dc370\" x=\"85.961102\" y=\"143.1\" style=\"stroke: #000000; stroke-width: 0.8\"/>\n",
       "      </g>\n",
       "     </g>\n",
       "     <g id=\"text_1\">\n",
       "      <!-- 5 -->\n",
       "      <g transform=\"translate(82.779852 157.698438)scale(0.1 -0.1)\">\n",
       "       <defs>\n",
       "        <path id=\"DejaVuSans-35\" d=\"M 691 4666 \n",
       "L 3169 4666 \n",
       "L 3169 4134 \n",
       "L 1269 4134 \n",
       "L 1269 2991 \n",
       "Q 1406 3038 1543 3061 \n",
       "Q 1681 3084 1819 3084 \n",
       "Q 2600 3084 3056 2656 \n",
       "Q 3513 2228 3513 1497 \n",
       "Q 3513 744 3044 326 \n",
       "Q 2575 -91 1722 -91 \n",
       "Q 1428 -91 1123 -41 \n",
       "Q 819 9 494 109 \n",
       "L 494 744 \n",
       "Q 775 591 1075 516 \n",
       "Q 1375 441 1709 441 \n",
       "Q 2250 441 2565 725 \n",
       "Q 2881 1009 2881 1497 \n",
       "Q 2881 1984 2565 2268 \n",
       "Q 2250 2553 1709 2553 \n",
       "Q 1456 2553 1204 2497 \n",
       "Q 953 2441 691 2322 \n",
       "L 691 4666 \n",
       "z\n",
       "\" transform=\"scale(0.015625)\"/>\n",
       "       </defs>\n",
       "       <use xlink:href=\"#DejaVuSans-35\"/>\n",
       "      </g>\n",
       "     </g>\n",
       "    </g>\n",
       "    <g id=\"xtick_2\">\n",
       "     <g id=\"line2d_3\">\n",
       "      <path d=\"M 137.355839 143.1 \n",
       "L 137.355839 7.2 \n",
       "\" clip-path=\"url(#pf046e08488)\" style=\"fill: none; stroke: #b0b0b0; stroke-width: 0.8; stroke-linecap: square\"/>\n",
       "     </g>\n",
       "     <g id=\"line2d_4\">\n",
       "      <g>\n",
       "       <use xlink:href=\"#m3d9e5dc370\" x=\"137.355839\" y=\"143.1\" style=\"stroke: #000000; stroke-width: 0.8\"/>\n",
       "      </g>\n",
       "     </g>\n",
       "     <g id=\"text_2\">\n",
       "      <!-- 10 -->\n",
       "      <g transform=\"translate(130.993339 157.698438)scale(0.1 -0.1)\">\n",
       "       <defs>\n",
       "        <path id=\"DejaVuSans-31\" d=\"M 794 531 \n",
       "L 1825 531 \n",
       "L 1825 4091 \n",
       "L 703 3866 \n",
       "L 703 4441 \n",
       "L 1819 4666 \n",
       "L 2450 4666 \n",
       "L 2450 531 \n",
       "L 3481 531 \n",
       "L 3481 0 \n",
       "L 794 0 \n",
       "L 794 531 \n",
       "z\n",
       "\" transform=\"scale(0.015625)\"/>\n",
       "        <path id=\"DejaVuSans-30\" d=\"M 2034 4250 \n",
       "Q 1547 4250 1301 3770 \n",
       "Q 1056 3291 1056 2328 \n",
       "Q 1056 1369 1301 889 \n",
       "Q 1547 409 2034 409 \n",
       "Q 2525 409 2770 889 \n",
       "Q 3016 1369 3016 2328 \n",
       "Q 3016 3291 2770 3770 \n",
       "Q 2525 4250 2034 4250 \n",
       "z\n",
       "M 2034 4750 \n",
       "Q 2819 4750 3233 4129 \n",
       "Q 3647 3509 3647 2328 \n",
       "Q 3647 1150 3233 529 \n",
       "Q 2819 -91 2034 -91 \n",
       "Q 1250 -91 836 529 \n",
       "Q 422 1150 422 2328 \n",
       "Q 422 3509 836 4129 \n",
       "Q 1250 4750 2034 4750 \n",
       "z\n",
       "\" transform=\"scale(0.015625)\"/>\n",
       "       </defs>\n",
       "       <use xlink:href=\"#DejaVuSans-31\"/>\n",
       "       <use xlink:href=\"#DejaVuSans-30\" x=\"63.623047\"/>\n",
       "      </g>\n",
       "     </g>\n",
       "    </g>\n",
       "    <g id=\"xtick_3\">\n",
       "     <g id=\"line2d_5\">\n",
       "      <path d=\"M 188.750576 143.1 \n",
       "L 188.750576 7.2 \n",
       "\" clip-path=\"url(#pf046e08488)\" style=\"fill: none; stroke: #b0b0b0; stroke-width: 0.8; stroke-linecap: square\"/>\n",
       "     </g>\n",
       "     <g id=\"line2d_6\">\n",
       "      <g>\n",
       "       <use xlink:href=\"#m3d9e5dc370\" x=\"188.750576\" y=\"143.1\" style=\"stroke: #000000; stroke-width: 0.8\"/>\n",
       "      </g>\n",
       "     </g>\n",
       "     <g id=\"text_3\">\n",
       "      <!-- 15 -->\n",
       "      <g transform=\"translate(182.388076 157.698438)scale(0.1 -0.1)\">\n",
       "       <use xlink:href=\"#DejaVuSans-31\"/>\n",
       "       <use xlink:href=\"#DejaVuSans-35\" x=\"63.623047\"/>\n",
       "      </g>\n",
       "     </g>\n",
       "    </g>\n",
       "    <g id=\"xtick_4\">\n",
       "     <g id=\"line2d_7\">\n",
       "      <path d=\"M 240.145312 143.1 \n",
       "L 240.145312 7.2 \n",
       "\" clip-path=\"url(#pf046e08488)\" style=\"fill: none; stroke: #b0b0b0; stroke-width: 0.8; stroke-linecap: square\"/>\n",
       "     </g>\n",
       "     <g id=\"line2d_8\">\n",
       "      <g>\n",
       "       <use xlink:href=\"#m3d9e5dc370\" x=\"240.145312\" y=\"143.1\" style=\"stroke: #000000; stroke-width: 0.8\"/>\n",
       "      </g>\n",
       "     </g>\n",
       "     <g id=\"text_4\">\n",
       "      <!-- 20 -->\n",
       "      <g transform=\"translate(233.782812 157.698438)scale(0.1 -0.1)\">\n",
       "       <defs>\n",
       "        <path id=\"DejaVuSans-32\" d=\"M 1228 531 \n",
       "L 3431 531 \n",
       "L 3431 0 \n",
       "L 469 0 \n",
       "L 469 531 \n",
       "Q 828 903 1448 1529 \n",
       "Q 2069 2156 2228 2338 \n",
       "Q 2531 2678 2651 2914 \n",
       "Q 2772 3150 2772 3378 \n",
       "Q 2772 3750 2511 3984 \n",
       "Q 2250 4219 1831 4219 \n",
       "Q 1534 4219 1204 4116 \n",
       "Q 875 4013 500 3803 \n",
       "L 500 4441 \n",
       "Q 881 4594 1212 4672 \n",
       "Q 1544 4750 1819 4750 \n",
       "Q 2544 4750 2975 4387 \n",
       "Q 3406 4025 3406 3419 \n",
       "Q 3406 3131 3298 2873 \n",
       "Q 3191 2616 2906 2266 \n",
       "Q 2828 2175 2409 1742 \n",
       "Q 1991 1309 1228 531 \n",
       "z\n",
       "\" transform=\"scale(0.015625)\"/>\n",
       "       </defs>\n",
       "       <use xlink:href=\"#DejaVuSans-32\"/>\n",
       "       <use xlink:href=\"#DejaVuSans-30\" x=\"63.623047\"/>\n",
       "      </g>\n",
       "     </g>\n",
       "    </g>\n",
       "    <g id=\"text_5\">\n",
       "     <!-- epoch -->\n",
       "     <g transform=\"translate(127.267187 171.376563)scale(0.1 -0.1)\">\n",
       "      <defs>\n",
       "       <path id=\"DejaVuSans-65\" d=\"M 3597 1894 \n",
       "L 3597 1613 \n",
       "L 953 1613 \n",
       "Q 991 1019 1311 708 \n",
       "Q 1631 397 2203 397 \n",
       "Q 2534 397 2845 478 \n",
       "Q 3156 559 3463 722 \n",
       "L 3463 178 \n",
       "Q 3153 47 2828 -22 \n",
       "Q 2503 -91 2169 -91 \n",
       "Q 1331 -91 842 396 \n",
       "Q 353 884 353 1716 \n",
       "Q 353 2575 817 3079 \n",
       "Q 1281 3584 2069 3584 \n",
       "Q 2775 3584 3186 3129 \n",
       "Q 3597 2675 3597 1894 \n",
       "z\n",
       "M 3022 2063 \n",
       "Q 3016 2534 2758 2815 \n",
       "Q 2500 3097 2075 3097 \n",
       "Q 1594 3097 1305 2825 \n",
       "Q 1016 2553 972 2059 \n",
       "L 3022 2063 \n",
       "z\n",
       "\" transform=\"scale(0.015625)\"/>\n",
       "       <path id=\"DejaVuSans-70\" d=\"M 1159 525 \n",
       "L 1159 -1331 \n",
       "L 581 -1331 \n",
       "L 581 3500 \n",
       "L 1159 3500 \n",
       "L 1159 2969 \n",
       "Q 1341 3281 1617 3432 \n",
       "Q 1894 3584 2278 3584 \n",
       "Q 2916 3584 3314 3078 \n",
       "Q 3713 2572 3713 1747 \n",
       "Q 3713 922 3314 415 \n",
       "Q 2916 -91 2278 -91 \n",
       "Q 1894 -91 1617 61 \n",
       "Q 1341 213 1159 525 \n",
       "z\n",
       "M 3116 1747 \n",
       "Q 3116 2381 2855 2742 \n",
       "Q 2594 3103 2138 3103 \n",
       "Q 1681 3103 1420 2742 \n",
       "Q 1159 2381 1159 1747 \n",
       "Q 1159 1113 1420 752 \n",
       "Q 1681 391 2138 391 \n",
       "Q 2594 391 2855 752 \n",
       "Q 3116 1113 3116 1747 \n",
       "z\n",
       "\" transform=\"scale(0.015625)\"/>\n",
       "       <path id=\"DejaVuSans-6f\" d=\"M 1959 3097 \n",
       "Q 1497 3097 1228 2736 \n",
       "Q 959 2375 959 1747 \n",
       "Q 959 1119 1226 758 \n",
       "Q 1494 397 1959 397 \n",
       "Q 2419 397 2687 759 \n",
       "Q 2956 1122 2956 1747 \n",
       "Q 2956 2369 2687 2733 \n",
       "Q 2419 3097 1959 3097 \n",
       "z\n",
       "M 1959 3584 \n",
       "Q 2709 3584 3137 3096 \n",
       "Q 3566 2609 3566 1747 \n",
       "Q 3566 888 3137 398 \n",
       "Q 2709 -91 1959 -91 \n",
       "Q 1206 -91 779 398 \n",
       "Q 353 888 353 1747 \n",
       "Q 353 2609 779 3096 \n",
       "Q 1206 3584 1959 3584 \n",
       "z\n",
       "\" transform=\"scale(0.015625)\"/>\n",
       "       <path id=\"DejaVuSans-63\" d=\"M 3122 3366 \n",
       "L 3122 2828 \n",
       "Q 2878 2963 2633 3030 \n",
       "Q 2388 3097 2138 3097 \n",
       "Q 1578 3097 1268 2742 \n",
       "Q 959 2388 959 1747 \n",
       "Q 959 1106 1268 751 \n",
       "Q 1578 397 2138 397 \n",
       "Q 2388 397 2633 464 \n",
       "Q 2878 531 3122 666 \n",
       "L 3122 134 \n",
       "Q 2881 22 2623 -34 \n",
       "Q 2366 -91 2075 -91 \n",
       "Q 1284 -91 818 406 \n",
       "Q 353 903 353 1747 \n",
       "Q 353 2603 823 3093 \n",
       "Q 1294 3584 2113 3584 \n",
       "Q 2378 3584 2631 3529 \n",
       "Q 2884 3475 3122 3366 \n",
       "z\n",
       "\" transform=\"scale(0.015625)\"/>\n",
       "       <path id=\"DejaVuSans-68\" d=\"M 3513 2113 \n",
       "L 3513 0 \n",
       "L 2938 0 \n",
       "L 2938 2094 \n",
       "Q 2938 2591 2744 2837 \n",
       "Q 2550 3084 2163 3084 \n",
       "Q 1697 3084 1428 2787 \n",
       "Q 1159 2491 1159 1978 \n",
       "L 1159 0 \n",
       "L 581 0 \n",
       "L 581 4863 \n",
       "L 1159 4863 \n",
       "L 1159 2956 \n",
       "Q 1366 3272 1645 3428 \n",
       "Q 1925 3584 2291 3584 \n",
       "Q 2894 3584 3203 3211 \n",
       "Q 3513 2838 3513 2113 \n",
       "z\n",
       "\" transform=\"scale(0.015625)\"/>\n",
       "      </defs>\n",
       "      <use xlink:href=\"#DejaVuSans-65\"/>\n",
       "      <use xlink:href=\"#DejaVuSans-70\" x=\"61.523438\"/>\n",
       "      <use xlink:href=\"#DejaVuSans-6f\" x=\"125\"/>\n",
       "      <use xlink:href=\"#DejaVuSans-63\" x=\"186.181641\"/>\n",
       "      <use xlink:href=\"#DejaVuSans-68\" x=\"241.162109\"/>\n",
       "     </g>\n",
       "    </g>\n",
       "   </g>\n",
       "   <g id=\"matplotlib.axis_2\">\n",
       "    <g id=\"ytick_1\">\n",
       "     <g id=\"line2d_9\">\n",
       "      <path d=\"M 44.845312 124.568182 \n",
       "L 240.145312 124.568182 \n",
       "\" clip-path=\"url(#pf046e08488)\" style=\"fill: none; stroke: #b0b0b0; stroke-width: 0.8; stroke-linecap: square\"/>\n",
       "     </g>\n",
       "     <g id=\"line2d_10\">\n",
       "      <defs>\n",
       "       <path id=\"m608d9aeb0a\" d=\"M 0 0 \n",
       "L -3.5 0 \n",
       "\" style=\"stroke: #000000; stroke-width: 0.8\"/>\n",
       "      </defs>\n",
       "      <g>\n",
       "       <use xlink:href=\"#m608d9aeb0a\" x=\"44.845312\" y=\"124.568182\" style=\"stroke: #000000; stroke-width: 0.8\"/>\n",
       "      </g>\n",
       "     </g>\n",
       "     <g id=\"text_6\">\n",
       "      <!-- −0.04 -->\n",
       "      <g transform=\"translate(7.2 128.367401)scale(0.1 -0.1)\">\n",
       "       <defs>\n",
       "        <path id=\"DejaVuSans-2212\" d=\"M 678 2272 \n",
       "L 4684 2272 \n",
       "L 4684 1741 \n",
       "L 678 1741 \n",
       "L 678 2272 \n",
       "z\n",
       "\" transform=\"scale(0.015625)\"/>\n",
       "        <path id=\"DejaVuSans-2e\" d=\"M 684 794 \n",
       "L 1344 794 \n",
       "L 1344 0 \n",
       "L 684 0 \n",
       "L 684 794 \n",
       "z\n",
       "\" transform=\"scale(0.015625)\"/>\n",
       "        <path id=\"DejaVuSans-34\" d=\"M 2419 4116 \n",
       "L 825 1625 \n",
       "L 2419 1625 \n",
       "L 2419 4116 \n",
       "z\n",
       "M 2253 4666 \n",
       "L 3047 4666 \n",
       "L 3047 1625 \n",
       "L 3713 1625 \n",
       "L 3713 1100 \n",
       "L 3047 1100 \n",
       "L 3047 0 \n",
       "L 2419 0 \n",
       "L 2419 1100 \n",
       "L 313 1100 \n",
       "L 313 1709 \n",
       "L 2253 4666 \n",
       "z\n",
       "\" transform=\"scale(0.015625)\"/>\n",
       "       </defs>\n",
       "       <use xlink:href=\"#DejaVuSans-2212\"/>\n",
       "       <use xlink:href=\"#DejaVuSans-30\" x=\"83.789062\"/>\n",
       "       <use xlink:href=\"#DejaVuSans-2e\" x=\"147.412109\"/>\n",
       "       <use xlink:href=\"#DejaVuSans-30\" x=\"179.199219\"/>\n",
       "       <use xlink:href=\"#DejaVuSans-34\" x=\"242.822266\"/>\n",
       "      </g>\n",
       "     </g>\n",
       "    </g>\n",
       "    <g id=\"ytick_2\">\n",
       "     <g id=\"line2d_11\">\n",
       "      <path d=\"M 44.845312 99.859091 \n",
       "L 240.145312 99.859091 \n",
       "\" clip-path=\"url(#pf046e08488)\" style=\"fill: none; stroke: #b0b0b0; stroke-width: 0.8; stroke-linecap: square\"/>\n",
       "     </g>\n",
       "     <g id=\"line2d_12\">\n",
       "      <g>\n",
       "       <use xlink:href=\"#m608d9aeb0a\" x=\"44.845312\" y=\"99.859091\" style=\"stroke: #000000; stroke-width: 0.8\"/>\n",
       "      </g>\n",
       "     </g>\n",
       "     <g id=\"text_7\">\n",
       "      <!-- −0.02 -->\n",
       "      <g transform=\"translate(7.2 103.65831)scale(0.1 -0.1)\">\n",
       "       <use xlink:href=\"#DejaVuSans-2212\"/>\n",
       "       <use xlink:href=\"#DejaVuSans-30\" x=\"83.789062\"/>\n",
       "       <use xlink:href=\"#DejaVuSans-2e\" x=\"147.412109\"/>\n",
       "       <use xlink:href=\"#DejaVuSans-30\" x=\"179.199219\"/>\n",
       "       <use xlink:href=\"#DejaVuSans-32\" x=\"242.822266\"/>\n",
       "      </g>\n",
       "     </g>\n",
       "    </g>\n",
       "    <g id=\"ytick_3\">\n",
       "     <g id=\"line2d_13\">\n",
       "      <path d=\"M 44.845312 75.15 \n",
       "L 240.145312 75.15 \n",
       "\" clip-path=\"url(#pf046e08488)\" style=\"fill: none; stroke: #b0b0b0; stroke-width: 0.8; stroke-linecap: square\"/>\n",
       "     </g>\n",
       "     <g id=\"line2d_14\">\n",
       "      <g>\n",
       "       <use xlink:href=\"#m608d9aeb0a\" x=\"44.845312\" y=\"75.15\" style=\"stroke: #000000; stroke-width: 0.8\"/>\n",
       "      </g>\n",
       "     </g>\n",
       "     <g id=\"text_8\">\n",
       "      <!-- 0.00 -->\n",
       "      <g transform=\"translate(15.579687 78.949219)scale(0.1 -0.1)\">\n",
       "       <use xlink:href=\"#DejaVuSans-30\"/>\n",
       "       <use xlink:href=\"#DejaVuSans-2e\" x=\"63.623047\"/>\n",
       "       <use xlink:href=\"#DejaVuSans-30\" x=\"95.410156\"/>\n",
       "       <use xlink:href=\"#DejaVuSans-30\" x=\"159.033203\"/>\n",
       "      </g>\n",
       "     </g>\n",
       "    </g>\n",
       "    <g id=\"ytick_4\">\n",
       "     <g id=\"line2d_15\">\n",
       "      <path d=\"M 44.845312 50.440909 \n",
       "L 240.145312 50.440909 \n",
       "\" clip-path=\"url(#pf046e08488)\" style=\"fill: none; stroke: #b0b0b0; stroke-width: 0.8; stroke-linecap: square\"/>\n",
       "     </g>\n",
       "     <g id=\"line2d_16\">\n",
       "      <g>\n",
       "       <use xlink:href=\"#m608d9aeb0a\" x=\"44.845312\" y=\"50.440909\" style=\"stroke: #000000; stroke-width: 0.8\"/>\n",
       "      </g>\n",
       "     </g>\n",
       "     <g id=\"text_9\">\n",
       "      <!-- 0.02 -->\n",
       "      <g transform=\"translate(15.579687 54.240128)scale(0.1 -0.1)\">\n",
       "       <use xlink:href=\"#DejaVuSans-30\"/>\n",
       "       <use xlink:href=\"#DejaVuSans-2e\" x=\"63.623047\"/>\n",
       "       <use xlink:href=\"#DejaVuSans-30\" x=\"95.410156\"/>\n",
       "       <use xlink:href=\"#DejaVuSans-32\" x=\"159.033203\"/>\n",
       "      </g>\n",
       "     </g>\n",
       "    </g>\n",
       "    <g id=\"ytick_5\">\n",
       "     <g id=\"line2d_17\">\n",
       "      <path d=\"M 44.845312 25.731818 \n",
       "L 240.145312 25.731818 \n",
       "\" clip-path=\"url(#pf046e08488)\" style=\"fill: none; stroke: #b0b0b0; stroke-width: 0.8; stroke-linecap: square\"/>\n",
       "     </g>\n",
       "     <g id=\"line2d_18\">\n",
       "      <g>\n",
       "       <use xlink:href=\"#m608d9aeb0a\" x=\"44.845312\" y=\"25.731818\" style=\"stroke: #000000; stroke-width: 0.8\"/>\n",
       "      </g>\n",
       "     </g>\n",
       "     <g id=\"text_10\">\n",
       "      <!-- 0.04 -->\n",
       "      <g transform=\"translate(15.579687 29.531037)scale(0.1 -0.1)\">\n",
       "       <use xlink:href=\"#DejaVuSans-30\"/>\n",
       "       <use xlink:href=\"#DejaVuSans-2e\" x=\"63.623047\"/>\n",
       "       <use xlink:href=\"#DejaVuSans-30\" x=\"95.410156\"/>\n",
       "       <use xlink:href=\"#DejaVuSans-34\" x=\"159.033203\"/>\n",
       "      </g>\n",
       "     </g>\n",
       "    </g>\n",
       "   </g>\n",
       "   <g id=\"line2d_19\">\n",
       "    <path clip-path=\"url(#pf046e08488)\" style=\"fill: none; stroke: #1f77b4; stroke-width: 1.5; stroke-linecap: square\"/>\n",
       "   </g>\n",
       "   <g id=\"line2d_20\">\n",
       "    <path d=\"M 36.279523 75.15 \n",
       "L 37.992681 75.15 \n",
       "L 39.705839 75.15 \n",
       "L 41.418997 75.15 \n",
       "L 43.132155 75.15 \n",
       "L 44.845312 75.15 \n",
       "L 46.55847 75.15 \n",
       "L 48.271628 75.15 \n",
       "L 49.984786 75.15 \n",
       "L 51.697944 75.15 \n",
       "L 53.411102 75.15 \n",
       "L 55.12426 75.15 \n",
       "L 56.837418 75.15 \n",
       "L 58.550576 75.15 \n",
       "L 60.263734 75.15 \n",
       "L 61.976891 75.15 \n",
       "L 63.690049 75.15 \n",
       "L 65.403207 75.15 \n",
       "L 67.116365 75.15 \n",
       "L 68.829523 75.15 \n",
       "L 70.542681 75.15 \n",
       "L 72.255839 75.15 \n",
       "L 73.968997 75.15 \n",
       "L 75.682155 75.15 \n",
       "L 77.395312 75.15 \n",
       "L 79.10847 75.15 \n",
       "L 80.821628 75.15 \n",
       "L 82.534786 75.15 \n",
       "L 84.247944 75.15 \n",
       "L 85.961102 75.15 \n",
       "L 87.67426 75.15 \n",
       "L 89.387418 75.15 \n",
       "L 91.100576 75.15 \n",
       "L 92.813734 75.15 \n",
       "L 94.526891 75.15 \n",
       "L 96.240049 75.15 \n",
       "L 97.953207 75.15 \n",
       "L 99.666365 75.15 \n",
       "L 101.379523 75.15 \n",
       "L 103.092681 75.15 \n",
       "L 104.805839 75.15 \n",
       "L 106.518997 75.15 \n",
       "L 108.232155 75.15 \n",
       "L 109.945312 75.15 \n",
       "L 111.65847 75.15 \n",
       "L 113.371628 75.15 \n",
       "L 115.084786 75.15 \n",
       "L 116.797944 75.15 \n",
       "L 118.511102 75.15 \n",
       "L 120.22426 75.15 \n",
       "L 121.937418 75.15 \n",
       "L 123.650576 75.15 \n",
       "L 125.363734 75.15 \n",
       "L 127.076891 75.15 \n",
       "L 128.790049 75.15 \n",
       "L 130.503207 75.15 \n",
       "L 132.216365 75.15 \n",
       "L 133.929523 75.15 \n",
       "L 135.642681 75.15 \n",
       "L 137.355839 75.15 \n",
       "L 139.068997 75.15 \n",
       "L 140.782155 75.15 \n",
       "L 142.495312 75.15 \n",
       "L 144.20847 75.15 \n",
       "L 145.921628 75.15 \n",
       "L 147.634786 75.15 \n",
       "L 149.347944 75.15 \n",
       "L 151.061102 75.15 \n",
       "L 152.77426 75.15 \n",
       "L 154.487418 75.15 \n",
       "L 156.200576 75.15 \n",
       "L 157.913734 75.15 \n",
       "L 159.626891 75.15 \n",
       "L 161.340049 75.15 \n",
       "L 163.053207 75.15 \n",
       "L 164.766365 75.15 \n",
       "L 166.479523 75.15 \n",
       "L 168.192681 75.15 \n",
       "L 169.905839 75.15 \n",
       "L 171.618997 75.15 \n",
       "L 173.332155 75.15 \n",
       "L 175.045312 75.15 \n",
       "L 176.75847 75.15 \n",
       "L 178.471628 75.15 \n",
       "L 180.184786 75.15 \n",
       "L 181.897944 75.15 \n",
       "L 183.611102 75.15 \n",
       "L 185.32426 75.15 \n",
       "L 187.037418 75.15 \n",
       "L 188.750576 75.15 \n",
       "L 190.463734 75.15 \n",
       "L 192.176891 75.15 \n",
       "L 193.890049 75.15 \n",
       "L 195.603207 75.15 \n",
       "L 197.316365 75.15 \n",
       "L 199.029523 75.15 \n",
       "L 200.742681 75.15 \n",
       "L 202.455839 75.15 \n",
       "L 204.168997 75.15 \n",
       "L 205.882155 75.15 \n",
       "L 207.595312 75.15 \n",
       "L 209.30847 75.15 \n",
       "L 211.021628 75.15 \n",
       "L 212.734786 75.15 \n",
       "L 214.447944 75.15 \n",
       "L 216.161102 75.15 \n",
       "L 217.87426 75.15 \n",
       "L 219.587418 75.15 \n",
       "L 221.300576 75.15 \n",
       "L 223.013734 75.15 \n",
       "L 224.726891 75.15 \n",
       "L 226.440049 75.15 \n",
       "L 228.153207 75.15 \n",
       "L 229.866365 75.15 \n",
       "L 231.579523 75.15 \n",
       "L 233.292681 75.15 \n",
       "L 235.005839 75.15 \n",
       "L 236.718997 75.15 \n",
       "L 238.432155 75.15 \n",
       "L 240.145312 75.15 \n",
       "\" clip-path=\"url(#pf046e08488)\" style=\"fill: none; stroke-dasharray: 5.55,2.4; stroke-dashoffset: 0; stroke: #bf00bf; stroke-width: 1.5\"/>\n",
       "   </g>\n",
       "   <g id=\"line2d_21\">\n",
       "    <path d=\"M 44.845312 75.15 \n",
       "L 55.12426 75.15 \n",
       "L 65.403207 75.15 \n",
       "L 75.682155 75.15 \n",
       "L 85.961102 75.15 \n",
       "L 96.240049 75.15 \n",
       "L 106.518997 75.15 \n",
       "L 116.797944 75.15 \n",
       "L 127.076891 75.15 \n",
       "L 137.355839 75.15 \n",
       "L 147.634786 75.15 \n",
       "L 157.913734 75.15 \n",
       "L 168.192681 75.15 \n",
       "L 178.471628 75.15 \n",
       "L 188.750576 75.15 \n",
       "L 199.029523 75.15 \n",
       "L 209.30847 75.15 \n",
       "L 219.587418 75.15 \n",
       "L 229.866365 75.15 \n",
       "L 240.145312 75.15 \n",
       "\" clip-path=\"url(#pf046e08488)\" style=\"fill: none; stroke-dasharray: 9.6,2.4,1.5,2.4; stroke-dashoffset: 0; stroke: #008000; stroke-width: 1.5\"/>\n",
       "   </g>\n",
       "   <g id=\"patch_3\">\n",
       "    <path d=\"M 44.845312 143.1 \n",
       "L 44.845312 7.2 \n",
       "\" style=\"fill: none; stroke: #000000; stroke-width: 0.8; stroke-linejoin: miter; stroke-linecap: square\"/>\n",
       "   </g>\n",
       "   <g id=\"patch_4\">\n",
       "    <path d=\"M 240.145312 143.1 \n",
       "L 240.145312 7.2 \n",
       "\" style=\"fill: none; stroke: #000000; stroke-width: 0.8; stroke-linejoin: miter; stroke-linecap: square\"/>\n",
       "   </g>\n",
       "   <g id=\"patch_5\">\n",
       "    <path d=\"M 44.845312 143.1 \n",
       "L 240.145312 143.1 \n",
       "\" style=\"fill: none; stroke: #000000; stroke-width: 0.8; stroke-linejoin: miter; stroke-linecap: square\"/>\n",
       "   </g>\n",
       "   <g id=\"patch_6\">\n",
       "    <path d=\"M 44.845312 7.2 \n",
       "L 240.145312 7.2 \n",
       "\" style=\"fill: none; stroke: #000000; stroke-width: 0.8; stroke-linejoin: miter; stroke-linecap: square\"/>\n",
       "   </g>\n",
       "   <g id=\"legend_1\">\n",
       "    <g id=\"patch_7\">\n",
       "     <path d=\"M 155.376562 59.234375 \n",
       "L 233.145312 59.234375 \n",
       "Q 235.145312 59.234375 235.145312 57.234375 \n",
       "L 235.145312 14.2 \n",
       "Q 235.145312 12.2 233.145312 12.2 \n",
       "L 155.376562 12.2 \n",
       "Q 153.376562 12.2 153.376562 14.2 \n",
       "L 153.376562 57.234375 \n",
       "Q 153.376562 59.234375 155.376562 59.234375 \n",
       "z\n",
       "\" style=\"fill: #ffffff; opacity: 0.8; stroke: #cccccc; stroke-linejoin: miter\"/>\n",
       "    </g>\n",
       "    <g id=\"line2d_22\">\n",
       "     <path d=\"M 157.376562 20.298438 \n",
       "L 167.376562 20.298438 \n",
       "L 177.376562 20.298438 \n",
       "\" style=\"fill: none; stroke: #1f77b4; stroke-width: 1.5; stroke-linecap: square\"/>\n",
       "    </g>\n",
       "    <g id=\"text_11\">\n",
       "     <!-- train loss -->\n",
       "     <g transform=\"translate(185.376562 23.798438)scale(0.1 -0.1)\">\n",
       "      <defs>\n",
       "       <path id=\"DejaVuSans-74\" d=\"M 1172 4494 \n",
       "L 1172 3500 \n",
       "L 2356 3500 \n",
       "L 2356 3053 \n",
       "L 1172 3053 \n",
       "L 1172 1153 \n",
       "Q 1172 725 1289 603 \n",
       "Q 1406 481 1766 481 \n",
       "L 2356 481 \n",
       "L 2356 0 \n",
       "L 1766 0 \n",
       "Q 1100 0 847 248 \n",
       "Q 594 497 594 1153 \n",
       "L 594 3053 \n",
       "L 172 3053 \n",
       "L 172 3500 \n",
       "L 594 3500 \n",
       "L 594 4494 \n",
       "L 1172 4494 \n",
       "z\n",
       "\" transform=\"scale(0.015625)\"/>\n",
       "       <path id=\"DejaVuSans-72\" d=\"M 2631 2963 \n",
       "Q 2534 3019 2420 3045 \n",
       "Q 2306 3072 2169 3072 \n",
       "Q 1681 3072 1420 2755 \n",
       "Q 1159 2438 1159 1844 \n",
       "L 1159 0 \n",
       "L 581 0 \n",
       "L 581 3500 \n",
       "L 1159 3500 \n",
       "L 1159 2956 \n",
       "Q 1341 3275 1631 3429 \n",
       "Q 1922 3584 2338 3584 \n",
       "Q 2397 3584 2469 3576 \n",
       "Q 2541 3569 2628 3553 \n",
       "L 2631 2963 \n",
       "z\n",
       "\" transform=\"scale(0.015625)\"/>\n",
       "       <path id=\"DejaVuSans-61\" d=\"M 2194 1759 \n",
       "Q 1497 1759 1228 1600 \n",
       "Q 959 1441 959 1056 \n",
       "Q 959 750 1161 570 \n",
       "Q 1363 391 1709 391 \n",
       "Q 2188 391 2477 730 \n",
       "Q 2766 1069 2766 1631 \n",
       "L 2766 1759 \n",
       "L 2194 1759 \n",
       "z\n",
       "M 3341 1997 \n",
       "L 3341 0 \n",
       "L 2766 0 \n",
       "L 2766 531 \n",
       "Q 2569 213 2275 61 \n",
       "Q 1981 -91 1556 -91 \n",
       "Q 1019 -91 701 211 \n",
       "Q 384 513 384 1019 \n",
       "Q 384 1609 779 1909 \n",
       "Q 1175 2209 1959 2209 \n",
       "L 2766 2209 \n",
       "L 2766 2266 \n",
       "Q 2766 2663 2505 2880 \n",
       "Q 2244 3097 1772 3097 \n",
       "Q 1472 3097 1187 3025 \n",
       "Q 903 2953 641 2809 \n",
       "L 641 3341 \n",
       "Q 956 3463 1253 3523 \n",
       "Q 1550 3584 1831 3584 \n",
       "Q 2591 3584 2966 3190 \n",
       "Q 3341 2797 3341 1997 \n",
       "z\n",
       "\" transform=\"scale(0.015625)\"/>\n",
       "       <path id=\"DejaVuSans-69\" d=\"M 603 3500 \n",
       "L 1178 3500 \n",
       "L 1178 0 \n",
       "L 603 0 \n",
       "L 603 3500 \n",
       "z\n",
       "M 603 4863 \n",
       "L 1178 4863 \n",
       "L 1178 4134 \n",
       "L 603 4134 \n",
       "L 603 4863 \n",
       "z\n",
       "\" transform=\"scale(0.015625)\"/>\n",
       "       <path id=\"DejaVuSans-6e\" d=\"M 3513 2113 \n",
       "L 3513 0 \n",
       "L 2938 0 \n",
       "L 2938 2094 \n",
       "Q 2938 2591 2744 2837 \n",
       "Q 2550 3084 2163 3084 \n",
       "Q 1697 3084 1428 2787 \n",
       "Q 1159 2491 1159 1978 \n",
       "L 1159 0 \n",
       "L 581 0 \n",
       "L 581 3500 \n",
       "L 1159 3500 \n",
       "L 1159 2956 \n",
       "Q 1366 3272 1645 3428 \n",
       "Q 1925 3584 2291 3584 \n",
       "Q 2894 3584 3203 3211 \n",
       "Q 3513 2838 3513 2113 \n",
       "z\n",
       "\" transform=\"scale(0.015625)\"/>\n",
       "       <path id=\"DejaVuSans-20\" transform=\"scale(0.015625)\"/>\n",
       "       <path id=\"DejaVuSans-6c\" d=\"M 603 4863 \n",
       "L 1178 4863 \n",
       "L 1178 0 \n",
       "L 603 0 \n",
       "L 603 4863 \n",
       "z\n",
       "\" transform=\"scale(0.015625)\"/>\n",
       "       <path id=\"DejaVuSans-73\" d=\"M 2834 3397 \n",
       "L 2834 2853 \n",
       "Q 2591 2978 2328 3040 \n",
       "Q 2066 3103 1784 3103 \n",
       "Q 1356 3103 1142 2972 \n",
       "Q 928 2841 928 2578 \n",
       "Q 928 2378 1081 2264 \n",
       "Q 1234 2150 1697 2047 \n",
       "L 1894 2003 \n",
       "Q 2506 1872 2764 1633 \n",
       "Q 3022 1394 3022 966 \n",
       "Q 3022 478 2636 193 \n",
       "Q 2250 -91 1575 -91 \n",
       "Q 1294 -91 989 -36 \n",
       "Q 684 19 347 128 \n",
       "L 347 722 \n",
       "Q 666 556 975 473 \n",
       "Q 1284 391 1588 391 \n",
       "Q 1994 391 2212 530 \n",
       "Q 2431 669 2431 922 \n",
       "Q 2431 1156 2273 1281 \n",
       "Q 2116 1406 1581 1522 \n",
       "L 1381 1569 \n",
       "Q 847 1681 609 1914 \n",
       "Q 372 2147 372 2553 \n",
       "Q 372 3047 722 3315 \n",
       "Q 1072 3584 1716 3584 \n",
       "Q 2034 3584 2315 3537 \n",
       "Q 2597 3491 2834 3397 \n",
       "z\n",
       "\" transform=\"scale(0.015625)\"/>\n",
       "      </defs>\n",
       "      <use xlink:href=\"#DejaVuSans-74\"/>\n",
       "      <use xlink:href=\"#DejaVuSans-72\" x=\"39.208984\"/>\n",
       "      <use xlink:href=\"#DejaVuSans-61\" x=\"80.322266\"/>\n",
       "      <use xlink:href=\"#DejaVuSans-69\" x=\"141.601562\"/>\n",
       "      <use xlink:href=\"#DejaVuSans-6e\" x=\"169.384766\"/>\n",
       "      <use xlink:href=\"#DejaVuSans-20\" x=\"232.763672\"/>\n",
       "      <use xlink:href=\"#DejaVuSans-6c\" x=\"264.550781\"/>\n",
       "      <use xlink:href=\"#DejaVuSans-6f\" x=\"292.333984\"/>\n",
       "      <use xlink:href=\"#DejaVuSans-73\" x=\"353.515625\"/>\n",
       "      <use xlink:href=\"#DejaVuSans-73\" x=\"405.615234\"/>\n",
       "     </g>\n",
       "    </g>\n",
       "    <g id=\"line2d_23\">\n",
       "     <path d=\"M 157.376562 34.976562 \n",
       "L 167.376562 34.976562 \n",
       "L 177.376562 34.976562 \n",
       "\" style=\"fill: none; stroke-dasharray: 5.55,2.4; stroke-dashoffset: 0; stroke: #bf00bf; stroke-width: 1.5\"/>\n",
       "    </g>\n",
       "    <g id=\"text_12\">\n",
       "     <!-- train acc -->\n",
       "     <g transform=\"translate(185.376562 38.476562)scale(0.1 -0.1)\">\n",
       "      <use xlink:href=\"#DejaVuSans-74\"/>\n",
       "      <use xlink:href=\"#DejaVuSans-72\" x=\"39.208984\"/>\n",
       "      <use xlink:href=\"#DejaVuSans-61\" x=\"80.322266\"/>\n",
       "      <use xlink:href=\"#DejaVuSans-69\" x=\"141.601562\"/>\n",
       "      <use xlink:href=\"#DejaVuSans-6e\" x=\"169.384766\"/>\n",
       "      <use xlink:href=\"#DejaVuSans-20\" x=\"232.763672\"/>\n",
       "      <use xlink:href=\"#DejaVuSans-61\" x=\"264.550781\"/>\n",
       "      <use xlink:href=\"#DejaVuSans-63\" x=\"325.830078\"/>\n",
       "      <use xlink:href=\"#DejaVuSans-63\" x=\"380.810547\"/>\n",
       "     </g>\n",
       "    </g>\n",
       "    <g id=\"line2d_24\">\n",
       "     <path d=\"M 157.376562 49.654688 \n",
       "L 167.376562 49.654688 \n",
       "L 177.376562 49.654688 \n",
       "\" style=\"fill: none; stroke-dasharray: 9.6,2.4,1.5,2.4; stroke-dashoffset: 0; stroke: #008000; stroke-width: 1.5\"/>\n",
       "    </g>\n",
       "    <g id=\"text_13\">\n",
       "     <!-- valid acc -->\n",
       "     <g transform=\"translate(185.376562 53.154688)scale(0.1 -0.1)\">\n",
       "      <defs>\n",
       "       <path id=\"DejaVuSans-76\" d=\"M 191 3500 \n",
       "L 800 3500 \n",
       "L 1894 563 \n",
       "L 2988 3500 \n",
       "L 3597 3500 \n",
       "L 2284 0 \n",
       "L 1503 0 \n",
       "L 191 3500 \n",
       "z\n",
       "\" transform=\"scale(0.015625)\"/>\n",
       "       <path id=\"DejaVuSans-64\" d=\"M 2906 2969 \n",
       "L 2906 4863 \n",
       "L 3481 4863 \n",
       "L 3481 0 \n",
       "L 2906 0 \n",
       "L 2906 525 \n",
       "Q 2725 213 2448 61 \n",
       "Q 2172 -91 1784 -91 \n",
       "Q 1150 -91 751 415 \n",
       "Q 353 922 353 1747 \n",
       "Q 353 2572 751 3078 \n",
       "Q 1150 3584 1784 3584 \n",
       "Q 2172 3584 2448 3432 \n",
       "Q 2725 3281 2906 2969 \n",
       "z\n",
       "M 947 1747 \n",
       "Q 947 1113 1208 752 \n",
       "Q 1469 391 1925 391 \n",
       "Q 2381 391 2643 752 \n",
       "Q 2906 1113 2906 1747 \n",
       "Q 2906 2381 2643 2742 \n",
       "Q 2381 3103 1925 3103 \n",
       "Q 1469 3103 1208 2742 \n",
       "Q 947 2381 947 1747 \n",
       "z\n",
       "\" transform=\"scale(0.015625)\"/>\n",
       "      </defs>\n",
       "      <use xlink:href=\"#DejaVuSans-76\"/>\n",
       "      <use xlink:href=\"#DejaVuSans-61\" x=\"59.179688\"/>\n",
       "      <use xlink:href=\"#DejaVuSans-6c\" x=\"120.458984\"/>\n",
       "      <use xlink:href=\"#DejaVuSans-69\" x=\"148.242188\"/>\n",
       "      <use xlink:href=\"#DejaVuSans-64\" x=\"176.025391\"/>\n",
       "      <use xlink:href=\"#DejaVuSans-20\" x=\"239.501953\"/>\n",
       "      <use xlink:href=\"#DejaVuSans-61\" x=\"271.289062\"/>\n",
       "      <use xlink:href=\"#DejaVuSans-63\" x=\"332.568359\"/>\n",
       "      <use xlink:href=\"#DejaVuSans-63\" x=\"387.548828\"/>\n",
       "     </g>\n",
       "    </g>\n",
       "   </g>\n",
       "  </g>\n",
       " </g>\n",
       " <defs>\n",
       "  <clipPath id=\"pf046e08488\">\n",
       "   <rect x=\"44.845312\" y=\"7.2\" width=\"195.3\" height=\"135.9\"/>\n",
       "  </clipPath>\n",
       " </defs>\n",
       "</svg>\n"
      ],
      "text/plain": [
       "<Figure size 252x180 with 1 Axes>"
      ]
     },
     "metadata": {
      "needs_background": "light"
     },
     "output_type": "display_data"
    }
   ],
   "source": [
    "devices, num_epochs, lr, wd = d2l.try_all_gpus(), 20, 2e-4, 5e-4\n",
    "lr_period, lr_decay, net = 4, 0.9, get_net()\n",
    "train(net, train_iter, valid_iter, num_epochs, lr, wd, devices, lr_period,\n",
    "      lr_decay)"
   ]
  },
  {
   "cell_type": "code",
   "execution_count": null,
   "id": "8e2a18da-ec4a-4118-af9b-cef6eb19a6bb",
   "metadata": {},
   "outputs": [],
   "source": []
  }
 ],
 "metadata": {
  "kernelspec": {
   "display_name": "Python 3 (ipykernel)",
   "language": "python",
   "name": "python3"
  },
  "language_info": {
   "codemirror_mode": {
    "name": "ipython",
    "version": 3
   },
   "file_extension": ".py",
   "mimetype": "text/x-python",
   "name": "python",
   "nbconvert_exporter": "python",
   "pygments_lexer": "ipython3",
   "version": "3.8.10"
  }
 },
 "nbformat": 4,
 "nbformat_minor": 5
}
