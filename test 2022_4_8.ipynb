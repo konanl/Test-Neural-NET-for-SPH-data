{
 "cells": [
  {
   "cell_type": "code",
   "execution_count": 1,
   "id": "e94fb6d9-1fd4-443a-bd4c-5228fe620175",
   "metadata": {},
   "outputs": [],
   "source": [
    "import torch\n",
    "import h5py\n",
    "import os\n",
    "import numpy as np\n",
    "from torch import nn as nn\n",
    "from torch.nn import functional as F\n",
    "from torch import optim\n",
    "from torch.utils.data import Dataset, DataLoader\n",
    "# import time\n",
    "# from d2l import torch as d2l\n",
    "# import random"
   ]
  },
  {
   "cell_type": "code",
   "execution_count": 3,
   "id": "54695d8b-0bff-4b59-bf6e-dda7db733824",
   "metadata": {},
   "outputs": [],
   "source": [
    "from d2l import torch as d2l"
   ]
  },
  {
   "cell_type": "code",
   "execution_count": 4,
   "id": "7d7c58c8-563e-4c3d-a073-bf7f986917d4",
   "metadata": {},
   "outputs": [],
   "source": [
    "# get the file name of path\n",
    "def get_fname(path):\n",
    "    files = os.listdir(path)\n",
    "    files.sort()\n",
    "    return files"
   ]
  },
  {
   "cell_type": "code",
   "execution_count": 5,
   "id": "b9cd5992-9f36-4e94-ba54-c7f065ab5e15",
   "metadata": {},
   "outputs": [],
   "source": [
    "data_dir = \"../dataset\""
   ]
  },
  {
   "cell_type": "code",
   "execution_count": 6,
   "id": "64205193-65dc-4fdf-9223-a2558c8e8594",
   "metadata": {},
   "outputs": [],
   "source": [
    "files = get_fname(data_dir)"
   ]
  },
  {
   "cell_type": "code",
   "execution_count": 7,
   "id": "d41caa9e-9fe4-4a86-8b4b-e65dccd88898",
   "metadata": {},
   "outputs": [
    {
     "data": {
      "text/plain": [
       "'snapshot_000.hdf5'"
      ]
     },
     "execution_count": 7,
     "metadata": {},
     "output_type": "execute_result"
    }
   ],
   "source": [
    "files[0]"
   ]
  },
  {
   "cell_type": "code",
   "execution_count": 8,
   "id": "6ce60945-319f-4349-8622-25c6de958b89",
   "metadata": {},
   "outputs": [],
   "source": [
    "def get_fpath(path, fname):\n",
    "    return os.path.join(path, fname)"
   ]
  },
  {
   "cell_type": "code",
   "execution_count": 9,
   "id": "a917934f-8e4c-43d8-81a3-ccb831e31489",
   "metadata": {},
   "outputs": [],
   "source": [
    "f5 = h5py.File(get_fpath(data_dir, files[5]))"
   ]
  },
  {
   "cell_type": "code",
   "execution_count": 10,
   "id": "bd7f80e8-1c30-4d0e-8497-6cf71194530e",
   "metadata": {},
   "outputs": [],
   "source": [
    "def get_hdf5_group(hdf5File):\n",
    "    group = []\n",
    "    for key in hdf5File:\n",
    "        group.append(key)\n",
    "    return group"
   ]
  },
  {
   "cell_type": "code",
   "execution_count": 11,
   "id": "c6989906-0b20-4217-89f6-d70a7a67fcf2",
   "metadata": {},
   "outputs": [
    {
     "data": {
      "text/plain": [
       "'dataset'"
      ]
     },
     "execution_count": 11,
     "metadata": {},
     "output_type": "execute_result"
    }
   ],
   "source": [
    "get_hdf5_group(f5)[0]"
   ]
  },
  {
   "cell_type": "code",
   "execution_count": 12,
   "id": "b7128504-9240-48f6-905c-0a5b40011c72",
   "metadata": {},
   "outputs": [],
   "source": [
    "data = f5[get_hdf5_group(f5)[0]]"
   ]
  },
  {
   "cell_type": "code",
   "execution_count": 14,
   "id": "49282cbf-bf9e-4753-bdfc-c786d15df9c8",
   "metadata": {},
   "outputs": [
    {
     "data": {
      "text/plain": [
       "(242311, 12)"
      ]
     },
     "execution_count": 14,
     "metadata": {},
     "output_type": "execute_result"
    }
   ],
   "source": [
    "data.shape"
   ]
  },
  {
   "cell_type": "code",
   "execution_count": 13,
   "id": "936aa0e5-f58a-46cd-9b05-29343608cc0f",
   "metadata": {},
   "outputs": [
    {
     "data": {
      "text/plain": [
       "(array([ 1.0000000e+00,  2.9456370e+21,  7.9912119e+00,  1.4510067e+07,\n",
       "        -1.9743911e+11,  2.4654568e+07, -1.6384232e+08, -3.0284028e+07,\n",
       "        -1.0712665e+07,  3.7325620e+03,  4.7539352e+04,  2.7685675e+02],\n",
       "       dtype=float32),\n",
       " (12,))"
      ]
     },
     "execution_count": 13,
     "metadata": {},
     "output_type": "execute_result"
    }
   ],
   "source": [
    "data[0], data[0].shape"
   ]
  },
  {
   "cell_type": "code",
   "execution_count": 15,
   "id": "a0deccfa-8480-47cc-b4bb-c2e21fed78c5",
   "metadata": {},
   "outputs": [
    {
     "data": {
      "text/plain": [
       "numpy.ndarray"
      ]
     },
     "execution_count": 15,
     "metadata": {},
     "output_type": "execute_result"
    }
   ],
   "source": [
    "type(data[0])"
   ]
  },
  {
   "cell_type": "code",
   "execution_count": 22,
   "id": "3d14d863-3792-4c46-a09a-74d50adcf317",
   "metadata": {},
   "outputs": [
    {
     "data": {
      "text/plain": [
       "(2, 12)"
      ]
     },
     "execution_count": 22,
     "metadata": {},
     "output_type": "execute_result"
    }
   ],
   "source": [
    "data[0:4:2].shape"
   ]
  },
  {
   "cell_type": "code",
   "execution_count": 16,
   "id": "c4db33db-cf24-45a1-a1a3-ce4e9226edee",
   "metadata": {},
   "outputs": [],
   "source": [
    "# This trainshapest we just to use one snapshot just"
   ]
  },
  {
   "cell_type": "code",
   "execution_count": 26,
   "id": "079541c7-3de5-4bdf-a395-3d536c283a0e",
   "metadata": {},
   "outputs": [],
   "source": [
    "def data_ratio_select(data, data_len):\n",
    "    return data[0:2*data_len:2]"
   ]
  },
  {
   "cell_type": "code",
   "execution_count": 27,
   "id": "42abeaf4-3155-45a6-9620-c779f77b4f4e",
   "metadata": {},
   "outputs": [],
   "source": [
    "data0 = data_ratio_select(data, 5000)"
   ]
  },
  {
   "cell_type": "code",
   "execution_count": 28,
   "id": "3afc755f-7937-4bc6-9720-ec8ec7a68c33",
   "metadata": {},
   "outputs": [
    {
     "data": {
      "text/plain": [
       "5000"
      ]
     },
     "execution_count": 28,
     "metadata": {},
     "output_type": "execute_result"
    }
   ],
   "source": [
    "len(data0)"
   ]
  },
  {
   "cell_type": "code",
   "execution_count": 30,
   "id": "c0f79c8d-64ef-48d1-83d1-09e8d7126fb8",
   "metadata": {},
   "outputs": [],
   "source": [
    "# get train set and validation set from the DATA\n",
    "def reorg_train_vaild(data, valid_ratio):\n",
    "    l = len(data)\n",
    "    # data = random.shuffle(data)\n",
    "    n = l-int(l*valid_ratio)\n",
    "    train_data = data[:n]\n",
    "    valid_data = data[n:]\n",
    "    return train_data, valid_data"
   ]
  },
  {
   "cell_type": "code",
   "execution_count": 31,
   "id": "1c2bb387-c58c-46c4-b140-34bfeeecf668",
   "metadata": {},
   "outputs": [],
   "source": [
    "train_data0, valid_data0 = reorg_train_vaild(data0, 0.1)"
   ]
  },
  {
   "cell_type": "code",
   "execution_count": 32,
   "id": "638cd628-1e2d-4506-af6f-d55fad3040ee",
   "metadata": {},
   "outputs": [
    {
     "data": {
      "text/plain": [
       "(4500, 500)"
      ]
     },
     "execution_count": 32,
     "metadata": {},
     "output_type": "execute_result"
    }
   ],
   "source": [
    "len(train_data0), len(valid_data0)"
   ]
  },
  {
   "cell_type": "code",
   "execution_count": 33,
   "id": "21e112a2-b630-44a2-80de-108b6499b6ff",
   "metadata": {},
   "outputs": [],
   "source": [
    "# select the data for test\n",
    "def recorg_test(data, line, test_len):\n",
    "    return data[line:2*test_len:2]"
   ]
  },
  {
   "cell_type": "code",
   "execution_count": 47,
   "id": "1cc3b52c-03aa-499a-89bf-70071485318a",
   "metadata": {},
   "outputs": [],
   "source": [
    "test_data0 = recorg_test(data, 5000, 7500) "
   ]
  },
  {
   "cell_type": "code",
   "execution_count": 48,
   "id": "694bd329-8538-4ea5-bacf-2ac50408c0e7",
   "metadata": {},
   "outputs": [
    {
     "data": {
      "text/plain": [
       "5000"
      ]
     },
     "execution_count": 48,
     "metadata": {},
     "output_type": "execute_result"
    }
   ],
   "source": [
    "len(test_data0)"
   ]
  },
  {
   "cell_type": "code",
   "execution_count": 50,
   "id": "130ce224-ce28-424e-9e4b-117cde0ce66f",
   "metadata": {},
   "outputs": [
    {
     "data": {
      "text/plain": [
       "(array([ 1.0000000e+00,  2.9456370e+21,  7.9912119e+00,  1.4510067e+07,\n",
       "        -1.9743911e+11,  2.4654568e+07, -1.6384232e+08, -3.0284028e+07,\n",
       "        -1.0712665e+07,  3.7325620e+03,  4.7539352e+04,  2.7685675e+02],\n",
       "       dtype=float32),\n",
       " array([ 9.0010000e+03,  2.9456370e+21,  8.8772240e+00,  1.4436648e+07,\n",
       "        -2.0922996e+11,  2.3938638e+07, -9.6609600e+07,  1.2520814e+08,\n",
       "        -7.8623115e+06,  7.0589316e+03,  4.8921453e+04,  2.9340857e+02],\n",
       "       dtype=float32),\n",
       " array([ 5.0010000e+03,  2.9456370e+21,  8.8387938e+00,  1.4320035e+07,\n",
       "        -2.0741880e+11,  2.3968782e+07, -1.2129664e+08,  9.2385632e+07,\n",
       "         3.5812348e+07,  6.1908716e+03,  4.8613605e+04, -5.4629895e+02],\n",
       "       dtype=float32))"
      ]
     },
     "execution_count": 50,
     "metadata": {},
     "output_type": "execute_result"
    }
   ],
   "source": [
    "train_data0[0], valid_data0[0], test_data0[0]"
   ]
  },
  {
   "cell_type": "code",
   "execution_count": 52,
   "id": "2dc8bf78-5e55-417d-be3e-20c462c94ef8",
   "metadata": {},
   "outputs": [
    {
     "data": {
      "text/plain": [
       "((4500, 12), (500, 12), (5000, 12))"
      ]
     },
     "execution_count": 52,
     "metadata": {},
     "output_type": "execute_result"
    }
   ],
   "source": [
    "train_data0.shape, valid_data0.shape, test_data0.shape"
   ]
  },
  {
   "cell_type": "code",
   "execution_count": 53,
   "id": "5d72d789-0ede-4937-947d-a3b24c2a933c",
   "metadata": {},
   "outputs": [],
   "source": [
    "# physcial quantity squence is ids mass rho ie pot sl pos*3 vel*3\n",
    "def chose_input_output_phy_qua(data, phy_qua):\n",
    "    assert phy_qua == \"mass\" or phy_qua == \"rho\" or phy_qua == \"ie\" or phy_qua == \"pot\" or phy_qua == \"sl\" or phy_qua == \"pos\" or phy_qua == \"vel\"\n",
    "    if phy_qua == \"mass\":\n",
    "        return data[:, 1]\n",
    "    if phy_qua == \"rho\":\n",
    "        return data[:, 2]\n",
    "    if phy_qua == \"ie\":\n",
    "        return data[:, 3]\n",
    "    if phy_qua == \"pot\":\n",
    "        return data[:, 4]\n",
    "    if phy_qua == \"rho\":\n",
    "        return data[:, 5]\n",
    "    if phy_qua == \"pos\":\n",
    "        return data[:, -6:-3]\n",
    "    if phy_qua == \"vel\":\n",
    "        return data[:, -3:]"
   ]
  },
  {
   "cell_type": "code",
   "execution_count": 54,
   "id": "65e5dea7-b501-46ce-99ec-0304fe00edc8",
   "metadata": {},
   "outputs": [],
   "source": [
    "train_data0_pos = chose_input_output_phy_qua(train_data0, \"pos\")\n",
    "train_data0_pot = chose_input_output_phy_qua(train_data0, \"pot\")"
   ]
  },
  {
   "cell_type": "code",
   "execution_count": 56,
   "id": "509f7c5b-3a94-4b09-849e-052de4d57cc7",
   "metadata": {},
   "outputs": [],
   "source": [
    "train_data0_pot = train_data0_pot.reshape(-1, 1)"
   ]
  },
  {
   "cell_type": "code",
   "execution_count": 58,
   "id": "c66c9b3f-08e6-4265-97ee-3aceb084026e",
   "metadata": {},
   "outputs": [
    {
     "data": {
      "text/plain": [
       "((4500, 3), (4500, 1))"
      ]
     },
     "execution_count": 58,
     "metadata": {},
     "output_type": "execute_result"
    }
   ],
   "source": [
    "train_data0_pos.shape, train_data0_pot.shape"
   ]
  },
  {
   "cell_type": "code",
   "execution_count": 59,
   "id": "68688fe5-8159-438a-aff6-aef48688e0eb",
   "metadata": {},
   "outputs": [],
   "source": [
    "valid_data0_pos = chose_input_output_phy_qua(valid_data0, \"pos\")\n",
    "valid_data0_pot = chose_input_output_phy_qua(valid_data0, \"pot\")"
   ]
  },
  {
   "cell_type": "code",
   "execution_count": 61,
   "id": "7ca0b8ae-ce54-45b9-ade7-2daae1515d31",
   "metadata": {},
   "outputs": [],
   "source": [
    "valid_data0_pot = valid_data0_pot.reshape(-1, 1)"
   ]
  },
  {
   "cell_type": "code",
   "execution_count": 62,
   "id": "3481d2b8-f351-4536-91f3-aa31b5069e31",
   "metadata": {},
   "outputs": [
    {
     "data": {
      "text/plain": [
       "((500, 3), (500, 1))"
      ]
     },
     "execution_count": 62,
     "metadata": {},
     "output_type": "execute_result"
    }
   ],
   "source": [
    "valid_data0_pos.shape, valid_data0_pot.shape"
   ]
  },
  {
   "cell_type": "code",
   "execution_count": 63,
   "id": "76390c1b-7fab-45e6-a949-9e9756955d92",
   "metadata": {},
   "outputs": [],
   "source": [
    "test_data0_pos = chose_input_output_phy_qua(test_data0, \"pos\")\n",
    "test_data0_pot = chose_input_output_phy_qua(test_data0, \"pot\").reshape(-1, 1)"
   ]
  },
  {
   "cell_type": "code",
   "execution_count": 65,
   "id": "a7874385-0c65-4f5e-a7fa-d1b68d323a54",
   "metadata": {},
   "outputs": [
    {
     "data": {
      "text/plain": [
       "((5000, 3), (5000, 1))"
      ]
     },
     "execution_count": 65,
     "metadata": {},
     "output_type": "execute_result"
    }
   ],
   "source": [
    "test_data0_pos.shape, test_data0_pot.shape"
   ]
  },
  {
   "cell_type": "code",
   "execution_count": 67,
   "id": "a42d6cc0-7e0e-41b2-973a-1869d8e38379",
   "metadata": {},
   "outputs": [
    {
     "data": {
      "text/plain": [
       "(numpy.ndarray,\n",
       " numpy.ndarray,\n",
       " numpy.ndarray,\n",
       " numpy.ndarray,\n",
       " numpy.ndarray,\n",
       " numpy.ndarray)"
      ]
     },
     "execution_count": 67,
     "metadata": {},
     "output_type": "execute_result"
    }
   ],
   "source": [
    "type(train_data0_pos), type(train_data0_pot), type(valid_data0_pos), type(valid_data0_pot), type(test_data0_pos), type(test_data0_pot)"
   ]
  },
  {
   "cell_type": "code",
   "execution_count": 68,
   "id": "8ab81a0a-68e5-401a-b4c0-9a44a76d871b",
   "metadata": {},
   "outputs": [],
   "source": [
    "# norm function for numpy\n",
    "def data_norm(data):\n",
    "    mean = data.mean(axis=0, keepdims=True)\n",
    "    std = data.std(axis=0, keepdims=True)\n",
    "    return (data-mean)/std"
   ]
  },
  {
   "cell_type": "code",
   "execution_count": 69,
   "id": "8fb94c38-a3b5-41a7-85c4-ab6dcc86b24c",
   "metadata": {},
   "outputs": [],
   "source": [
    "train_data0_pos_norm = data_norm(train_data0_pos)\n",
    "train_data0_pot_norm = data_norm(train_data0_pot)"
   ]
  },
  {
   "cell_type": "code",
   "execution_count": 70,
   "id": "8be522aa-451a-44a8-9cfa-f2797ae0562e",
   "metadata": {},
   "outputs": [
    {
     "data": {
      "text/plain": [
       "((4500, 3), (4500, 1))"
      ]
     },
     "execution_count": 70,
     "metadata": {},
     "output_type": "execute_result"
    }
   ],
   "source": [
    "train_data0_pos_norm.shape, train_data0_pot_norm.shape"
   ]
  },
  {
   "cell_type": "code",
   "execution_count": 75,
   "id": "83c47299-b343-4e22-864d-4b90b14a8446",
   "metadata": {},
   "outputs": [
    {
     "data": {
      "text/plain": [
       "(2.2776084, -2.4029636)"
      ]
     },
     "execution_count": 75,
     "metadata": {},
     "output_type": "execute_result"
    }
   ],
   "source": [
    "train_data0_pos_norm.max(), train_data0_pos_norm.min()"
   ]
  },
  {
   "cell_type": "code",
   "execution_count": 76,
   "id": "b12c57aa-e489-441e-8ef3-a7c1ebe0d763",
   "metadata": {},
   "outputs": [
    {
     "data": {
      "text/plain": [
       "(1.2922436, -3.0646796)"
      ]
     },
     "execution_count": 76,
     "metadata": {},
     "output_type": "execute_result"
    }
   ],
   "source": [
    "train_data0_pot_norm.max(), train_data0_pot_norm.min()"
   ]
  },
  {
   "cell_type": "code",
   "execution_count": 72,
   "id": "33b471cb-a3d7-46db-a908-87386e1b7889",
   "metadata": {},
   "outputs": [],
   "source": [
    "valid_data0_pos_norm = data_norm(valid_data0_pos)\n",
    "valid_data0_pot_norm = data_norm(valid_data0_pot)"
   ]
  },
  {
   "cell_type": "code",
   "execution_count": 73,
   "id": "d91bef59-7441-49fb-b323-2f7b9bc1c89e",
   "metadata": {},
   "outputs": [
    {
     "data": {
      "text/plain": [
       "((500, 3), (500, 1))"
      ]
     },
     "execution_count": 73,
     "metadata": {},
     "output_type": "execute_result"
    }
   ],
   "source": [
    "valid_data0_pos_norm.shape, valid_data0_pot_norm.shape"
   ]
  },
  {
   "cell_type": "code",
   "execution_count": 77,
   "id": "97c49bb8-5089-4ba1-a062-a6727b21671a",
   "metadata": {},
   "outputs": [
    {
     "data": {
      "text/plain": [
       "(2.8925111, -3.081011)"
      ]
     },
     "execution_count": 77,
     "metadata": {},
     "output_type": "execute_result"
    }
   ],
   "source": [
    "valid_data0_pos_norm.max(), valid_data0_pos_norm.min()"
   ]
  },
  {
   "cell_type": "code",
   "execution_count": 78,
   "id": "47af0a46-058e-4e85-8acd-3fa8a4044f44",
   "metadata": {},
   "outputs": [
    {
     "data": {
      "text/plain": [
       "(1.4805294, -2.1075025)"
      ]
     },
     "execution_count": 78,
     "metadata": {},
     "output_type": "execute_result"
    }
   ],
   "source": [
    "valid_data0_pot_norm.max(), valid_data0_pot_norm.min()"
   ]
  },
  {
   "cell_type": "code",
   "execution_count": 95,
   "id": "6de5a30c-8bab-4863-bb1f-92191b8f8950",
   "metadata": {},
   "outputs": [],
   "source": [
    "def data_to_tensor(data):\n",
    "    return torch.from_numpy(data)"
   ]
  },
  {
   "cell_type": "code",
   "execution_count": 96,
   "id": "3a09ae18-e7ff-43c4-a905-15ff318c0d9a",
   "metadata": {},
   "outputs": [],
   "source": [
    "train_data0_pos_norm_t = data_to_tensor(train_data0_pos_norm)\n",
    "train_data0_pot_norm_t = data_to_tensor(train_data0_pot_norm)\n",
    "valid_data0_pos_norm_t = data_to_tensor(valid_data0_pos_norm)\n",
    "valid_data0_pot_norm_t = data_to_tensor(valid_data0_pot_norm)"
   ]
  },
  {
   "cell_type": "code",
   "execution_count": 99,
   "id": "9f80ecfd-099a-4c30-8cbe-0131676487aa",
   "metadata": {},
   "outputs": [
    {
     "data": {
      "text/plain": [
       "torch.Tensor"
      ]
     },
     "execution_count": 99,
     "metadata": {},
     "output_type": "execute_result"
    }
   ],
   "source": [
    "type(train_data0_pos_norm_t)"
   ]
  },
  {
   "cell_type": "code",
   "execution_count": 79,
   "id": "31a6754e-0c49-46fc-a803-e0d712b7f019",
   "metadata": {},
   "outputs": [],
   "source": [
    "# train data and valid dat norm, but test data not norm"
   ]
  },
  {
   "cell_type": "code",
   "execution_count": 100,
   "id": "8ce8f464-c4d0-4d5f-9c4d-97193fe16563",
   "metadata": {},
   "outputs": [],
   "source": [
    "# defined SPH output Dataset\n",
    "class SPHDataset(Dataset):\n",
    "    def __init__(self, features, labels):\n",
    "        self.features = features\n",
    "        self.labels = labels\n",
    "    def __len__(self):\n",
    "        return len(self.features)\n",
    "    def __getitem__(self, item):\n",
    "        return self.features[item], self.labels[item]"
   ]
  },
  {
   "cell_type": "code",
   "execution_count": 102,
   "id": "f5001175-23d2-425b-93ec-ec4ba37813bc",
   "metadata": {},
   "outputs": [],
   "source": [
    "train_ds = SPHDataset(train_data0_pos_norm_t, train_data0_pot_norm_t)"
   ]
  },
  {
   "cell_type": "code",
   "execution_count": 103,
   "id": "8b8c9c8b-b2a1-49b0-8b44-1b96a22c12f0",
   "metadata": {},
   "outputs": [],
   "source": [
    "valid_ds = SPHDataset(valid_data0_pos_norm_t, valid_data0_pot_norm_t)"
   ]
  },
  {
   "cell_type": "code",
   "execution_count": 106,
   "id": "54053e54-9080-4d2f-a0dc-34e4ce03dbe2",
   "metadata": {},
   "outputs": [
    {
     "data": {
      "text/plain": [
       "(4500, (tensor([-2.0733, -0.7192, -0.1763]), tensor([1.1876])))"
      ]
     },
     "execution_count": 106,
     "metadata": {},
     "output_type": "execute_result"
    }
   ],
   "source": [
    "len(train_ds), train_ds[0]"
   ]
  },
  {
   "cell_type": "code",
   "execution_count": 109,
   "id": "cb0f9022-7950-4733-8990-cecb76e839d9",
   "metadata": {},
   "outputs": [
    {
     "data": {
      "text/plain": [
       "(500, (tensor([-0.6166,  2.1580, -0.1072]), tensor([-0.0422])))"
      ]
     },
     "execution_count": 109,
     "metadata": {},
     "output_type": "execute_result"
    }
   ],
   "source": [
    "len(valid_ds), valid_ds[0]"
   ]
  },
  {
   "cell_type": "code",
   "execution_count": 112,
   "id": "8b95a3de-8201-4a4d-a831-c5e97356df75",
   "metadata": {},
   "outputs": [],
   "source": [
    "batch_size = 32"
   ]
  },
  {
   "cell_type": "code",
   "execution_count": 113,
   "id": "774942d0-db68-492f-85ec-c094d8a4b28f",
   "metadata": {},
   "outputs": [],
   "source": [
    "train_iter = DataLoader(train_ds, batch_size=batch_size, shuffle=True, drop_last=True)\n",
    "valid_iter = DataLoader(valid_ds, batch_size=batch_size, shuffle=False, drop_last=False)"
   ]
  },
  {
   "cell_type": "code",
   "execution_count": 114,
   "id": "91da1f17-53f3-402a-90a1-4b895850c61a",
   "metadata": {},
   "outputs": [
    {
     "name": "stdout",
     "output_type": "stream",
     "text": [
      "input:  tensor([[ 0.4291, -0.5322, -1.0545],\n",
      "        [ 0.0546, -0.7237,  0.0615],\n",
      "        [ 0.7674,  0.7794, -1.2146],\n",
      "        [-0.1698,  0.2611, -1.2616],\n",
      "        [ 0.7737, -0.7346,  0.0772],\n",
      "        [ 0.7008,  0.5556,  0.5237],\n",
      "        [ 0.1633,  0.6867, -0.2122],\n",
      "        [ 0.1781, -0.8056,  1.2132],\n",
      "        [ 0.0364, -1.6967,  0.8878],\n",
      "        [-0.4488, -0.2128, -1.0695],\n",
      "        [ 0.3492,  0.8767, -0.2863],\n",
      "        [-1.6723, -0.1264, -0.4275],\n",
      "        [-1.0579, -0.6487, -1.3003],\n",
      "        [-0.0155, -1.0057, -1.6016],\n",
      "        [ 0.3698, -1.3869,  1.4640],\n",
      "        [ 0.9725, -1.2917,  1.1890],\n",
      "        [-0.6013, -0.2950, -0.5777],\n",
      "        [-2.1241, -0.0764,  0.6538],\n",
      "        [ 0.5963, -0.3401, -1.5034],\n",
      "        [-0.1455, -0.8764,  0.2768],\n",
      "        [ 0.1418, -1.5003, -0.2352],\n",
      "        [ 1.3968, -1.8795, -0.1447],\n",
      "        [ 0.3758, -0.9563,  0.0540],\n",
      "        [-0.3982, -0.4919,  0.6513],\n",
      "        [-0.3236,  0.1370, -1.7710],\n",
      "        [ 1.2247, -0.8040, -0.5598],\n",
      "        [-0.4278, -0.9150, -1.4745],\n",
      "        [-0.1983,  0.7141, -1.0301],\n",
      "        [ 0.0363, -0.0605,  0.3559],\n",
      "        [-1.2638,  0.0596,  0.1538],\n",
      "        [ 1.5179, -0.2764,  1.3403],\n",
      "        [-0.1363,  1.5624,  0.1668]]) torch.Size([32, 3])\n",
      "output:  tensor([[-0.7456],\n",
      "        [-0.9996],\n",
      "        [-0.7626],\n",
      "        [-0.1251],\n",
      "        [-1.6389],\n",
      "        [-1.7542],\n",
      "        [-1.3329],\n",
      "        [ 0.0147],\n",
      "        [ 1.2342],\n",
      "        [-0.1190],\n",
      "        [-1.3062],\n",
      "        [ 0.4584],\n",
      "        [ 1.1451],\n",
      "        [ 1.1769],\n",
      "        [ 1.2039],\n",
      "        [ 0.0672],\n",
      "        [-0.4938],\n",
      "        [ 1.1056],\n",
      "        [-0.2156],\n",
      "        [-0.5727],\n",
      "        [ 0.2328],\n",
      "        [ 0.1239],\n",
      "        [-0.9892],\n",
      "        [-0.4978],\n",
      "        [ 1.0392],\n",
      "        [-1.6961],\n",
      "        [ 1.1648],\n",
      "        [-0.2414],\n",
      "        [-1.3626],\n",
      "        [-0.1238],\n",
      "        [-1.3193],\n",
      "        [ 0.1186]]) torch.Size([32, 1])\n"
     ]
    }
   ],
   "source": [
    "for i, (feature, label) in enumerate(train_iter):\n",
    "    if(i < 1):\n",
    "        print(\"input: \", feature, feature.shape)\n",
    "        print(\"output: \", label, label.shape)\n",
    "    else:\n",
    "        break"
   ]
  },
  {
   "cell_type": "code",
   "execution_count": 116,
   "id": "26a49408-9fd6-4f3f-b8a2-8374774b4ac8",
   "metadata": {},
   "outputs": [
    {
     "name": "stdout",
     "output_type": "stream",
     "text": [
      "input:  tensor([[-0.6166,  2.1580, -0.1072],\n",
      "        [-0.3373,  2.1922,  0.1708],\n",
      "        [ 0.4462,  2.1979,  0.3562],\n",
      "        [-2.2660,  2.1668,  0.5783],\n",
      "        [-2.4278,  2.1144,  0.6837],\n",
      "        [-0.6273,  2.1586,  0.7816],\n",
      "        [-1.7134,  2.1401,  1.0747],\n",
      "        [-0.1255,  2.1219,  1.2059],\n",
      "        [-1.3919,  2.2636, -0.9298],\n",
      "        [ 0.2080,  2.3954, -0.8599],\n",
      "        [-1.0919,  2.2278, -0.6305],\n",
      "        [-0.4448,  2.3055, -0.4793],\n",
      "        [-1.1283,  2.3206, -0.3373],\n",
      "        [-2.0289,  2.2894, -0.1947],\n",
      "        [-1.1608,  2.3516,  0.0784],\n",
      "        [-0.4847,  2.3524,  0.2991],\n",
      "        [-0.4229,  2.2930,  0.4897],\n",
      "        [-0.1824,  2.2613,  0.6532],\n",
      "        [-1.9775,  2.2310,  0.9387],\n",
      "        [ 0.0699,  2.2512,  1.0638],\n",
      "        [-1.7957,  2.3503, -0.7543],\n",
      "        [-0.9623,  2.4634, -0.5896],\n",
      "        [-2.0350,  2.4631, -0.4314],\n",
      "        [ 0.4485,  2.3999, -0.2307],\n",
      "        [ 0.2874,  2.3406, -0.0892],\n",
      "        [-1.0621,  2.3471,  0.1385],\n",
      "        [-0.4803,  2.3536,  0.2901],\n",
      "        [-2.0023,  2.4552,  0.4353],\n",
      "        [-3.0810,  2.3183,  0.6773],\n",
      "        [-1.4473,  2.3463,  0.7973],\n",
      "        [ 0.6520,  2.4721, -0.7402],\n",
      "        [-0.9582,  2.4628, -0.5881]]) torch.Size([32, 3])\n",
      "output:  tensor([[-4.2183e-02],\n",
      "        [ 6.5184e-04],\n",
      "        [-9.5914e-03],\n",
      "        [ 4.6563e-01],\n",
      "        [ 4.9979e-01],\n",
      "        [ 4.4913e-01],\n",
      "        [ 9.8252e-01],\n",
      "        [ 9.7628e-01],\n",
      "        [ 9.4269e-01],\n",
      "        [ 9.1245e-01],\n",
      "        [ 4.7089e-01],\n",
      "        [ 4.0883e-01],\n",
      "        [ 4.3849e-01],\n",
      "        [ 4.3289e-01],\n",
      "        [ 4.2168e-01],\n",
      "        [ 4.0293e-01],\n",
      "        [ 3.9030e-01],\n",
      "        [ 4.4370e-01],\n",
      "        [ 9.7623e-01],\n",
      "        [ 9.4630e-01],\n",
      "        [ 9.4419e-01],\n",
      "        [ 9.0344e-01],\n",
      "        [ 9.2140e-01],\n",
      "        [ 3.5450e-01],\n",
      "        [ 2.0986e-01],\n",
      "        [ 4.0943e-01],\n",
      "        [ 4.0041e-01],\n",
      "        [ 9.0617e-01],\n",
      "        [ 9.7363e-01],\n",
      "        [ 9.4522e-01],\n",
      "        [ 8.7552e-01],\n",
      "        [ 9.0007e-01]]) torch.Size([32, 1])\n"
     ]
    }
   ],
   "source": [
    "for i, (feature, label) in enumerate(valid_iter):\n",
    "    if(i < 1):\n",
    "        print(\"input: \", feature, feature.shape)\n",
    "        print(\"output: \", label, label.shape)\n",
    "        # print(label.shape[0])\n",
    "    else:\n",
    "        break"
   ]
  },
  {
   "cell_type": "code",
   "execution_count": 117,
   "id": "b2da833b-4f5c-4cbd-9ba6-66f259a0e9d2",
   "metadata": {},
   "outputs": [
    {
     "data": {
      "text/plain": [
       "(140, 16)"
      ]
     },
     "execution_count": 117,
     "metadata": {},
     "output_type": "execute_result"
    }
   ],
   "source": [
    "len(train_iter), len(valid_iter)"
   ]
  },
  {
   "cell_type": "code",
   "execution_count": 118,
   "id": "7298c501-26d9-4431-8265-f07a66db81c5",
   "metadata": {},
   "outputs": [],
   "source": [
    "class MyNetwork(nn.Module):\n",
    "    def __init__(self, input_size, output_size):\n",
    "        super(MyNetwork, self).__init__()\n",
    "        self.fc1 = nn.Linear(input_size, 10)\n",
    "        # self.fc2 = nn.Linear(10, 12)\n",
    "        self.fc3 = nn.Linear(10, output_size)\n",
    "        \n",
    "    def forward(self, x):\n",
    "        # return self.fc3(F.tanh(self.fc2(F.tanh(self.fc1(x)))))\n",
    "        return self.fc3(F.tanh(self.fc1(x)))"
   ]
  },
  {
   "cell_type": "code",
   "execution_count": 142,
   "id": "027e97ee-3a55-4591-8a27-1539d5b65c85",
   "metadata": {},
   "outputs": [],
   "source": [
    "def get_net():\n",
    "    net = MyNetwork(3, 1)\n",
    "    return net"
   ]
  },
  {
   "cell_type": "code",
   "execution_count": 121,
   "id": "b8a15ed3-8949-4add-833b-c7c7f2662253",
   "metadata": {},
   "outputs": [],
   "source": [
    "from d2l import torch as d2l"
   ]
  },
  {
   "cell_type": "code",
   "execution_count": 146,
   "id": "1426f114-4508-4bab-8e2a-a167c3b94b7c",
   "metadata": {},
   "outputs": [],
   "source": [
    "loss = nn.MSELoss(reduction='none')\n",
    "\n",
    "def evaluate_loss(data_iter, net, devices):\n",
    "    l_sum, n = 0.0, 0\n",
    "    for features, labels in data_iter:\n",
    "        features, labels = features.to(devices[0]), labels.to(devices[0])\n",
    "        outputs = net(features)\n",
    "        l = loss(outputs, labels)\n",
    "        l_sum += l.sum()\n",
    "        n += labels.numel()\n",
    "    return (l_sum / n).to('cpu')"
   ]
  },
  {
   "cell_type": "code",
   "execution_count": 162,
   "id": "0404466e-eab6-4fe0-8547-8de28d64020c",
   "metadata": {},
   "outputs": [],
   "source": [
    "def train(net, train_iter, valid_iter, num_epochs, lr, wd, devices, lr_period,\n",
    "          lr_decay):\n",
    "    trainer = torch.optim.SGD(net.parameters(), lr=lr, momentum=0.9,\n",
    "                              weight_decay=wd)\n",
    "    scheduler = torch.optim.lr_scheduler.StepLR(trainer, lr_period, lr_decay)\n",
    "    num_batches, timer = len(train_iter), d2l.Timer()\n",
    "    legend = ['train loss', 'train acc']\n",
    "    if valid_iter is not None:\n",
    "        legend.append('valid acc')\n",
    "    animator = d2l.Animator(xlabel='epoch', xlim=[1, num_epochs],\n",
    "                            legend=legend)\n",
    "    net = nn.DataParallel(net, device_ids=devices).to(devices[0])\n",
    "    for epoch in range(num_epochs):\n",
    "        net.train()\n",
    "        metric = d2l.Accumulator(3)\n",
    "        for i, (features, labels) in enumerate(train_iter):\n",
    "            timer.start()\n",
    "#             l, acc = d2l.train_batch_ch13(net, features, labels,\n",
    "#                                           loss, trainer, devices)\n",
    "            l, acc = train_batch(net, features, labels,\n",
    "                                loss, trainer, devices)\n",
    "            metric.add(l, acc, labels.shape[0])\n",
    "            timer.stop()\n",
    "            if (i + 1) % (num_batches // 5) == 0 or i == num_batches - 1:\n",
    "                animator.add(epoch + (i + 1) / num_batches,\n",
    "                             (metric[0] / metric[2], metric[1] / metric[2],\n",
    "                              None))\n",
    "        if valid_iter is not None:\n",
    "            valid_acc = d2l.evaluate_accuracy_gpu(net, valid_iter)\n",
    "            animator.add(epoch + 1, (None, None, valid_acc))\n",
    "        scheduler.step()\n",
    "    measures = (f'train loss {metric[0] / metric[2]:.3f}, '\n",
    "                f'train acc {metric[1] / metric[2]:.3f}')\n",
    "    if valid_iter is not None:\n",
    "        measures += f', valid acc {valid_acc:.3f}'\n",
    "    print(measures + f'\\n{metric[2] * num_epochs / timer.sum():.1f}'\n",
    "          f' examples/sec on {str(devices)}')"
   ]
  },
  {
   "cell_type": "code",
   "execution_count": 163,
   "id": "3e33173d-cf15-4875-9585-d626e619b5d0",
   "metadata": {},
   "outputs": [
    {
     "name": "stdout",
     "output_type": "stream",
     "text": [
      "train loss 0.016, train acc 0.371, valid acc 0.000\n",
      "12476.3 examples/sec on [device(type='cuda', index=0)]\n"
     ]
    },
    {
     "data": {
      "image/svg+xml": [
       "<?xml version=\"1.0\" encoding=\"utf-8\" standalone=\"no\"?>\n",
       "<!DOCTYPE svg PUBLIC \"-//W3C//DTD SVG 1.1//EN\"\n",
       "  \"http://www.w3.org/Graphics/SVG/1.1/DTD/svg11.dtd\">\n",
       "<svg xmlns:xlink=\"http://www.w3.org/1999/xlink\" width=\"238.965625pt\" height=\"180.65625pt\" viewBox=\"0 0 238.965625 180.65625\" xmlns=\"http://www.w3.org/2000/svg\" version=\"1.1\">\n",
       " <metadata>\n",
       "  <rdf:RDF xmlns:dc=\"http://purl.org/dc/elements/1.1/\" xmlns:cc=\"http://creativecommons.org/ns#\" xmlns:rdf=\"http://www.w3.org/1999/02/22-rdf-syntax-ns#\">\n",
       "   <cc:Work>\n",
       "    <dc:type rdf:resource=\"http://purl.org/dc/dcmitype/StillImage\"/>\n",
       "    <dc:date>2022-04-08T21:17:54.420147</dc:date>\n",
       "    <dc:format>image/svg+xml</dc:format>\n",
       "    <dc:creator>\n",
       "     <cc:Agent>\n",
       "      <dc:title>Matplotlib v3.5.1, https://matplotlib.org/</dc:title>\n",
       "     </cc:Agent>\n",
       "    </dc:creator>\n",
       "   </cc:Work>\n",
       "  </rdf:RDF>\n",
       " </metadata>\n",
       " <defs>\n",
       "  <style type=\"text/css\">*{stroke-linejoin: round; stroke-linecap: butt}</style>\n",
       " </defs>\n",
       " <g id=\"figure_1\">\n",
       "  <g id=\"patch_1\">\n",
       "   <path d=\"M 0 180.65625 \n",
       "L 238.965625 180.65625 \n",
       "L 238.965625 0 \n",
       "L 0 0 \n",
       "L 0 180.65625 \n",
       "z\n",
       "\" style=\"fill: none\"/>\n",
       "  </g>\n",
       "  <g id=\"axes_1\">\n",
       "   <g id=\"patch_2\">\n",
       "    <path d=\"M 30.103125 143.1 \n",
       "L 225.403125 143.1 \n",
       "L 225.403125 7.2 \n",
       "L 30.103125 7.2 \n",
       "z\n",
       "\" style=\"fill: #ffffff\"/>\n",
       "   </g>\n",
       "   <g id=\"matplotlib.axis_1\">\n",
       "    <g id=\"xtick_1\">\n",
       "     <g id=\"line2d_1\">\n",
       "      <path d=\"M 71.218914 143.1 \n",
       "L 71.218914 7.2 \n",
       "\" clip-path=\"url(#pd0a5e75648)\" style=\"fill: none; stroke: #b0b0b0; stroke-width: 0.8; stroke-linecap: square\"/>\n",
       "     </g>\n",
       "     <g id=\"line2d_2\">\n",
       "      <defs>\n",
       "       <path id=\"m52c189af36\" d=\"M 0 0 \n",
       "L 0 3.5 \n",
       "\" style=\"stroke: #000000; stroke-width: 0.8\"/>\n",
       "      </defs>\n",
       "      <g>\n",
       "       <use xlink:href=\"#m52c189af36\" x=\"71.218914\" y=\"143.1\" style=\"stroke: #000000; stroke-width: 0.8\"/>\n",
       "      </g>\n",
       "     </g>\n",
       "     <g id=\"text_1\">\n",
       "      <!-- 5 -->\n",
       "      <g transform=\"translate(68.037664 157.698438)scale(0.1 -0.1)\">\n",
       "       <defs>\n",
       "        <path id=\"DejaVuSans-35\" d=\"M 691 4666 \n",
       "L 3169 4666 \n",
       "L 3169 4134 \n",
       "L 1269 4134 \n",
       "L 1269 2991 \n",
       "Q 1406 3038 1543 3061 \n",
       "Q 1681 3084 1819 3084 \n",
       "Q 2600 3084 3056 2656 \n",
       "Q 3513 2228 3513 1497 \n",
       "Q 3513 744 3044 326 \n",
       "Q 2575 -91 1722 -91 \n",
       "Q 1428 -91 1123 -41 \n",
       "Q 819 9 494 109 \n",
       "L 494 744 \n",
       "Q 775 591 1075 516 \n",
       "Q 1375 441 1709 441 \n",
       "Q 2250 441 2565 725 \n",
       "Q 2881 1009 2881 1497 \n",
       "Q 2881 1984 2565 2268 \n",
       "Q 2250 2553 1709 2553 \n",
       "Q 1456 2553 1204 2497 \n",
       "Q 953 2441 691 2322 \n",
       "L 691 4666 \n",
       "z\n",
       "\" transform=\"scale(0.015625)\"/>\n",
       "       </defs>\n",
       "       <use xlink:href=\"#DejaVuSans-35\"/>\n",
       "      </g>\n",
       "     </g>\n",
       "    </g>\n",
       "    <g id=\"xtick_2\">\n",
       "     <g id=\"line2d_3\">\n",
       "      <path d=\"M 122.613651 143.1 \n",
       "L 122.613651 7.2 \n",
       "\" clip-path=\"url(#pd0a5e75648)\" style=\"fill: none; stroke: #b0b0b0; stroke-width: 0.8; stroke-linecap: square\"/>\n",
       "     </g>\n",
       "     <g id=\"line2d_4\">\n",
       "      <g>\n",
       "       <use xlink:href=\"#m52c189af36\" x=\"122.613651\" y=\"143.1\" style=\"stroke: #000000; stroke-width: 0.8\"/>\n",
       "      </g>\n",
       "     </g>\n",
       "     <g id=\"text_2\">\n",
       "      <!-- 10 -->\n",
       "      <g transform=\"translate(116.251151 157.698438)scale(0.1 -0.1)\">\n",
       "       <defs>\n",
       "        <path id=\"DejaVuSans-31\" d=\"M 794 531 \n",
       "L 1825 531 \n",
       "L 1825 4091 \n",
       "L 703 3866 \n",
       "L 703 4441 \n",
       "L 1819 4666 \n",
       "L 2450 4666 \n",
       "L 2450 531 \n",
       "L 3481 531 \n",
       "L 3481 0 \n",
       "L 794 0 \n",
       "L 794 531 \n",
       "z\n",
       "\" transform=\"scale(0.015625)\"/>\n",
       "        <path id=\"DejaVuSans-30\" d=\"M 2034 4250 \n",
       "Q 1547 4250 1301 3770 \n",
       "Q 1056 3291 1056 2328 \n",
       "Q 1056 1369 1301 889 \n",
       "Q 1547 409 2034 409 \n",
       "Q 2525 409 2770 889 \n",
       "Q 3016 1369 3016 2328 \n",
       "Q 3016 3291 2770 3770 \n",
       "Q 2525 4250 2034 4250 \n",
       "z\n",
       "M 2034 4750 \n",
       "Q 2819 4750 3233 4129 \n",
       "Q 3647 3509 3647 2328 \n",
       "Q 3647 1150 3233 529 \n",
       "Q 2819 -91 2034 -91 \n",
       "Q 1250 -91 836 529 \n",
       "Q 422 1150 422 2328 \n",
       "Q 422 3509 836 4129 \n",
       "Q 1250 4750 2034 4750 \n",
       "z\n",
       "\" transform=\"scale(0.015625)\"/>\n",
       "       </defs>\n",
       "       <use xlink:href=\"#DejaVuSans-31\"/>\n",
       "       <use xlink:href=\"#DejaVuSans-30\" x=\"63.623047\"/>\n",
       "      </g>\n",
       "     </g>\n",
       "    </g>\n",
       "    <g id=\"xtick_3\">\n",
       "     <g id=\"line2d_5\">\n",
       "      <path d=\"M 174.008388 143.1 \n",
       "L 174.008388 7.2 \n",
       "\" clip-path=\"url(#pd0a5e75648)\" style=\"fill: none; stroke: #b0b0b0; stroke-width: 0.8; stroke-linecap: square\"/>\n",
       "     </g>\n",
       "     <g id=\"line2d_6\">\n",
       "      <g>\n",
       "       <use xlink:href=\"#m52c189af36\" x=\"174.008388\" y=\"143.1\" style=\"stroke: #000000; stroke-width: 0.8\"/>\n",
       "      </g>\n",
       "     </g>\n",
       "     <g id=\"text_3\">\n",
       "      <!-- 15 -->\n",
       "      <g transform=\"translate(167.645888 157.698438)scale(0.1 -0.1)\">\n",
       "       <use xlink:href=\"#DejaVuSans-31\"/>\n",
       "       <use xlink:href=\"#DejaVuSans-35\" x=\"63.623047\"/>\n",
       "      </g>\n",
       "     </g>\n",
       "    </g>\n",
       "    <g id=\"xtick_4\">\n",
       "     <g id=\"line2d_7\">\n",
       "      <path d=\"M 225.403125 143.1 \n",
       "L 225.403125 7.2 \n",
       "\" clip-path=\"url(#pd0a5e75648)\" style=\"fill: none; stroke: #b0b0b0; stroke-width: 0.8; stroke-linecap: square\"/>\n",
       "     </g>\n",
       "     <g id=\"line2d_8\">\n",
       "      <g>\n",
       "       <use xlink:href=\"#m52c189af36\" x=\"225.403125\" y=\"143.1\" style=\"stroke: #000000; stroke-width: 0.8\"/>\n",
       "      </g>\n",
       "     </g>\n",
       "     <g id=\"text_4\">\n",
       "      <!-- 20 -->\n",
       "      <g transform=\"translate(219.040625 157.698438)scale(0.1 -0.1)\">\n",
       "       <defs>\n",
       "        <path id=\"DejaVuSans-32\" d=\"M 1228 531 \n",
       "L 3431 531 \n",
       "L 3431 0 \n",
       "L 469 0 \n",
       "L 469 531 \n",
       "Q 828 903 1448 1529 \n",
       "Q 2069 2156 2228 2338 \n",
       "Q 2531 2678 2651 2914 \n",
       "Q 2772 3150 2772 3378 \n",
       "Q 2772 3750 2511 3984 \n",
       "Q 2250 4219 1831 4219 \n",
       "Q 1534 4219 1204 4116 \n",
       "Q 875 4013 500 3803 \n",
       "L 500 4441 \n",
       "Q 881 4594 1212 4672 \n",
       "Q 1544 4750 1819 4750 \n",
       "Q 2544 4750 2975 4387 \n",
       "Q 3406 4025 3406 3419 \n",
       "Q 3406 3131 3298 2873 \n",
       "Q 3191 2616 2906 2266 \n",
       "Q 2828 2175 2409 1742 \n",
       "Q 1991 1309 1228 531 \n",
       "z\n",
       "\" transform=\"scale(0.015625)\"/>\n",
       "       </defs>\n",
       "       <use xlink:href=\"#DejaVuSans-32\"/>\n",
       "       <use xlink:href=\"#DejaVuSans-30\" x=\"63.623047\"/>\n",
       "      </g>\n",
       "     </g>\n",
       "    </g>\n",
       "    <g id=\"text_5\">\n",
       "     <!-- epoch -->\n",
       "     <g transform=\"translate(112.525 171.376563)scale(0.1 -0.1)\">\n",
       "      <defs>\n",
       "       <path id=\"DejaVuSans-65\" d=\"M 3597 1894 \n",
       "L 3597 1613 \n",
       "L 953 1613 \n",
       "Q 991 1019 1311 708 \n",
       "Q 1631 397 2203 397 \n",
       "Q 2534 397 2845 478 \n",
       "Q 3156 559 3463 722 \n",
       "L 3463 178 \n",
       "Q 3153 47 2828 -22 \n",
       "Q 2503 -91 2169 -91 \n",
       "Q 1331 -91 842 396 \n",
       "Q 353 884 353 1716 \n",
       "Q 353 2575 817 3079 \n",
       "Q 1281 3584 2069 3584 \n",
       "Q 2775 3584 3186 3129 \n",
       "Q 3597 2675 3597 1894 \n",
       "z\n",
       "M 3022 2063 \n",
       "Q 3016 2534 2758 2815 \n",
       "Q 2500 3097 2075 3097 \n",
       "Q 1594 3097 1305 2825 \n",
       "Q 1016 2553 972 2059 \n",
       "L 3022 2063 \n",
       "z\n",
       "\" transform=\"scale(0.015625)\"/>\n",
       "       <path id=\"DejaVuSans-70\" d=\"M 1159 525 \n",
       "L 1159 -1331 \n",
       "L 581 -1331 \n",
       "L 581 3500 \n",
       "L 1159 3500 \n",
       "L 1159 2969 \n",
       "Q 1341 3281 1617 3432 \n",
       "Q 1894 3584 2278 3584 \n",
       "Q 2916 3584 3314 3078 \n",
       "Q 3713 2572 3713 1747 \n",
       "Q 3713 922 3314 415 \n",
       "Q 2916 -91 2278 -91 \n",
       "Q 1894 -91 1617 61 \n",
       "Q 1341 213 1159 525 \n",
       "z\n",
       "M 3116 1747 \n",
       "Q 3116 2381 2855 2742 \n",
       "Q 2594 3103 2138 3103 \n",
       "Q 1681 3103 1420 2742 \n",
       "Q 1159 2381 1159 1747 \n",
       "Q 1159 1113 1420 752 \n",
       "Q 1681 391 2138 391 \n",
       "Q 2594 391 2855 752 \n",
       "Q 3116 1113 3116 1747 \n",
       "z\n",
       "\" transform=\"scale(0.015625)\"/>\n",
       "       <path id=\"DejaVuSans-6f\" d=\"M 1959 3097 \n",
       "Q 1497 3097 1228 2736 \n",
       "Q 959 2375 959 1747 \n",
       "Q 959 1119 1226 758 \n",
       "Q 1494 397 1959 397 \n",
       "Q 2419 397 2687 759 \n",
       "Q 2956 1122 2956 1747 \n",
       "Q 2956 2369 2687 2733 \n",
       "Q 2419 3097 1959 3097 \n",
       "z\n",
       "M 1959 3584 \n",
       "Q 2709 3584 3137 3096 \n",
       "Q 3566 2609 3566 1747 \n",
       "Q 3566 888 3137 398 \n",
       "Q 2709 -91 1959 -91 \n",
       "Q 1206 -91 779 398 \n",
       "Q 353 888 353 1747 \n",
       "Q 353 2609 779 3096 \n",
       "Q 1206 3584 1959 3584 \n",
       "z\n",
       "\" transform=\"scale(0.015625)\"/>\n",
       "       <path id=\"DejaVuSans-63\" d=\"M 3122 3366 \n",
       "L 3122 2828 \n",
       "Q 2878 2963 2633 3030 \n",
       "Q 2388 3097 2138 3097 \n",
       "Q 1578 3097 1268 2742 \n",
       "Q 959 2388 959 1747 \n",
       "Q 959 1106 1268 751 \n",
       "Q 1578 397 2138 397 \n",
       "Q 2388 397 2633 464 \n",
       "Q 2878 531 3122 666 \n",
       "L 3122 134 \n",
       "Q 2881 22 2623 -34 \n",
       "Q 2366 -91 2075 -91 \n",
       "Q 1284 -91 818 406 \n",
       "Q 353 903 353 1747 \n",
       "Q 353 2603 823 3093 \n",
       "Q 1294 3584 2113 3584 \n",
       "Q 2378 3584 2631 3529 \n",
       "Q 2884 3475 3122 3366 \n",
       "z\n",
       "\" transform=\"scale(0.015625)\"/>\n",
       "       <path id=\"DejaVuSans-68\" d=\"M 3513 2113 \n",
       "L 3513 0 \n",
       "L 2938 0 \n",
       "L 2938 2094 \n",
       "Q 2938 2591 2744 2837 \n",
       "Q 2550 3084 2163 3084 \n",
       "Q 1697 3084 1428 2787 \n",
       "Q 1159 2491 1159 1978 \n",
       "L 1159 0 \n",
       "L 581 0 \n",
       "L 581 4863 \n",
       "L 1159 4863 \n",
       "L 1159 2956 \n",
       "Q 1366 3272 1645 3428 \n",
       "Q 1925 3584 2291 3584 \n",
       "Q 2894 3584 3203 3211 \n",
       "Q 3513 2838 3513 2113 \n",
       "z\n",
       "\" transform=\"scale(0.015625)\"/>\n",
       "      </defs>\n",
       "      <use xlink:href=\"#DejaVuSans-65\"/>\n",
       "      <use xlink:href=\"#DejaVuSans-70\" x=\"61.523438\"/>\n",
       "      <use xlink:href=\"#DejaVuSans-6f\" x=\"125\"/>\n",
       "      <use xlink:href=\"#DejaVuSans-63\" x=\"186.181641\"/>\n",
       "      <use xlink:href=\"#DejaVuSans-68\" x=\"241.162109\"/>\n",
       "     </g>\n",
       "    </g>\n",
       "   </g>\n",
       "   <g id=\"matplotlib.axis_2\">\n",
       "    <g id=\"ytick_1\">\n",
       "     <g id=\"line2d_9\">\n",
       "      <path d=\"M 30.103125 136.922727 \n",
       "L 225.403125 136.922727 \n",
       "\" clip-path=\"url(#pd0a5e75648)\" style=\"fill: none; stroke: #b0b0b0; stroke-width: 0.8; stroke-linecap: square\"/>\n",
       "     </g>\n",
       "     <g id=\"line2d_10\">\n",
       "      <defs>\n",
       "       <path id=\"m9b76b55326\" d=\"M 0 0 \n",
       "L -3.5 0 \n",
       "\" style=\"stroke: #000000; stroke-width: 0.8\"/>\n",
       "      </defs>\n",
       "      <g>\n",
       "       <use xlink:href=\"#m9b76b55326\" x=\"30.103125\" y=\"136.922727\" style=\"stroke: #000000; stroke-width: 0.8\"/>\n",
       "      </g>\n",
       "     </g>\n",
       "     <g id=\"text_6\">\n",
       "      <!-- 0.0 -->\n",
       "      <g transform=\"translate(7.2 140.721946)scale(0.1 -0.1)\">\n",
       "       <defs>\n",
       "        <path id=\"DejaVuSans-2e\" d=\"M 684 794 \n",
       "L 1344 794 \n",
       "L 1344 0 \n",
       "L 684 0 \n",
       "L 684 794 \n",
       "z\n",
       "\" transform=\"scale(0.015625)\"/>\n",
       "       </defs>\n",
       "       <use xlink:href=\"#DejaVuSans-30\"/>\n",
       "       <use xlink:href=\"#DejaVuSans-2e\" x=\"63.623047\"/>\n",
       "       <use xlink:href=\"#DejaVuSans-30\" x=\"95.410156\"/>\n",
       "      </g>\n",
       "     </g>\n",
       "    </g>\n",
       "    <g id=\"ytick_2\">\n",
       "     <g id=\"line2d_11\">\n",
       "      <path d=\"M 30.103125 102.569017 \n",
       "L 225.403125 102.569017 \n",
       "\" clip-path=\"url(#pd0a5e75648)\" style=\"fill: none; stroke: #b0b0b0; stroke-width: 0.8; stroke-linecap: square\"/>\n",
       "     </g>\n",
       "     <g id=\"line2d_12\">\n",
       "      <g>\n",
       "       <use xlink:href=\"#m9b76b55326\" x=\"30.103125\" y=\"102.569017\" style=\"stroke: #000000; stroke-width: 0.8\"/>\n",
       "      </g>\n",
       "     </g>\n",
       "     <g id=\"text_7\">\n",
       "      <!-- 0.2 -->\n",
       "      <g transform=\"translate(7.2 106.368236)scale(0.1 -0.1)\">\n",
       "       <use xlink:href=\"#DejaVuSans-30\"/>\n",
       "       <use xlink:href=\"#DejaVuSans-2e\" x=\"63.623047\"/>\n",
       "       <use xlink:href=\"#DejaVuSans-32\" x=\"95.410156\"/>\n",
       "      </g>\n",
       "     </g>\n",
       "    </g>\n",
       "    <g id=\"ytick_3\">\n",
       "     <g id=\"line2d_13\">\n",
       "      <path d=\"M 30.103125 68.215307 \n",
       "L 225.403125 68.215307 \n",
       "\" clip-path=\"url(#pd0a5e75648)\" style=\"fill: none; stroke: #b0b0b0; stroke-width: 0.8; stroke-linecap: square\"/>\n",
       "     </g>\n",
       "     <g id=\"line2d_14\">\n",
       "      <g>\n",
       "       <use xlink:href=\"#m9b76b55326\" x=\"30.103125\" y=\"68.215307\" style=\"stroke: #000000; stroke-width: 0.8\"/>\n",
       "      </g>\n",
       "     </g>\n",
       "     <g id=\"text_8\">\n",
       "      <!-- 0.4 -->\n",
       "      <g transform=\"translate(7.2 72.014526)scale(0.1 -0.1)\">\n",
       "       <defs>\n",
       "        <path id=\"DejaVuSans-34\" d=\"M 2419 4116 \n",
       "L 825 1625 \n",
       "L 2419 1625 \n",
       "L 2419 4116 \n",
       "z\n",
       "M 2253 4666 \n",
       "L 3047 4666 \n",
       "L 3047 1625 \n",
       "L 3713 1625 \n",
       "L 3713 1100 \n",
       "L 3047 1100 \n",
       "L 3047 0 \n",
       "L 2419 0 \n",
       "L 2419 1100 \n",
       "L 313 1100 \n",
       "L 313 1709 \n",
       "L 2253 4666 \n",
       "z\n",
       "\" transform=\"scale(0.015625)\"/>\n",
       "       </defs>\n",
       "       <use xlink:href=\"#DejaVuSans-30\"/>\n",
       "       <use xlink:href=\"#DejaVuSans-2e\" x=\"63.623047\"/>\n",
       "       <use xlink:href=\"#DejaVuSans-34\" x=\"95.410156\"/>\n",
       "      </g>\n",
       "     </g>\n",
       "    </g>\n",
       "    <g id=\"ytick_4\">\n",
       "     <g id=\"line2d_15\">\n",
       "      <path d=\"M 30.103125 33.861597 \n",
       "L 225.403125 33.861597 \n",
       "\" clip-path=\"url(#pd0a5e75648)\" style=\"fill: none; stroke: #b0b0b0; stroke-width: 0.8; stroke-linecap: square\"/>\n",
       "     </g>\n",
       "     <g id=\"line2d_16\">\n",
       "      <g>\n",
       "       <use xlink:href=\"#m9b76b55326\" x=\"30.103125\" y=\"33.861597\" style=\"stroke: #000000; stroke-width: 0.8\"/>\n",
       "      </g>\n",
       "     </g>\n",
       "     <g id=\"text_9\">\n",
       "      <!-- 0.6 -->\n",
       "      <g transform=\"translate(7.2 37.660816)scale(0.1 -0.1)\">\n",
       "       <defs>\n",
       "        <path id=\"DejaVuSans-36\" d=\"M 2113 2584 \n",
       "Q 1688 2584 1439 2293 \n",
       "Q 1191 2003 1191 1497 \n",
       "Q 1191 994 1439 701 \n",
       "Q 1688 409 2113 409 \n",
       "Q 2538 409 2786 701 \n",
       "Q 3034 994 3034 1497 \n",
       "Q 3034 2003 2786 2293 \n",
       "Q 2538 2584 2113 2584 \n",
       "z\n",
       "M 3366 4563 \n",
       "L 3366 3988 \n",
       "Q 3128 4100 2886 4159 \n",
       "Q 2644 4219 2406 4219 \n",
       "Q 1781 4219 1451 3797 \n",
       "Q 1122 3375 1075 2522 \n",
       "Q 1259 2794 1537 2939 \n",
       "Q 1816 3084 2150 3084 \n",
       "Q 2853 3084 3261 2657 \n",
       "Q 3669 2231 3669 1497 \n",
       "Q 3669 778 3244 343 \n",
       "Q 2819 -91 2113 -91 \n",
       "Q 1303 -91 875 529 \n",
       "Q 447 1150 447 2328 \n",
       "Q 447 3434 972 4092 \n",
       "Q 1497 4750 2381 4750 \n",
       "Q 2619 4750 2861 4703 \n",
       "Q 3103 4656 3366 4563 \n",
       "z\n",
       "\" transform=\"scale(0.015625)\"/>\n",
       "       </defs>\n",
       "       <use xlink:href=\"#DejaVuSans-30\"/>\n",
       "       <use xlink:href=\"#DejaVuSans-2e\" x=\"63.623047\"/>\n",
       "       <use xlink:href=\"#DejaVuSans-36\" x=\"95.410156\"/>\n",
       "      </g>\n",
       "     </g>\n",
       "    </g>\n",
       "   </g>\n",
       "   <g id=\"line2d_17\">\n",
       "    <path d=\"M 21.879967 13.795952 \n",
       "L 23.935757 13.377273 \n",
       "L 25.991546 18.082429 \n",
       "L 28.047336 22.55021 \n",
       "L 30.103125 26.228565 \n",
       "L 32.158914 43.880179 \n",
       "L 34.214704 49.143998 \n",
       "L 36.270493 53.243969 \n",
       "L 38.326283 55.625315 \n",
       "L 40.382072 60.148109 \n",
       "L 42.437862 87.505955 \n",
       "L 44.493651 94.812292 \n",
       "L 46.549441 99.997994 \n",
       "L 48.60523 103.547602 \n",
       "L 50.66102 106.480289 \n",
       "L 52.716809 121.948775 \n",
       "L 54.772599 123.06287 \n",
       "L 56.828388 123.871621 \n",
       "L 58.884178 124.566725 \n",
       "L 60.939967 125.01744 \n",
       "L 62.995757 127.833423 \n",
       "L 65.051546 128.24121 \n",
       "L 67.107336 128.25754 \n",
       "L 69.163125 128.597401 \n",
       "L 71.218914 128.840378 \n",
       "L 73.274704 130.159173 \n",
       "L 75.330493 130.115127 \n",
       "L 77.386283 130.232805 \n",
       "L 79.442072 130.27492 \n",
       "L 81.497862 130.296364 \n",
       "L 83.553651 130.760609 \n",
       "L 85.609441 130.920964 \n",
       "L 87.66523 130.922786 \n",
       "L 89.72102 131.103813 \n",
       "L 91.776809 131.166778 \n",
       "L 93.832599 130.691951 \n",
       "L 95.888388 131.163327 \n",
       "L 97.944178 131.394735 \n",
       "L 99.999967 131.573559 \n",
       "L 102.055757 131.695413 \n",
       "L 104.111546 132.084583 \n",
       "L 106.167336 132.178248 \n",
       "L 108.223125 132.11206 \n",
       "L 110.278914 132.177173 \n",
       "L 112.334704 132.191242 \n",
       "L 114.390493 132.381387 \n",
       "L 116.446283 132.424672 \n",
       "L 118.502072 132.364105 \n",
       "L 120.557862 132.375321 \n",
       "L 122.613651 132.512486 \n",
       "L 124.669441 132.940494 \n",
       "L 126.72523 132.802891 \n",
       "L 128.78102 132.854818 \n",
       "L 130.836809 132.89112 \n",
       "L 132.892599 132.874265 \n",
       "L 134.948388 133.003453 \n",
       "L 137.004178 133.047611 \n",
       "L 139.059967 133.066066 \n",
       "L 141.115757 133.103656 \n",
       "L 143.171546 133.142427 \n",
       "L 145.227336 133.351078 \n",
       "L 147.283125 133.171367 \n",
       "L 149.338914 133.101104 \n",
       "L 151.394704 133.26832 \n",
       "L 153.450493 133.31308 \n",
       "L 155.506283 133.429289 \n",
       "L 157.562072 133.58956 \n",
       "L 159.617862 133.539815 \n",
       "L 161.673651 133.533063 \n",
       "L 163.729441 133.521242 \n",
       "L 165.78523 133.849532 \n",
       "L 167.84102 133.683015 \n",
       "L 169.896809 133.694317 \n",
       "L 171.952599 133.650891 \n",
       "L 174.008388 133.659242 \n",
       "L 176.064178 133.680655 \n",
       "L 178.119967 133.755567 \n",
       "L 180.175757 133.706543 \n",
       "L 182.231546 133.735542 \n",
       "L 184.287336 133.808627 \n",
       "L 186.343125 133.976641 \n",
       "L 188.398914 133.965598 \n",
       "L 190.454704 133.933943 \n",
       "L 192.510493 133.986061 \n",
       "L 194.566283 133.957205 \n",
       "L 196.622072 134.128083 \n",
       "L 198.677862 134.062401 \n",
       "L 200.733651 134.139454 \n",
       "L 202.789441 134.090439 \n",
       "L 204.84523 134.060409 \n",
       "L 206.90102 134.027049 \n",
       "L 208.956809 134.150917 \n",
       "L 211.012599 134.129666 \n",
       "L 213.068388 134.123197 \n",
       "L 215.124178 134.144814 \n",
       "L 217.179967 134.1965 \n",
       "L 219.235757 134.127554 \n",
       "L 221.291546 134.194984 \n",
       "L 223.347336 134.206376 \n",
       "L 225.403125 134.19373 \n",
       "\" clip-path=\"url(#pd0a5e75648)\" style=\"fill: none; stroke: #1f77b4; stroke-width: 1.5; stroke-linecap: square\"/>\n",
       "   </g>\n",
       "   <g id=\"line2d_18\">\n",
       "    <path d=\"M 21.879967 129.6379 \n",
       "L 23.935757 129.542047 \n",
       "L 25.991546 129.382292 \n",
       "L 28.047336 129.542047 \n",
       "L 30.103125 129.254488 \n",
       "L 32.158914 127.912547 \n",
       "L 34.214704 127.04987 \n",
       "L 36.270493 126.762311 \n",
       "L 38.326283 127.097796 \n",
       "L 40.382072 126.340558 \n",
       "L 42.437862 124.845251 \n",
       "L 44.493651 124.078427 \n",
       "L 46.549441 123.311603 \n",
       "L 48.60523 121.873809 \n",
       "L 50.66102 120.896108 \n",
       "L 52.716809 113.151187 \n",
       "L 54.772599 111.617539 \n",
       "L 56.828388 109.444871 \n",
       "L 58.884178 108.789876 \n",
       "L 60.939967 109.125361 \n",
       "L 62.995757 104.90783 \n",
       "L 65.051546 101.265417 \n",
       "L 67.107336 101.329319 \n",
       "L 69.163125 100.306887 \n",
       "L 71.218914 100.07684 \n",
       "L 73.274704 99.348357 \n",
       "L 75.330493 98.964945 \n",
       "L 77.386283 97.942513 \n",
       "L 79.442072 97.766783 \n",
       "L 81.497862 97.239591 \n",
       "L 83.553651 95.322532 \n",
       "L 85.609441 94.747414 \n",
       "L 87.66523 95.897649 \n",
       "L 89.72102 93.405472 \n",
       "L 91.776809 92.792013 \n",
       "L 93.832599 97.239591 \n",
       "L 95.888388 93.98059 \n",
       "L 97.944178 93.724982 \n",
       "L 99.999967 91.536339 \n",
       "L 102.055757 91.565095 \n",
       "L 104.111546 89.379646 \n",
       "L 106.167336 88.996235 \n",
       "L 108.223125 89.699156 \n",
       "L 110.278914 89.523426 \n",
       "L 112.334704 89.456329 \n",
       "L 114.390493 85.737233 \n",
       "L 116.446283 86.216498 \n",
       "L 118.502072 86.631861 \n",
       "L 120.557862 86.743689 \n",
       "L 122.613651 86.27401 \n",
       "L 124.669441 81.13629 \n",
       "L 126.72523 84.395291 \n",
       "L 128.78102 84.331389 \n",
       "L 130.836809 83.72432 \n",
       "L 132.892599 84.740362 \n",
       "L 134.948388 83.053349 \n",
       "L 137.004178 81.998967 \n",
       "L 139.059967 82.222624 \n",
       "L 141.115757 82.190673 \n",
       "L 143.171546 81.903114 \n",
       "L 145.227336 81.327996 \n",
       "L 147.283125 81.615555 \n",
       "L 149.338914 83.436761 \n",
       "L 151.394704 81.184216 \n",
       "L 153.450493 81.404678 \n",
       "L 155.506283 75.576817 \n",
       "L 157.562072 72.701227 \n",
       "L 159.617862 75.576817 \n",
       "L 161.673651 75.960229 \n",
       "L 163.729441 76.34364 \n",
       "L 165.78523 78.452406 \n",
       "L 167.84102 78.739965 \n",
       "L 169.896809 77.685582 \n",
       "L 171.952599 77.44595 \n",
       "L 174.008388 77.225488 \n",
       "L 176.064178 75.385111 \n",
       "L 178.119967 74.139022 \n",
       "L 180.175757 74.618287 \n",
       "L 182.231546 74.474507 \n",
       "L 184.287336 74.503263 \n",
       "L 186.343125 69.442226 \n",
       "L 188.398914 71.934403 \n",
       "L 190.454704 73.084639 \n",
       "L 192.510493 72.174036 \n",
       "L 194.566283 72.087768 \n",
       "L 196.622072 74.618287 \n",
       "L 198.677862 71.83855 \n",
       "L 200.733651 70.848069 \n",
       "L 202.789441 71.359285 \n",
       "L 204.84523 71.397626 \n",
       "L 206.90102 71.550991 \n",
       "L 208.956809 71.550991 \n",
       "L 211.012599 71.550991 \n",
       "L 213.068388 71.119653 \n",
       "L 215.124178 70.899191 \n",
       "L 217.179967 71.934403 \n",
       "L 219.235757 73.75561 \n",
       "L 221.291546 74.043169 \n",
       "L 223.347336 73.084639 \n",
       "L 225.403125 73.199663 \n",
       "\" clip-path=\"url(#pd0a5e75648)\" style=\"fill: none; stroke-dasharray: 5.55,2.4; stroke-dashoffset: 0; stroke: #bf00bf; stroke-width: 1.5\"/>\n",
       "   </g>\n",
       "   <g id=\"line2d_19\">\n",
       "    <path d=\"M 30.103125 136.922727 \n",
       "L 40.382072 136.922727 \n",
       "L 50.66102 136.922727 \n",
       "L 60.939967 136.922727 \n",
       "L 71.218914 136.922727 \n",
       "L 81.497862 136.922727 \n",
       "L 91.776809 136.922727 \n",
       "L 102.055757 136.922727 \n",
       "L 112.334704 136.922727 \n",
       "L 122.613651 136.922727 \n",
       "L 132.892599 136.922727 \n",
       "L 143.171546 136.922727 \n",
       "L 153.450493 136.922727 \n",
       "L 163.729441 136.922727 \n",
       "L 174.008388 136.922727 \n",
       "L 184.287336 136.922727 \n",
       "L 194.566283 136.922727 \n",
       "L 204.84523 136.922727 \n",
       "L 215.124178 136.922727 \n",
       "L 225.403125 136.922727 \n",
       "\" clip-path=\"url(#pd0a5e75648)\" style=\"fill: none; stroke-dasharray: 9.6,2.4,1.5,2.4; stroke-dashoffset: 0; stroke: #008000; stroke-width: 1.5\"/>\n",
       "   </g>\n",
       "   <g id=\"patch_3\">\n",
       "    <path d=\"M 30.103125 143.1 \n",
       "L 30.103125 7.2 \n",
       "\" style=\"fill: none; stroke: #000000; stroke-width: 0.8; stroke-linejoin: miter; stroke-linecap: square\"/>\n",
       "   </g>\n",
       "   <g id=\"patch_4\">\n",
       "    <path d=\"M 225.403125 143.1 \n",
       "L 225.403125 7.2 \n",
       "\" style=\"fill: none; stroke: #000000; stroke-width: 0.8; stroke-linejoin: miter; stroke-linecap: square\"/>\n",
       "   </g>\n",
       "   <g id=\"patch_5\">\n",
       "    <path d=\"M 30.103125 143.1 \n",
       "L 225.403125 143.1 \n",
       "\" style=\"fill: none; stroke: #000000; stroke-width: 0.8; stroke-linejoin: miter; stroke-linecap: square\"/>\n",
       "   </g>\n",
       "   <g id=\"patch_6\">\n",
       "    <path d=\"M 30.103125 7.2 \n",
       "L 225.403125 7.2 \n",
       "\" style=\"fill: none; stroke: #000000; stroke-width: 0.8; stroke-linejoin: miter; stroke-linecap: square\"/>\n",
       "   </g>\n",
       "   <g id=\"legend_1\">\n",
       "    <g id=\"patch_7\">\n",
       "     <path d=\"M 140.634375 59.234375 \n",
       "L 218.403125 59.234375 \n",
       "Q 220.403125 59.234375 220.403125 57.234375 \n",
       "L 220.403125 14.2 \n",
       "Q 220.403125 12.2 218.403125 12.2 \n",
       "L 140.634375 12.2 \n",
       "Q 138.634375 12.2 138.634375 14.2 \n",
       "L 138.634375 57.234375 \n",
       "Q 138.634375 59.234375 140.634375 59.234375 \n",
       "z\n",
       "\" style=\"fill: #ffffff; opacity: 0.8; stroke: #cccccc; stroke-linejoin: miter\"/>\n",
       "    </g>\n",
       "    <g id=\"line2d_20\">\n",
       "     <path d=\"M 142.634375 20.298438 \n",
       "L 152.634375 20.298438 \n",
       "L 162.634375 20.298438 \n",
       "\" style=\"fill: none; stroke: #1f77b4; stroke-width: 1.5; stroke-linecap: square\"/>\n",
       "    </g>\n",
       "    <g id=\"text_10\">\n",
       "     <!-- train loss -->\n",
       "     <g transform=\"translate(170.634375 23.798438)scale(0.1 -0.1)\">\n",
       "      <defs>\n",
       "       <path id=\"DejaVuSans-74\" d=\"M 1172 4494 \n",
       "L 1172 3500 \n",
       "L 2356 3500 \n",
       "L 2356 3053 \n",
       "L 1172 3053 \n",
       "L 1172 1153 \n",
       "Q 1172 725 1289 603 \n",
       "Q 1406 481 1766 481 \n",
       "L 2356 481 \n",
       "L 2356 0 \n",
       "L 1766 0 \n",
       "Q 1100 0 847 248 \n",
       "Q 594 497 594 1153 \n",
       "L 594 3053 \n",
       "L 172 3053 \n",
       "L 172 3500 \n",
       "L 594 3500 \n",
       "L 594 4494 \n",
       "L 1172 4494 \n",
       "z\n",
       "\" transform=\"scale(0.015625)\"/>\n",
       "       <path id=\"DejaVuSans-72\" d=\"M 2631 2963 \n",
       "Q 2534 3019 2420 3045 \n",
       "Q 2306 3072 2169 3072 \n",
       "Q 1681 3072 1420 2755 \n",
       "Q 1159 2438 1159 1844 \n",
       "L 1159 0 \n",
       "L 581 0 \n",
       "L 581 3500 \n",
       "L 1159 3500 \n",
       "L 1159 2956 \n",
       "Q 1341 3275 1631 3429 \n",
       "Q 1922 3584 2338 3584 \n",
       "Q 2397 3584 2469 3576 \n",
       "Q 2541 3569 2628 3553 \n",
       "L 2631 2963 \n",
       "z\n",
       "\" transform=\"scale(0.015625)\"/>\n",
       "       <path id=\"DejaVuSans-61\" d=\"M 2194 1759 \n",
       "Q 1497 1759 1228 1600 \n",
       "Q 959 1441 959 1056 \n",
       "Q 959 750 1161 570 \n",
       "Q 1363 391 1709 391 \n",
       "Q 2188 391 2477 730 \n",
       "Q 2766 1069 2766 1631 \n",
       "L 2766 1759 \n",
       "L 2194 1759 \n",
       "z\n",
       "M 3341 1997 \n",
       "L 3341 0 \n",
       "L 2766 0 \n",
       "L 2766 531 \n",
       "Q 2569 213 2275 61 \n",
       "Q 1981 -91 1556 -91 \n",
       "Q 1019 -91 701 211 \n",
       "Q 384 513 384 1019 \n",
       "Q 384 1609 779 1909 \n",
       "Q 1175 2209 1959 2209 \n",
       "L 2766 2209 \n",
       "L 2766 2266 \n",
       "Q 2766 2663 2505 2880 \n",
       "Q 2244 3097 1772 3097 \n",
       "Q 1472 3097 1187 3025 \n",
       "Q 903 2953 641 2809 \n",
       "L 641 3341 \n",
       "Q 956 3463 1253 3523 \n",
       "Q 1550 3584 1831 3584 \n",
       "Q 2591 3584 2966 3190 \n",
       "Q 3341 2797 3341 1997 \n",
       "z\n",
       "\" transform=\"scale(0.015625)\"/>\n",
       "       <path id=\"DejaVuSans-69\" d=\"M 603 3500 \n",
       "L 1178 3500 \n",
       "L 1178 0 \n",
       "L 603 0 \n",
       "L 603 3500 \n",
       "z\n",
       "M 603 4863 \n",
       "L 1178 4863 \n",
       "L 1178 4134 \n",
       "L 603 4134 \n",
       "L 603 4863 \n",
       "z\n",
       "\" transform=\"scale(0.015625)\"/>\n",
       "       <path id=\"DejaVuSans-6e\" d=\"M 3513 2113 \n",
       "L 3513 0 \n",
       "L 2938 0 \n",
       "L 2938 2094 \n",
       "Q 2938 2591 2744 2837 \n",
       "Q 2550 3084 2163 3084 \n",
       "Q 1697 3084 1428 2787 \n",
       "Q 1159 2491 1159 1978 \n",
       "L 1159 0 \n",
       "L 581 0 \n",
       "L 581 3500 \n",
       "L 1159 3500 \n",
       "L 1159 2956 \n",
       "Q 1366 3272 1645 3428 \n",
       "Q 1925 3584 2291 3584 \n",
       "Q 2894 3584 3203 3211 \n",
       "Q 3513 2838 3513 2113 \n",
       "z\n",
       "\" transform=\"scale(0.015625)\"/>\n",
       "       <path id=\"DejaVuSans-20\" transform=\"scale(0.015625)\"/>\n",
       "       <path id=\"DejaVuSans-6c\" d=\"M 603 4863 \n",
       "L 1178 4863 \n",
       "L 1178 0 \n",
       "L 603 0 \n",
       "L 603 4863 \n",
       "z\n",
       "\" transform=\"scale(0.015625)\"/>\n",
       "       <path id=\"DejaVuSans-73\" d=\"M 2834 3397 \n",
       "L 2834 2853 \n",
       "Q 2591 2978 2328 3040 \n",
       "Q 2066 3103 1784 3103 \n",
       "Q 1356 3103 1142 2972 \n",
       "Q 928 2841 928 2578 \n",
       "Q 928 2378 1081 2264 \n",
       "Q 1234 2150 1697 2047 \n",
       "L 1894 2003 \n",
       "Q 2506 1872 2764 1633 \n",
       "Q 3022 1394 3022 966 \n",
       "Q 3022 478 2636 193 \n",
       "Q 2250 -91 1575 -91 \n",
       "Q 1294 -91 989 -36 \n",
       "Q 684 19 347 128 \n",
       "L 347 722 \n",
       "Q 666 556 975 473 \n",
       "Q 1284 391 1588 391 \n",
       "Q 1994 391 2212 530 \n",
       "Q 2431 669 2431 922 \n",
       "Q 2431 1156 2273 1281 \n",
       "Q 2116 1406 1581 1522 \n",
       "L 1381 1569 \n",
       "Q 847 1681 609 1914 \n",
       "Q 372 2147 372 2553 \n",
       "Q 372 3047 722 3315 \n",
       "Q 1072 3584 1716 3584 \n",
       "Q 2034 3584 2315 3537 \n",
       "Q 2597 3491 2834 3397 \n",
       "z\n",
       "\" transform=\"scale(0.015625)\"/>\n",
       "      </defs>\n",
       "      <use xlink:href=\"#DejaVuSans-74\"/>\n",
       "      <use xlink:href=\"#DejaVuSans-72\" x=\"39.208984\"/>\n",
       "      <use xlink:href=\"#DejaVuSans-61\" x=\"80.322266\"/>\n",
       "      <use xlink:href=\"#DejaVuSans-69\" x=\"141.601562\"/>\n",
       "      <use xlink:href=\"#DejaVuSans-6e\" x=\"169.384766\"/>\n",
       "      <use xlink:href=\"#DejaVuSans-20\" x=\"232.763672\"/>\n",
       "      <use xlink:href=\"#DejaVuSans-6c\" x=\"264.550781\"/>\n",
       "      <use xlink:href=\"#DejaVuSans-6f\" x=\"292.333984\"/>\n",
       "      <use xlink:href=\"#DejaVuSans-73\" x=\"353.515625\"/>\n",
       "      <use xlink:href=\"#DejaVuSans-73\" x=\"405.615234\"/>\n",
       "     </g>\n",
       "    </g>\n",
       "    <g id=\"line2d_21\">\n",
       "     <path d=\"M 142.634375 34.976562 \n",
       "L 152.634375 34.976562 \n",
       "L 162.634375 34.976562 \n",
       "\" style=\"fill: none; stroke-dasharray: 5.55,2.4; stroke-dashoffset: 0; stroke: #bf00bf; stroke-width: 1.5\"/>\n",
       "    </g>\n",
       "    <g id=\"text_11\">\n",
       "     <!-- train acc -->\n",
       "     <g transform=\"translate(170.634375 38.476562)scale(0.1 -0.1)\">\n",
       "      <use xlink:href=\"#DejaVuSans-74\"/>\n",
       "      <use xlink:href=\"#DejaVuSans-72\" x=\"39.208984\"/>\n",
       "      <use xlink:href=\"#DejaVuSans-61\" x=\"80.322266\"/>\n",
       "      <use xlink:href=\"#DejaVuSans-69\" x=\"141.601562\"/>\n",
       "      <use xlink:href=\"#DejaVuSans-6e\" x=\"169.384766\"/>\n",
       "      <use xlink:href=\"#DejaVuSans-20\" x=\"232.763672\"/>\n",
       "      <use xlink:href=\"#DejaVuSans-61\" x=\"264.550781\"/>\n",
       "      <use xlink:href=\"#DejaVuSans-63\" x=\"325.830078\"/>\n",
       "      <use xlink:href=\"#DejaVuSans-63\" x=\"380.810547\"/>\n",
       "     </g>\n",
       "    </g>\n",
       "    <g id=\"line2d_22\">\n",
       "     <path d=\"M 142.634375 49.654688 \n",
       "L 152.634375 49.654688 \n",
       "L 162.634375 49.654688 \n",
       "\" style=\"fill: none; stroke-dasharray: 9.6,2.4,1.5,2.4; stroke-dashoffset: 0; stroke: #008000; stroke-width: 1.5\"/>\n",
       "    </g>\n",
       "    <g id=\"text_12\">\n",
       "     <!-- valid acc -->\n",
       "     <g transform=\"translate(170.634375 53.154688)scale(0.1 -0.1)\">\n",
       "      <defs>\n",
       "       <path id=\"DejaVuSans-76\" d=\"M 191 3500 \n",
       "L 800 3500 \n",
       "L 1894 563 \n",
       "L 2988 3500 \n",
       "L 3597 3500 \n",
       "L 2284 0 \n",
       "L 1503 0 \n",
       "L 191 3500 \n",
       "z\n",
       "\" transform=\"scale(0.015625)\"/>\n",
       "       <path id=\"DejaVuSans-64\" d=\"M 2906 2969 \n",
       "L 2906 4863 \n",
       "L 3481 4863 \n",
       "L 3481 0 \n",
       "L 2906 0 \n",
       "L 2906 525 \n",
       "Q 2725 213 2448 61 \n",
       "Q 2172 -91 1784 -91 \n",
       "Q 1150 -91 751 415 \n",
       "Q 353 922 353 1747 \n",
       "Q 353 2572 751 3078 \n",
       "Q 1150 3584 1784 3584 \n",
       "Q 2172 3584 2448 3432 \n",
       "Q 2725 3281 2906 2969 \n",
       "z\n",
       "M 947 1747 \n",
       "Q 947 1113 1208 752 \n",
       "Q 1469 391 1925 391 \n",
       "Q 2381 391 2643 752 \n",
       "Q 2906 1113 2906 1747 \n",
       "Q 2906 2381 2643 2742 \n",
       "Q 2381 3103 1925 3103 \n",
       "Q 1469 3103 1208 2742 \n",
       "Q 947 2381 947 1747 \n",
       "z\n",
       "\" transform=\"scale(0.015625)\"/>\n",
       "      </defs>\n",
       "      <use xlink:href=\"#DejaVuSans-76\"/>\n",
       "      <use xlink:href=\"#DejaVuSans-61\" x=\"59.179688\"/>\n",
       "      <use xlink:href=\"#DejaVuSans-6c\" x=\"120.458984\"/>\n",
       "      <use xlink:href=\"#DejaVuSans-69\" x=\"148.242188\"/>\n",
       "      <use xlink:href=\"#DejaVuSans-64\" x=\"176.025391\"/>\n",
       "      <use xlink:href=\"#DejaVuSans-20\" x=\"239.501953\"/>\n",
       "      <use xlink:href=\"#DejaVuSans-61\" x=\"271.289062\"/>\n",
       "      <use xlink:href=\"#DejaVuSans-63\" x=\"332.568359\"/>\n",
       "      <use xlink:href=\"#DejaVuSans-63\" x=\"387.548828\"/>\n",
       "     </g>\n",
       "    </g>\n",
       "   </g>\n",
       "  </g>\n",
       " </g>\n",
       " <defs>\n",
       "  <clipPath id=\"pd0a5e75648\">\n",
       "   <rect x=\"30.103125\" y=\"7.2\" width=\"195.3\" height=\"135.9\"/>\n",
       "  </clipPath>\n",
       " </defs>\n",
       "</svg>\n"
      ],
      "text/plain": [
       "<Figure size 252x180 with 1 Axes>"
      ]
     },
     "metadata": {
      "needs_background": "light"
     },
     "output_type": "display_data"
    }
   ],
   "source": [
    "devices, num_epochs, lr, wd = d2l.try_all_gpus(), 20, 2e-4, 5e-4\n",
    "lr_period, lr_decay, net = 4, 0.9, get_net()\n",
    "train(net, train_iter, valid_iter, num_epochs, lr, wd, devices, lr_period,\n",
    "      lr_decay)"
   ]
  },
  {
   "cell_type": "code",
   "execution_count": 149,
   "id": "5d89197c-69fe-44bf-b115-eb1049ce694c",
   "metadata": {},
   "outputs": [],
   "source": [
    "test_data0_pos_t = data_to_tensor(test_data0_pos)\n",
    "test_data0_pot_t = data_to_tensor(test_data0_pot)"
   ]
  },
  {
   "cell_type": "code",
   "execution_count": 152,
   "id": "7a6080a9-f712-4660-84bb-cdf8a18e9d73",
   "metadata": {},
   "outputs": [
    {
     "data": {
      "text/plain": [
       "(tensor(1.6509e+08), tensor(-1.5471e+08))"
      ]
     },
     "execution_count": 152,
     "metadata": {},
     "output_type": "execute_result"
    }
   ],
   "source": [
    "test_data0_pos_t.max(), test_data0_pos_t.min()"
   ]
  },
  {
   "cell_type": "code",
   "execution_count": 153,
   "id": "01670218-70da-4aa5-84aa-6744677a671f",
   "metadata": {},
   "outputs": [],
   "source": [
    "test_ds = SPHDataset(test_data0_pos_t, test_data0_pot_t)"
   ]
  },
  {
   "cell_type": "code",
   "execution_count": 157,
   "id": "3e70798f-0522-42e7-a750-eb5b259801a6",
   "metadata": {},
   "outputs": [
    {
     "data": {
      "text/plain": [
       "(5000,\n",
       " (tensor([-1.2130e+08,  9.2386e+07,  3.5812e+07]), tensor([-2.0742e+11])))"
      ]
     },
     "execution_count": 157,
     "metadata": {},
     "output_type": "execute_result"
    }
   ],
   "source": [
    "len(test_ds), test_ds[0]"
   ]
  },
  {
   "cell_type": "code",
   "execution_count": 155,
   "id": "7ca32740-0852-484c-be98-a167c5c08867",
   "metadata": {},
   "outputs": [],
   "source": [
    "test_iter = DataLoader(valid_ds, batch_size=batch_size, shuffle=False, drop_last=False)"
   ]
  },
  {
   "cell_type": "code",
   "execution_count": null,
   "id": "2bf1583d-4012-4e13-b921-892e7674b656",
   "metadata": {},
   "outputs": [],
   "source": []
  },
  {
   "cell_type": "code",
   "execution_count": 160,
   "id": "23c0cf83-cc88-4055-8a5e-39d631cf3fd7",
   "metadata": {},
   "outputs": [],
   "source": [
    "def accuracy(y_hat, y, traget):\n",
    "    if len(y_hat.shape) > 1 and y_hat.shape[1] > 1:\n",
    "        y_hat = d2l.argmax(y_hat, axis=1)\n",
    "    cmp = (torch.abs(d2l.astype(y_hat, y.dtype) - y) <= target)\n",
    "    return float(d2l.reduce_sum(d2l.astype(cmp, y.dtype)))"
   ]
  },
  {
   "cell_type": "code",
   "execution_count": 161,
   "id": "84a000da-edcf-435c-b154-9017721a77b8",
   "metadata": {},
   "outputs": [],
   "source": [
    "def train_batch(net, X, y, loss, trainer, devices):\n",
    "    if isinstance(X, list):\n",
    "        # Required for BERT fine-tuning (to be covered later)\n",
    "        X = [x.to(devices[0]) for x in X]\n",
    "    else:\n",
    "        X = X.to(devices[0])\n",
    "    y = y.to(devices[0])\n",
    "    net.train()\n",
    "    trainer.zero_grad()\n",
    "    pred = net(X)\n",
    "    l = loss(pred, y)\n",
    "    l.sum().backward()\n",
    "    trainer.step()\n",
    "    train_loss_sum = l.sum()\n",
    "    train_acc_sum = accuracy(pred, y, 0.05)\n",
    "    return train_loss_sum, train_acc_sum"
   ]
  },
  {
   "cell_type": "code",
   "execution_count": 164,
   "id": "21f282be-f371-486a-a828-ad3b5e2a6e68",
   "metadata": {},
   "outputs": [
    {
     "data": {
      "text/plain": [
       "MyNetwork(\n",
       "  (fc1): Linear(in_features=3, out_features=10, bias=True)\n",
       "  (fc3): Linear(in_features=10, out_features=1, bias=True)\n",
       ")"
      ]
     },
     "execution_count": 164,
     "metadata": {},
     "output_type": "execute_result"
    }
   ],
   "source": [
    "net"
   ]
  },
  {
   "cell_type": "code",
   "execution_count": null,
   "id": "055eb549-241b-44ad-80a6-f0bcdf738894",
   "metadata": {},
   "outputs": [],
   "source": [
    "# net = get_net()\n",
    "# train(net, train_valid_iter, None, num_epochs, lr, wd, devices, lr_period,\n",
    "#       lr_decay)\n",
    "\n",
    "# target = 0.05\n",
    "\n",
    "# net.eval()\n",
    "# with torch.no_grad():\n",
    "#     for i, (features, labels) in enumerate(test_iter):\n",
    "#         features, labels = features.to(device), label.to(device)\n",
    "#         preds = net(features)\n",
    "#         l = loss(preds, labels)\n",
    "#         test_loss_sum = l.sum() \n",
    "#         test_acc_sum = accuracy(preds, labels, target)\n",
    "#         print(\"test loss: \", test_loss_sum / labels.shape[0])\n",
    "#         print(\"test acc: \", test_acc_sum / lab)"
   ]
  }
 ],
 "metadata": {
  "kernelspec": {
   "display_name": "Python 3 (ipykernel)",
   "language": "python",
   "name": "python3"
  },
  "language_info": {
   "codemirror_mode": {
    "name": "ipython",
    "version": 3
   },
   "file_extension": ".py",
   "mimetype": "text/x-python",
   "name": "python",
   "nbconvert_exporter": "python",
   "pygments_lexer": "ipython3",
   "version": "3.8.10"
  }
 },
 "nbformat": 4,
 "nbformat_minor": 5
}
