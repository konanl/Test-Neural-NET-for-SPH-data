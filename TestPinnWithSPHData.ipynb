{
 "cells": [
  {
   "cell_type": "code",
   "execution_count": 1,
   "id": "dca9a20b-526b-4055-a6c9-4656af102a2b",
   "metadata": {},
   "outputs": [],
   "source": [
    "import torch\n",
    "import h5py\n",
    "import os\n",
    "import numpy as np\n",
    "from torch import nn as nn\n",
    "from torch.nn import functional as F\n",
    "from torch import optim\n",
    "from torch.utils.data import Dataset, DataLoader"
   ]
  },
  {
   "cell_type": "code",
   "execution_count": 2,
   "id": "e8a41748-ac7e-435f-90d0-48d770fe7701",
   "metadata": {},
   "outputs": [],
   "source": [
    "from d2l import torch as d2l"
   ]
  },
  {
   "cell_type": "code",
   "execution_count": 3,
   "id": "b18af5c0-bfab-4d16-82df-630a5c52a193",
   "metadata": {},
   "outputs": [],
   "source": [
    "import matplotlib.pyplot as plt"
   ]
  },
  {
   "cell_type": "code",
   "execution_count": 4,
   "id": "caa3c8dd-1d9c-47e3-aa1f-0e6da36a61b9",
   "metadata": {},
   "outputs": [],
   "source": [
    "# get the file name of path\n",
    "def get_fname(path):\n",
    "    files = os.listdir(path)\n",
    "    files.sort()\n",
    "    return files"
   ]
  },
  {
   "cell_type": "code",
   "execution_count": 179,
   "id": "5af52021-7344-4c56-9053-e4172b39d0db",
   "metadata": {},
   "outputs": [],
   "source": [
    "def get_fpath(path, fname):\n",
    "    return os.path.join(path, fname)\n",
    "\n",
    "def get_hdf5_group(hdf5File):\n",
    "    group = []\n",
    "    for key in hdf5File:\n",
    "        group.append(key)\n",
    "    return group"
   ]
  },
  {
   "cell_type": "code",
   "execution_count": 180,
   "id": "5f9a1581-e3c8-42b1-af70-10f321a30ec7",
   "metadata": {},
   "outputs": [],
   "source": [
    "def plot_(x, y, xlabel, ylabel):\n",
    "    plt.scatter(x, y)\n",
    "    #plt.plot(x, y, color)\n",
    "    plt.grid(True)\n",
    "    plt.xlabel(xlabel)\n",
    "    plt.ylabel(ylabel)\n",
    "    plt.show()"
   ]
  },
  {
   "cell_type": "code",
   "execution_count": 181,
   "id": "358c8ca7-3ef8-4b26-9c88-96ae1b9a5547",
   "metadata": {},
   "outputs": [],
   "source": [
    "filesDir = get_fname(data_dir)"
   ]
  },
  {
   "cell_type": "code",
   "execution_count": 182,
   "id": "ad1529a3-61a4-4a64-80ec-2972114801b1",
   "metadata": {},
   "outputs": [],
   "source": [
    "filesDir.sort()"
   ]
  },
  {
   "cell_type": "code",
   "execution_count": 183,
   "id": "349faa26-7c2b-4648-ae22-bf643bee2f15",
   "metadata": {},
   "outputs": [
    {
     "data": {
      "text/plain": [
       "['test', 'train', 'valid']"
      ]
     },
     "execution_count": 183,
     "metadata": {},
     "output_type": "execute_result"
    }
   ],
   "source": [
    "filesDir"
   ]
  },
  {
   "cell_type": "code",
   "execution_count": 184,
   "id": "8e092dba-c6f3-4fc3-8243-2dae7ef08cf5",
   "metadata": {},
   "outputs": [
    {
     "data": {
      "text/plain": [
       "3"
      ]
     },
     "execution_count": 184,
     "metadata": {},
     "output_type": "execute_result"
    }
   ],
   "source": [
    "len(files)"
   ]
  },
  {
   "cell_type": "code",
   "execution_count": 98,
   "id": "dadb4e9d-08f3-4925-8c3a-bfbc00e3c259",
   "metadata": {},
   "outputs": [],
   "source": [
    "# =================================\n",
    "# ======Particle Data Sequence=====\n",
    "# =================================\n",
    "# 1.ParticleIDs 2.Masses 3.Density 4.InternalEnergy \n",
    "# 5.Potential 6.SmoothingLength 7.Coordinates 8.Velocities"
   ]
  },
  {
   "cell_type": "code",
   "execution_count": 201,
   "id": "ce72c1b4-1dd6-41cb-a626-442eb2584d45",
   "metadata": {},
   "outputs": [],
   "source": [
    "# ids, masses, density, smoothingLength, coordinates, Velocities(x)"
   ]
  },
  {
   "cell_type": "code",
   "execution_count": 185,
   "id": "11c6e9cd-945d-4fae-8607-006592114b5d",
   "metadata": {},
   "outputs": [],
   "source": [
    "trainFiles = get_fname(get_fpath(data_dir, filesDir[1]))"
   ]
  },
  {
   "cell_type": "code",
   "execution_count": 186,
   "id": "268d3559-45b1-410a-88b8-e908aaa56f14",
   "metadata": {},
   "outputs": [
    {
     "data": {
      "text/plain": [
       "5999"
      ]
     },
     "execution_count": 186,
     "metadata": {},
     "output_type": "execute_result"
    }
   ],
   "source": [
    "len(trainFiles)"
   ]
  },
  {
   "cell_type": "code",
   "execution_count": 187,
   "id": "6d95b711-0ef6-4f22-ae8e-3eefe6318442",
   "metadata": {},
   "outputs": [],
   "source": [
    "validFiles = get_fname(get_fpath(data_dir, filesDir[2]))"
   ]
  },
  {
   "cell_type": "code",
   "execution_count": 188,
   "id": "8ac4dec4-156b-4603-8e94-b8ab17fe5f11",
   "metadata": {},
   "outputs": [
    {
     "data": {
      "text/plain": [
       "1000"
      ]
     },
     "execution_count": 188,
     "metadata": {},
     "output_type": "execute_result"
    }
   ],
   "source": [
    "len(validFiles)"
   ]
  },
  {
   "cell_type": "raw",
   "id": "58143713-29bf-4b5c-94ba-151fb7191ea9",
   "metadata": {},
   "source": [
    "\"\"\"\n",
    "    1.把数据中的质量、密度、坐标、速度（光滑半径）提取出来 √\n",
    "    2.算出位移\n",
    "    3.时间t\n",
    "    4.密度\n",
    "    （不能确定的参数，拟合到模型中作为训练参数）\n",
    "    \n",
    "\"\"\"\n",
    "ids，质量，密度，光滑长度，坐标，速度"
   ]
  },
  {
   "cell_type": "markdown",
   "id": "f2d7f20c-3bfb-4c5c-b07c-f65c70ed1ff4",
   "metadata": {},
   "source": [
    "question 1 把数据中的质量、密度、坐标、速度（光滑半径）提取出来"
   ]
  },
  {
   "cell_type": "code",
   "execution_count": 190,
   "id": "0d29309e-6d0c-4ca7-9260-8c357382ffdb",
   "metadata": {},
   "outputs": [],
   "source": [
    "# physcial quantity squence is ids mass rho ie pot sl pos*3 vel*3\n",
    "def chose_input_output_phy_qua(data, phy_qua):\n",
    "    assert phy_qua == \"mass\" or phy_qua == \"rho\" or phy_qua == \"ie\" or phy_qua == \"pot\" or phy_qua == \"sl\" or phy_qua == \"pos\" or phy_qua == \"vel\"\n",
    "    if phy_qua == \"mass\":\n",
    "        return data[:, 1]\n",
    "    if phy_qua == \"rho\":\n",
    "        return data[:, 2]\n",
    "    if phy_qua == \"ie\":\n",
    "        return data[:, 3]\n",
    "    if phy_qua == \"pot\":\n",
    "        return data[:, 4]\n",
    "    if phy_qua == \"rho\":\n",
    "        return data[:, 5]\n",
    "    if phy_qua == \"pos\":\n",
    "        return data[:, -6:-3]\n",
    "    if phy_qua == \"vel\":\n",
    "        return data[:, -3:]"
   ]
  },
  {
   "cell_type": "code",
   "execution_count": 206,
   "id": "f0b88b62-c534-457d-bd5c-d798d7fc1c48",
   "metadata": {},
   "outputs": [],
   "source": [
    "testDir = data_dir + \"/train\"\n",
    "testFiles = get_fname(testDir)\n",
    "test0 = h5py.File(get_fpath(testDir, testFiles[0]))\n",
    "test1 = h5py.File(get_fpath(testDir, testFiles[1]))"
   ]
  },
  {
   "cell_type": "code",
   "execution_count": 207,
   "id": "299ab6aa-8c81-4ac9-8b48-184dd4b941b1",
   "metadata": {},
   "outputs": [
    {
     "data": {
      "text/plain": [
       "(array([ 1.0000000e+00,  2.9456370e+21,  7.9943233e+00,  2.4651726e+07,\n",
       "        -1.6436408e+08,  2.7425510e+02], dtype=float32),\n",
       " (6,))"
      ]
     },
     "execution_count": 207,
     "metadata": {},
     "output_type": "execute_result"
    }
   ],
   "source": [
    "test0[\"dataset\"][0], test0[\"dataset\"][0].shape"
   ]
  },
  {
   "cell_type": "code",
   "execution_count": 208,
   "id": "e180a7ef-3b97-4798-be50-8f25f660eb3e",
   "metadata": {},
   "outputs": [
    {
     "data": {
      "text/plain": [
       "(array([ 1.0000000e+00,  2.9456370e+21,  7.9846368e+00,  2.4659982e+07,\n",
       "        -1.6435805e+08,  2.0752586e+01], dtype=float32),\n",
       " (6,))"
      ]
     },
     "execution_count": 208,
     "metadata": {},
     "output_type": "execute_result"
    }
   ],
   "source": [
    "test0[\"dataset\"][1], test0[\"dataset\"][1].shape"
   ]
  },
  {
   "cell_type": "code",
   "execution_count": 209,
   "id": "44512e6c-7ca5-48da-aeb9-850705367356",
   "metadata": {},
   "outputs": [
    {
     "data": {
      "text/plain": [
       "(array([ 1.0000000e+01,  2.9456370e+21,  8.0024481e+00,  2.4640620e+07,\n",
       "        -1.6455928e+08,  2.9160733e+02], dtype=float32),\n",
       " (6,))"
      ]
     },
     "execution_count": 209,
     "metadata": {},
     "output_type": "execute_result"
    }
   ],
   "source": [
    "test1[\"dataset\"][0], test1[\"dataset\"][0].shape"
   ]
  },
  {
   "cell_type": "code",
   "execution_count": 210,
   "id": "44e06918-bff5-4535-94b5-c2469f75c36b",
   "metadata": {},
   "outputs": [
    {
     "data": {
      "text/plain": [
       "(array([ 1.0000000e+01,  2.9456370e+21,  8.0043898e+00,  2.4638858e+07,\n",
       "        -1.6450915e+08,  1.2152153e+03], dtype=float32),\n",
       " (6,))"
      ]
     },
     "execution_count": 210,
     "metadata": {},
     "output_type": "execute_result"
    }
   ],
   "source": [
    "test1[\"dataset\"][1], test1[\"dataset\"][1].shape"
   ]
  },
  {
   "cell_type": "code",
   "execution_count": 215,
   "id": "33d00a6c-cac5-4c97-808c-a565e636caf3",
   "metadata": {},
   "outputs": [
    {
     "data": {
      "text/plain": [
       "(195200.0, 24651726.0)"
      ]
     },
     "execution_count": 215,
     "metadata": {},
     "output_type": "execute_result"
    }
   ],
   "source": [
    "abs(test1[\"dataset\"][0][4] - test0[\"dataset\"][0][4]), test0[\"dataset\"][0][3]"
   ]
  },
  {
   "cell_type": "markdown",
   "id": "447ecb60-3e36-4adc-8d31-09d46c15655b",
   "metadata": {},
   "source": [
    "question 2 算出位移"
   ]
  },
  {
   "cell_type": "code",
   "execution_count": 216,
   "id": "9ece4ed9-9420-4e5e-8194-2968238d24f2",
   "metadata": {},
   "outputs": [],
   "source": [
    "aaa = h5py.File(\"../../datasets_PINNs/dataset_preDeal/snapshot_000.hdf5\")"
   ]
  },
  {
   "cell_type": "code",
   "execution_count": 220,
   "id": "0ecf3317-c6c8-422a-aba3-c74138e8d989",
   "metadata": {},
   "outputs": [
    {
     "data": {
      "text/plain": [
       "(242311, 6)"
      ]
     },
     "execution_count": 220,
     "metadata": {},
     "output_type": "execute_result"
    }
   ],
   "source": [
    "aaa[\"dataset\"][:].shape"
   ]
  },
  {
   "attachments": {
    "8f698c6b-e418-4f0c-bee2-f39a2116c516.png": {
     "image/png": "[encoded data removed]"
    }
   },
   "cell_type": "markdown",
   "id": "612baa6f-d3ef-4631-b485-e94b9a09b18b",
   "metadata": {},
   "source": [
    "![截屏2022-07-28 18.10.20.png](attachment:8f698c6b-e418-4f0c-bee2-f39a2116c516.png)"
   ]
  },
  {
   "attachments": {
    "c47aa73b-e3cd-4aaa-9781-ba676ae368dd.png": {
     "image/png": "[encoded data removed]"
    }
   },
   "cell_type": "markdown",
   "id": "07ace26e-118c-4c9b-9c6d-32beb453cc48",
   "metadata": {},
   "source": [
    "![截屏2022-07-28 18.10.34.png](attachment:c47aa73b-e3cd-4aaa-9781-ba676ae368dd.png)"
   ]
  },
  {
   "attachments": {
    "6013f520-5efb-460a-b735-b87bd7e9d2bb.png": {
     "image/png": "[encoded data removed]"
    }
   },
   "cell_type": "markdown",
   "id": "21eaa487-4549-4ba0-a667-7a74d0aabbf6",
   "metadata": {},
   "source": [
    "![截屏2022-07-28 18.10.45.png](attachment:6013f520-5efb-460a-b735-b87bd7e9d2bb.png)"
   ]
  },
  {
   "cell_type": "code",
   "execution_count": 130,
   "id": "79219b8c-964a-4638-982a-f0ec9254bbb3",
   "metadata": {},
   "outputs": [],
   "source": [
    "# masses/density/smoothing length /coordinates --> vel"
   ]
  },
  {
   "cell_type": "markdown",
   "id": "02a1a26c-32c9-40b9-8582-d8e44a8cf6ae",
   "metadata": {},
   "source": [
    "思路：\n",
    "    1.训练一个粒子的全过程，也就是将afterDeal作为网络的训练数据\n",
    "    \n",
    "      2.然后将preDeal数据作为损失函数的训练部分\n"
   ]
  },
  {
   "cell_type": "code",
   "execution_count": 224,
   "id": "8f5bf80f-3440-4afb-ad31-b6e511409aec",
   "metadata": {},
   "outputs": [],
   "source": [
    "# files dir\n",
    "\n",
    "#train\n",
    "data_dir = \"../../datasets_PINNs/\"\n",
    "nnDataDir = data_dir + \"dataset_afterDeal/\"\n",
    "trainDataDir = nnDataDir + \"train/\"\n",
    "validDataDir = nnDataDir + \"valid/\"\n",
    "testDataDir = nnDataDir + \"test/\"\n",
    "\n",
    "#loss\n",
    "lossDataDir = data_dir + \"dataset_preDeal/\""
   ]
  },
  {
   "cell_type": "code",
   "execution_count": 225,
   "id": "c0918933-87d1-4984-a940-2f33ae34ea3f",
   "metadata": {},
   "outputs": [],
   "source": [
    "# 数据处理\n",
    "nnTrainData = h5py.File(get_fpath(trainDataDir, \"particleID1.hdf5\"))\n",
    "lossTrainData = h5py.File(get_fpath(lossDataDir, \"snapshot_000.hdf5\"))"
   ]
  },
  {
   "cell_type": "code",
   "execution_count": 67,
   "id": "5e20d610-690d-456b-a4c7-5e55934be709",
   "metadata": {},
   "outputs": [],
   "source": [
    "class ResidualBlock(nn.Module):\n",
    "    \"\"\"Residual Block with Linear Layers\"\"\"\n",
    "    def __init__(self, dim):\n",
    "        super(ResidualBlock, self).__init__()\n",
    "        self.main = nn.Sequential(\n",
    "            nn.Linear(dim, dim),\n",
    "            nn.BatchNorm1d(dim),\n",
    "            nn.ReLU(inplace=True),\n",
    "            nn.Linear(dim, dim),\n",
    "            nn.BatchNorm1d(dim)\n",
    "        )\n",
    "    \n",
    "    def forward(self, x):\n",
    "        return x + self.main(x)\n",
    "\n",
    "\n",
    "class DNN(nn.Module):\n",
    "    \"\"\"Deep Neural Network\"\"\"\n",
    "    def __init__(self, input_dim, hidden_dim, output_dim, repeat_num):\n",
    "        super(DNN, self).__init__()\n",
    "        \n",
    "        layers = []\n",
    "        layers.append(nn.Linear(input_dim, hidden_dim))\n",
    "        layers.append(nn.ReLU(inplace=True))\n",
    "        \n",
    "        # down-sampling\n",
    "        curr_dim = hidden_dim\n",
    "        for i in range(2):\n",
    "            layers.append(nn.Linear(curr_dim, curr_dim*2))\n",
    "            layers.append(nn.ReLU(inplace=True))\n",
    "            curr_dim = curr_dim * 2\n",
    "            \n",
    "        for i in range(repeat_num):\n",
    "            layers.append(ResidualBlock(curr_dim))\n",
    "            \n",
    "        # up-sampling\n",
    "        for i in range(2):\n",
    "            layers.append(nn.Linear(curr_dim, curr_dim//2))\n",
    "            layers.append(nn.ReLU(inplace=True))\n",
    "            curr_dim = curr_dim // 2\n",
    "            \n",
    "        layers.append(nn.Linear(curr_dim, curr_dim))\n",
    "        layer.append(nn.Tanh())\n",
    "        layers.append(nn.Linear(curr_dim, output_dim))\n",
    "        \n",
    "        self.main = nn.Sequential(*layers)\n",
    "        \n",
    "    def forward(self, x):\n",
    "        return self.main(x)\n",
    "\n",
    "    \n",
    "class NN_descriptor():\n",
    "    pass"
   ]
  },
  {
   "cell_type": "code",
   "execution_count": 133,
   "id": "bdd4ab4f-000f-4d18-a6d0-bcf5fb7f3a5b",
   "metadata": {},
   "outputs": [],
   "source": [
    "# CUDA support \n",
    "if torch.cuda.is_available():\n",
    "    device = torch.device('cuda')\n",
    "else:\n",
    "    device = torch.device('cpu')"
   ]
  },
  {
   "cell_type": "code",
   "execution_count": null,
   "id": "a6f3da2f-f288-49bd-b64c-432515049529",
   "metadata": {},
   "outputs": [],
   "source": [
    "class PhysicsInformedNeuralNetwork_SPH(nn.Module):\n",
    "    \"\"\"The Physics Informed Neural Network\"\"\"\n",
    "    def __init__(self):\n",
    "        super(PhysicsInformedNeuralNetwork_SPH, self).__init__()\n",
    "        \n",
    "        #\n",
    "        \n",
    "    def W(self, r, h):\n",
    "        \"\"\"The spline kernel used in SPH((Monaghan & Lattanzio 1985)\"\"\"\n",
    "        p = r / h\n",
    "        sigma = 8 / (np.pi * h**3)\n",
    "        if p > 1:\n",
    "            return 0\n",
    "        else if p > 1/2 and p <= 1:\n",
    "            return 2 * sigma * (1 - p)**3\n",
    "        else if p >= 0 and p <= 1/2:\n",
    "            return sigma * (1 - 6 * p**2 + 6 * p**3)\n",
    "    \n",
    "    def W_grad(self, r, h):\n",
    "        \"\"\"The gradient of smoothing kernel: dW(r, h) = dW(r, h)/dr\"\"\"\n",
    "        p = r / h\n",
    "        sigma = 8 / (np.pi * h**3)\n",
    "        if p > 1:\n",
    "            return 0\n",
    "        else if p > 1/2 and p <= 1:\n",
    "            return -sigma * (6 / h) * (1 - p)**2\n",
    "        else if p >= 0 and p <= 1/2:\n",
    "            return 6 * sigma * 1 / h * (-2 * p + 3 * p**2)\n",
    "    \n",
    "    def getAdjacentParticle(x_i, x_j, h):\n",
    "        \"\"\"\"\n",
    "        Geting the particle which distence is less then smoothing length\n",
    "            :x_i - the particle i x_dim coordinates;\n",
    "            :x_j - the particle j x_dim coordinates;\n",
    "            :h - the sommthing length of particle i;\n",
    "        \"\"\"\n",
    "        if abs(x_i - x_j) <= h:\n",
    "            return True\n",
    "        else:\n",
    "            return False\n",
    "        \n",
    "    def loss_NN(self):\n",
    "        \"\"\"The loss of the output of the neural network\"\"\"\n",
    "        pass\n",
    "    \n",
    "    def loss_PDE(self):\n",
    "        \"\"\"The loss of the PDE: dv/dt(the output of NN) - PDE = 0 \"\"\"\n",
    "        pass\n",
    "    \n",
    "    def loss(self):\n",
    "        pass\n",
    "    \n",
    "    def train(self):\n",
    "        pass"
   ]
  },
  {
   "cell_type": "code",
   "execution_count": null,
   "id": "71d4ccf9-6f49-4a26-b4aa-1b3dc7c87d26",
   "metadata": {},
   "outputs": [],
   "source": [
    "nn."
   ]
  },
  {
   "attachments": {
    "9d25d9b9-f746-46ae-9fa7-f50e455c9dd8.png": {
     "image/png": "[encoded data removed]"
    }
   },
   "cell_type": "markdown",
   "id": "8f80fcf3-88b2-4285-b302-6260eb61bbc4",
   "metadata": {},
   "source": [
    "![image.png](attachment:9d25d9b9-f746-46ae-9fa7-f50e455c9dd8.png)"
   ]
  },
  {
   "cell_type": "code",
   "execution_count": null,
   "id": "03319201-4b7c-412c-961d-aae451616fc5",
   "metadata": {},
   "outputs": [],
   "source": [
    "class PhysicsInformedNeuralNetwork(nn.Module):\n",
    "    def __init__(self, input_dim, hidden_dim, output_dim, repeat_num):\n",
    "        super(PhysicsInformedNeuralNetwork, self).__init__()\n",
    "        # boundary conditions\n",
    "        # data\n",
    "        # settings\n",
    "        self.lambda_1 = torch.tensor([0.0], requires_grad=True).to(device)\n",
    "        self.lambda_2 = torch.tensor([-6.0], requires_grad=True).to(device)\n",
    "        \n",
    "        self.lambda_1 = torch.nn.Parameter(self.lambda_1)\n",
    "        self.lambda_2 = torch.nn.Parameter(self.lambda_2)\n",
    "        \n",
    "        # deep neural network\n",
    "        self.dnn = DNN(input_dim, hidden_dim, output_dim, repeat_num).to(device)\n",
    "        self.dnn.register_parameter('lambda_1', self.lambda_1)\n",
    "        self.dnn.register_parameter('lambda_2', self.lambda_2)\n",
    "        \n",
    "        # optimizers\n",
    "        self.optimizer = torch.optim.LBFGS(\n",
    "            self.dnn.parameters(), \n",
    "            lr=1.0, \n",
    "            max_iter=50000, \n",
    "            max_eval=50000, \n",
    "            history_size=50,\n",
    "            tolerance_grad=1e-5, \n",
    "            tolerance_change=1.0 * np.finfo(float).eps,\n",
    "            line_search_fn=\"strong_wolfe\"       # can be \"strong_wolfe\"\n",
    "        )\n",
    "        \n",
    "        self.optimizer_Adam = torch.optim.Adam(self.dnn.parameters())\n",
    "        self.iter = 0\n",
    "        \n",
    "    def net_u(self, x, t):  \n",
    "        u = self.dnn(torch.cat([x, t], dim=1))\n",
    "        return u\n",
    "    \n",
    "    def net_f(self, x, t):\n",
    "        \"\"\" The pytorch autograd version of calculating residual \"\"\"\n",
    "        lambda_1 = self.lambda_1        \n",
    "        lambda_2 = torch.exp(self.lambda_2)\n",
    "        u = self.net_u(x, t)\n",
    "        \n",
    "        u_t = torch.autograd.grad(\n",
    "            u, t, \n",
    "            grad_outputs=torch.ones_like(u),\n",
    "            retain_graph=True,\n",
    "            create_graph=True\n",
    "        )[0]\n",
    "        u_x = torch.autograd.grad(\n",
    "            u, x, \n",
    "            grad_outputs=torch.ones_like(u),\n",
    "            retain_graph=True,\n",
    "            create_graph=True\n",
    "        )[0]\n",
    "        u_xx = torch.autograd.grad(\n",
    "            u_x, x, \n",
    "            grad_outputs=torch.ones_like(u_x),\n",
    "            retain_graph=True,\n",
    "            create_graph=True\n",
    "        )[0]\n",
    "        \n",
    "        f = u_t + lambda_1 * u * u_x - lambda_2 * u_xx\n",
    "        return f\n",
    "    \n",
    "    def loss_func(self):\n",
    "        u_pred = self.net_u(self.x, self.t)\n",
    "        f_pred = self.net_f(self.x, self.t)\n",
    "        loss = torch.mean((self.u - u_pred) ** 2) + torch.mean(f_pred ** 2)\n",
    "        self.optimizer.zero_grad()\n",
    "        loss.backward()\n",
    "        \n",
    "        self.iter += 1\n",
    "        if self.iter % 100 == 0:\n",
    "            print(\n",
    "                'Loss: %e, l1: %.5f, l2: %.5f' % \n",
    "                (\n",
    "                    loss.item(), \n",
    "                    self.lambda_1.item(), \n",
    "                    torch.exp(self.lambda_2.detach()).item()\n",
    "                )\n",
    "            )\n",
    "        return loss\n",
    "    \n",
    "    def train(self, nIter):\n",
    "        self.dnn.train()\n",
    "        for epoch in range(nIter):\n",
    "            u_pred = self.net_u(self.x, self.t)\n",
    "            f_pred = self.net_f(self.x, self.t)\n",
    "            loss = torch.mean((self.u - u_pred) ** 2) + torch.mean(f_pred ** 2)\n",
    "            \n",
    "            # Backward and optimize\n",
    "            self.optimizer_Adam.zero_grad()\n",
    "            loss.backward()\n",
    "            self.optimizer_Adam.step()\n",
    "            \n",
    "            if epoch % 100 == 0:\n",
    "                print(\n",
    "                    'It: %d, Loss: %.3e, Lambda_1: %.3f, Lambda_2: %.6f' % \n",
    "                    (\n",
    "                        epoch, \n",
    "                        loss.item(), \n",
    "                        self.lambda_1.item(), \n",
    "                        torch.exp(self.lambda_2).item()\n",
    "                    )\n",
    "                )\n",
    "                \n",
    "        # Backward and optimize\n",
    "        self.optimizer.step(self.loss_func)\n",
    "    \n",
    "    def predict(self, X):\n",
    "        x = torch.tensor(X[:, 0:1], requires_grad=True).float().to(device)\n",
    "        t = torch.tensor(X[:, 1:2], requires_grad=True).float().to(device)\n",
    "\n",
    "        self.dnn.eval()\n",
    "        u = self.net_u(x, t)\n",
    "        f = self.net_f(x, t)\n",
    "        u = u.detach().cpu().numpy()\n",
    "        f = f.detach().cpu().numpy()\n",
    "        return u, f"
   ]
  },
  {
   "cell_type": "code",
   "execution_count": null,
   "id": "16b0970e-abe5-47ba-99d6-5fabf1a4fb9b",
   "metadata": {},
   "outputs": [],
   "source": [
    "def get_net():\n",
    "    #2-D x,y方向\n",
    "    net = MyNetwork(2, 2)\n",
    "    return net"
   ]
  },
  {
   "cell_type": "code",
   "execution_count": 103,
   "id": "f5f58db9-57ea-4dc1-b640-c129066d4005",
   "metadata": {},
   "outputs": [],
   "source": [
    "# f_u = u_t + lambda_1*(u*u_x + v*u_y) + p_x - lambda_2*(u_xx + u_yy) \n",
    "# f_v = v_t + lambda_1*(u*v_x + v*v_y) + p_y - lambda_2*(v_xx + v_yy)\n",
    "#@author: Maziar Raissi"
   ]
  },
  {
   "cell_type": "code",
   "execution_count": null,
   "id": "9fb28255-4026-442a-9b4c-2f621a94a25c",
   "metadata": {},
   "outputs": [],
   "source": [
    "loss = nn.MSELoss(reduction='none')\n",
    "\n",
    "def evaluate_loss(data_iter, net, devices):\n",
    "    l_sum, n = 0.0, 0\n",
    "    for features, labels in data_iter:\n",
    "        features, labels = features.to(devices[0]), labels.to(devices[0])\n",
    "        outputs = net(features)\n",
    "        l = loss(outputs, labels)\n",
    "        l_sum += l.sum()\n",
    "        n += labels.numel()\n",
    "    return (l_sum / n).to('cpu')"
   ]
  },
  {
   "cell_type": "code",
   "execution_count": null,
   "id": "ab7d1135-1d93-48e8-9f4c-69758a38e30e",
   "metadata": {},
   "outputs": [],
   "source": [
    "def train(net, train_iter, valid_iter, num_epochs, lr, wd, devices, lr_period,\n",
    "          lr_decay):\n",
    "    trainer = torch.optim.SGD(net.parameters(), lr=lr, momentum=0.9,\n",
    "                              weight_decay=wd)\n",
    "    scheduler = torch.optim.lr_scheduler.StepLR(trainer, lr_period, lr_decay)\n",
    "    num_batches, timer = len(train_iter), d2l.Timer()\n",
    "    legend = ['train loss', 'train acc']\n",
    "    if valid_iter is not None:\n",
    "        legend.append('valid acc')\n",
    "    animator = d2l.Animator(xlabel='epoch', xlim=[1, num_epochs],\n",
    "                            legend=legend)\n",
    "    net = nn.DataParallel(net, device_ids=devices).to(devices[0])\n",
    "    for epoch in range(num_epochs):\n",
    "        net.train()\n",
    "        metric = d2l.Accumulator(3)\n",
    "        for i, (features, labels) in enumerate(train_iter):\n",
    "            timer.start()\n",
    "#             l, acc = d2l.train_batch_ch13(net, features, labels,\n",
    "#                                           loss, trainer, devices)\n",
    "            l, acc = train_batch(net, features, labels,\n",
    "                                loss, trainer, devices)\n",
    "            metric.add(l, acc, labels.shape[0])\n",
    "            timer.stop()\n",
    "            if (i + 1) % (num_batches // 5) == 0 or i == num_batches - 1:\n",
    "                animator.add(epoch + (i + 1) / num_batches,\n",
    "                             (metric[0] / metric[2], metric[1] / metric[2],\n",
    "                              None))\n",
    "        if valid_iter is not None:\n",
    "            valid_acc = d2l.evaluate_accuracy_gpu(net, valid_iter)\n",
    "            animator.add(epoch + 1, (None, None, valid_acc))\n",
    "        scheduler.step()\n",
    "    measures = (f'train loss {metric[0] / metric[2]:.3f}, '\n",
    "                f'train acc {metric[1] / metric[2]:.3f}')\n",
    "    if valid_iter is not None:\n",
    "        measures += f', valid acc {valid_acc:.3f}'\n",
    "    print(measures + f'\\n{metric[2] * num_epochs / timer.sum():.1f}'\n",
    "          f' examples/sec on {str(devices)}')"
   ]
  },
  {
   "cell_type": "code",
   "execution_count": null,
   "id": "b4ad76c7-0017-43a9-b771-c87e3b2ff063",
   "metadata": {},
   "outputs": [],
   "source": [
    "devices, num_epochs, lr, wd = d2l.try_all_gpus(), 20, 2e-4, 5e-4\n",
    "lr_period, lr_decay, net = 4, 0.9, get_net()\n",
    "train(net, train_iter, valid_iter, num_epochs, lr, wd, devices, lr_period,\n",
    "      lr_decay)"
   ]
  },
  {
   "cell_type": "code",
   "execution_count": 11,
   "id": "c3e3eafb-b740-4458-b22e-69556e4fc025",
   "metadata": {},
   "outputs": [],
   "source": [
    "# # f_test0 = h5py.File(get_fpath(data_dir, files[10]))\n",
    "# data_test0 = f_test0[get_hdf5_group(f_test0)[0]] # 所有粒子混在一起的训练数据\n",
    "# plot_(data_test0[:, 6], data_test0[:, 9], 'x', 'v')\n",
    "\n",
    "# f_test1 = h5py.File(get_fpath(data_dir, files[677]))\n",
    "# data_test1 = f_test1[get_hdf5_group(f_test1)[0]]\n",
    "# plot_(np.linspace(start=0, stop=len(data_test0[:, 6]), num=len(data_test0[:, 6])), data_test1[:, 6], 'dis', 'x')\n",
    "\n",
    "# plot_(np.linspace(0, len(data_test0[:, 9]), len(data_test0[:, 9])), data_test1[:, 9], 'dis', 'v')\n",
    "\n",
    "# # This train shapest we just to use one snapshot just\n",
    "# def data_ratio_select(data, data_len):\n",
    "#     return data[0:2*data_len:2]\n",
    "\n",
    "# data0 = data_ratio_select(data_test1, 5000)\n",
    "\n",
    "# # get train set and validation set from the DATA\n",
    "# def reorg_train_vaild(data, valid_ratio):\n",
    "#     l = len(data)\n",
    "#     # data = random.shuffle(data)\n",
    "#     n = l-int(l*valid_ratio)\n",
    "#     train_data = data[:n]\n",
    "#     valid_data = data[n:]\n",
    "#     return train_data, valid_data\n",
    "\n",
    "# train_data0, valid_data0 = reorg_train_vaild(data0, 0.1)\n",
    "\n",
    "# len(train_data0), len(valid_data0)\n",
    "\n",
    "# # select the data for test\n",
    "# def recorg_test(data, line, test_len):\n",
    "#     return data[line:2*test_len:2]\n",
    "\n",
    "# test_data0 = recorg_test(data_test1, 5000, 7500) \n",
    "\n",
    "# train_data0[0], valid_data0[0], test_data0[0]\n",
    "\n",
    "# train_data0.shape, valid_data0.shape, test_data0.shape\n",
    "\n",
    "# # physcial quantity squence is ids mass rho ie pot sl pos*3 vel*3\n",
    "# def chose_input_output_phy_qua(data, phy_qua):\n",
    "#     assert phy_qua == \"mass\" or phy_qua == \"rho\" or phy_qua == \"ie\" or phy_qua == \"pot\" or phy_qua == \"sl\" or phy_qua == \"pos\" or phy_qua == \"vel\"\n",
    "#     if phy_qua == \"mass\":\n",
    "#         return data[:, 1]\n",
    "#     if phy_qua == \"rho\":\n",
    "#         return data[:, 2]\n",
    "#     if phy_qua == \"ie\":\n",
    "#         return data[:, 3]\n",
    "#     if phy_qua == \"pot\":\n",
    "#         return data[:, 4]\n",
    "#     if phy_qua == \"rho\":\n",
    "#         return data[:, 5]\n",
    "#     if phy_qua == \"pos\":\n",
    "#         return data[:, -6:-3]\n",
    "#     if phy_qua == \"vel\":\n",
    "#         return data[:, -3:]\n",
    "    \n",
    "# train_data0_pos = chose_input_output_phy_qua(train_data0, \"pos\")\n",
    "# train_data0_vel = chose_input_output_phy_qua(train_data0, \"vel\")\n",
    "\n",
    "# valid_data0_pos = chose_input_output_phy_qua(valid_data0, \"pos\")\n",
    "# valid_data0_vel = chose_input_output_phy_qua(valid_data0, \"vel\")\n",
    "\n",
    "# test_data0_pos = chose_input_output_phy_qua(test_data0, \"pos\")\n",
    "# test_data0_vel = chose_input_output_phy_qua(test_data0, \"vel\")\n",
    "\n",
    "# # norm function for numpy\n",
    "# def data_norm(data, delta):\n",
    "#     mean = data.mean(axis=0, keepdims=True)\n",
    "#     print('mean: ', mean.shape)\n",
    "#     std = data.std(axis=0, keepdims=True)\n",
    "#     print('std: ', std.shape)\n",
    "#     print(\"================\")\n",
    "#     return (data-mean) / (std + delta)\n",
    "\n",
    "# #train\n",
    "# train_data0_pos_norm = data_norm(train_data0_pos, 0.000001)\n",
    "# train_data0_vel_norm = data_norm(train_data0_vel, 0.000001)\n",
    "# #valid\n",
    "# valid_data0_pos_norm = data_norm(valid_data0_pos, 0.000001)\n",
    "# valid_data0_vel_norm = data_norm(valid_data0_vel, 0.000001)\n",
    "# #test\n",
    "# test_data0_pos_norm = data_norm(test_data0_pos, 0.000001)\n",
    "# test_data0_vel_norm = data_norm(test_data0_vel, 0.000001)\n",
    "\n",
    "# plot_(np.linspace(0, len(train_data0_pos_norm[:, 0]), len(train_data0_pos_norm[:, 0])), train_data0_pos_norm[:, 0], 'dis', 'x')\n",
    "# plot_(np.linspace(0, len(train_data0_vel_norm[:, 0]), len(train_data0_vel_norm[:, 0])), train_data0_vel_norm[:, 0], 'dis', 'v')\n",
    "\n",
    "# plot_(train_data0_pos_norm[:, 0], train_data0_vel[:, 0], 'x', 'v')\n",
    "\n",
    "# # 训练采用的数据为未处理的，所有粒子混在一起的粒子\n",
    "\n",
    "# def data_to_tensor(data):\n",
    "#     return torch.from_numpy(data)\n",
    "\n",
    "# train_data0_pos_norm_t = data_to_tensor(train_data0_pos_norm)\n",
    "# train_data0_vel_norm_t = data_to_tensor(train_data0_vel_norm)\n",
    "# valid_data0_pos_norm_t = data_to_tensor(valid_data0_pos_norm)\n",
    "# valid_data0_vel_norm_t = data_to_tensor(valid_data0_vel_norm)\n",
    "\n",
    "# # defined SPH output Dataset\n",
    "# class SPHDataset(Dataset):\n",
    "#     def __init__(self, features, labels):\n",
    "#         self.features = features\n",
    "#         self.labels = labels\n",
    "#     def __len__(self):\n",
    "#         return len(self.features)\n",
    "#     def __getitem__(self, item):\n",
    "#         return self.features[item], self.labels[item]\n",
    "    \n",
    "# train_ds = SPHDataset(train_data0_pos_norm_t, train_data0_vel_norm_t)\n",
    "# valid_ds = SPHDataset(valid_data0_pos_norm_t, valid_data0_vel_norm_t)\n",
    "\n",
    "# batch_size = 32\n",
    "# train_iter = DataLoader(train_ds, batch_size=batch_size, shuffle=True, drop_last=True)\n",
    "# valid_iter = DataLoader(valid_ds, batch_size=batch_size, shuffle=False, drop_last=False)\n",
    "\n",
    "# class ResidualBlock(nn.Module):\n",
    "#     \"\"\"Residual Block with Linear Layers\"\"\"\n",
    "#     def __init__(self, dim):\n",
    "#         super(ResidualBlock, self).__init__()\n",
    "#         self.main = nn.Sequential(\n",
    "#             nn.Linear(dim, dim),\n",
    "#             nn.BatchNorm1d(dim),\n",
    "#             nn.ReLU(inplace=True),\n",
    "#             nn.Linear(dim, dim),\n",
    "#             nn.BatchNorm1d(dim)\n",
    "#         )\n",
    "    \n",
    "#     def forward(self, x):\n",
    "#         return x + self.main(x)\n",
    "\n",
    "\n",
    "# class DNN(nn.Module):\n",
    "#     \"\"\"Deep Neural Network\"\"\"\n",
    "#     def __init__(self, input_dim, hidden_dim, output_dim, repeat_num):\n",
    "#         super(DNN, self).__init__()\n",
    "        \n",
    "#         layers = []\n",
    "#         layers.append(nn.Linear(input_dim, hidden_dim))\n",
    "#         layers.append(nn.ReLU(inplace=True))\n",
    "        \n",
    "#         # down-sampling\n",
    "#         curr_dim = hidden_dim\n",
    "#         for i in range(2):\n",
    "#             layers.append(nn.Linear(curr_dim, curr_dim*2))\n",
    "#             layers.append(nn.ReLU(inplace=True))\n",
    "#             curr_dim = curr_dim * 2\n",
    "            \n",
    "#         for i in range(repeat_num):\n",
    "#             layers.append(ResidualBlock(curr_dim))\n",
    "            \n",
    "#         # up-sampling\n",
    "#         for i in range(2):\n",
    "#             layers.append(nn.Linear(curr_dim, curr_dim//2))\n",
    "#             layers.append(nn.ReLU(inplace=True))\n",
    "#             curr_dim = curr_dim // 2\n",
    "            \n",
    "#         layers.append(nn.Linear(curr_dim, curr_dim))\n",
    "#         layer.append(nn.Tanh())\n",
    "#         layers.append(nn.Linear(curr_dim, output_dim))\n",
    "        \n",
    "#         self.main = nn.Sequential(*layers)\n",
    "        \n",
    "#     def forward(self, x):\n",
    "#         return self.main(x)\n",
    "    \n",
    "# #     def loss_IC(self):\n",
    "# #         pass\n",
    "    \n",
    "# #     def loss_BC(self):\n",
    "# #         pass\n",
    "    \n",
    "# #     def loss_PDE(self):\n",
    "# #         pass\n",
    "\n",
    "\n",
    "# class PhysicsInformedNeuralNetwork_SPH(nn.Module):\n",
    "#     \"\"\"The Physics Informed Neural Network\"\"\"\n",
    "#     def __init__(self):\n",
    "#         super(PhysicsInformedNeuralNetwork_SPH, self).__init__()\n",
    "        \n",
    "#     def W(self, r, h):\n",
    "#         \"\"\"The spline kernel used in SPH((Monaghan & Lattanzio 1985)\"\"\"\n",
    "#         p = r / h\n",
    "#         sigma = 8 / (np.pi * h**3)\n",
    "#         if p > 1:\n",
    "#             return 0\n",
    "#         else if p > 1/2 and p <= 1:\n",
    "#             2 * sigma * (1 - p)**3\n",
    "#         else if p >= 0 and p <= 1/2:\n",
    "#             sigma * (1 - 6 * p**2 + 6 * p**3)\n",
    "    \n",
    "#     def W_grad(self, r, h):\n",
    "#         \"\"\"The gradient of smoothing kernel: dW(r, h) = (dW(r, h)/dr)/r\"\"\"\n",
    "#         pass\n",
    "    \n",
    "#     def loss(self):\n",
    "#         pass\n",
    "    \n",
    "#     def train(self):\n",
    "#         pass\n",
    "    \n"
   ]
  }
 ],
 "metadata": {
  "kernelspec": {
   "display_name": "Python 3 (ipykernel)",
   "language": "python",
   "name": "python3"
  },
  "language_info": {
   "codemirror_mode": {
    "name": "ipython",
    "version": 3
   },
   "file_extension": ".py",
   "mimetype": "text/x-python",
   "name": "python",
   "nbconvert_exporter": "python",
   "pygments_lexer": "ipython3",
   "version": "3.8.10"
  }
 },
 "nbformat": 4,
 "nbformat_minor": 5
}
