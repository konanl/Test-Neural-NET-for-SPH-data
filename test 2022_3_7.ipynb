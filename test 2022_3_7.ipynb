{
 "cells": [
  {
   "cell_type": "code",
   "execution_count": 1,
   "id": "607effda-06ec-4275-8dba-40dccb878535",
   "metadata": {},
   "outputs": [],
   "source": [
    "import torch\n",
    "import h5py\n",
    "import numpy as np\n",
    "import os\n",
    "from torch import nn as nn\n",
    "from torch.nn import functional as F\n",
    "from torch.utils.data import Dataset, DataLoader\n",
    "from torch import optim\n",
    "from visdom import Visdom\n",
    "import time"
   ]
  },
  {
   "cell_type": "code",
   "execution_count": 2,
   "id": "f1e7620c-4f1e-4605-97fd-a07f9c88d4ce",
   "metadata": {},
   "outputs": [],
   "source": [
    "files = os.listdir(\"/root/autodl-tmp/Datasets\")\n",
    "files.sort()"
   ]
  },
  {
   "cell_type": "code",
   "execution_count": 3,
   "id": "9f4db0ed-5529-402c-8a9e-a4a22c42baeb",
   "metadata": {},
   "outputs": [
    {
     "data": {
      "text/plain": [
       "4302"
      ]
     },
     "execution_count": 3,
     "metadata": {},
     "output_type": "execute_result"
    }
   ],
   "source": [
    "len(files)"
   ]
  },
  {
   "cell_type": "raw",
   "id": "b747f2f0-5e6a-4b51-8b9d-fd6a346041f3",
   "metadata": {},
   "source": [
    "The data extraction sequence：  0ParticleIDs 1Masses 2Density 3InternalEnergy\n",
    "                                4Potential 5SmoothingLength 6 7 8Coordinates 9 10 11Velocities"
   ]
  },
  {
   "cell_type": "code",
   "execution_count": 4,
   "id": "c9001450-795b-42d4-be2b-a98d6491b5f0",
   "metadata": {},
   "outputs": [],
   "source": [
    "MAX = 4000\n",
    "i = 0"
   ]
  },
  {
   "cell_type": "code",
   "execution_count": 5,
   "id": "a2ee28dc-28e9-4ec5-b2ae-7d495933395a",
   "metadata": {},
   "outputs": [],
   "source": [
    "DATA_train = []\n",
    "DATA_test  = []"
   ]
  },
  {
   "cell_type": "code",
   "execution_count": 6,
   "id": "3033e375-dea5-4317-8f8e-9ec06147d210",
   "metadata": {},
   "outputs": [],
   "source": [
    "for file in files:\n",
    "    filename = os.path.splitext(file)\n",
    "    if filename[1] == '.hdf5':\n",
    "        path = os.path.join('/root/autodl-tmp/Datasets/' + file)\n",
    "        f = h5py.File(path)\n",
    "        data = f['dataset']\n",
    "        if i < MAX:\n",
    "            DATA_train.append(data)\n",
    "        else:\n",
    "            DATA_test.append(data)\n",
    "        i += 1 "
   ]
  },
  {
   "cell_type": "code",
   "execution_count": 7,
   "id": "0cc44319-e792-4ee8-aa61-0a85f1b9d68b",
   "metadata": {},
   "outputs": [
    {
     "data": {
      "text/plain": [
       "(4000, 302)"
      ]
     },
     "execution_count": 7,
     "metadata": {},
     "output_type": "execute_result"
    }
   ],
   "source": [
    "len(DATA_train), len(DATA_test)"
   ]
  },
  {
   "cell_type": "code",
   "execution_count": 8,
   "id": "043e2754-de5f-421e-a0ef-2b811e3479b3",
   "metadata": {},
   "outputs": [
    {
     "data": {
      "text/plain": [
       "list"
      ]
     },
     "execution_count": 8,
     "metadata": {},
     "output_type": "execute_result"
    }
   ],
   "source": [
    "type(DATA_train)"
   ]
  },
  {
   "cell_type": "code",
   "execution_count": 9,
   "id": "fcd92941-c3b5-4bd4-b761-c326ab1fb3c0",
   "metadata": {},
   "outputs": [
    {
     "data": {
      "text/plain": [
       "array([ 1.0000000e+00,  2.9456370e+21,  7.9943233e+00,  1.4509925e+07,\n",
       "       -1.9568456e+11,  2.4651726e+07, -1.6436408e+08, -4.3989524e+07,\n",
       "       -1.0778338e+07,  2.7425510e+02,  4.4113613e+04,  1.7417133e+02],\n",
       "      dtype=float32)"
      ]
     },
     "execution_count": 9,
     "metadata": {},
     "output_type": "execute_result"
    }
   ],
   "source": [
    "DATA_train[0][0]"
   ]
  },
  {
   "cell_type": "code",
   "execution_count": 10,
   "id": "301bba08-20eb-4a1a-ab08-c3c579a03e0d",
   "metadata": {},
   "outputs": [],
   "source": [
    "def convertToArray(data):\n",
    "    assert type(data) != np.ndarray\n",
    "    return np.array(data)"
   ]
  },
  {
   "cell_type": "code",
   "execution_count": 11,
   "id": "399733ff-012f-491b-bbef-c31e7673254f",
   "metadata": {},
   "outputs": [],
   "source": [
    "def randomGetData(data, size=100):\n",
    "    assert size <= 100\n",
    "    index = np.random.randint(0, len(data), size)\n",
    "    return data[index]"
   ]
  },
  {
   "cell_type": "code",
   "execution_count": 12,
   "id": "d8a18111-a050-4572-b6f8-e983ef14ba0d",
   "metadata": {},
   "outputs": [],
   "source": [
    "# def convertToArray(data):\n",
    "#     DATA = np.array(data[0])\n",
    "#     for i in range(1, len(data)):\n",
    "#         data[i] = np.array(data[i])\n",
    "#         DATA = np.concatenate((DATA, data[i]))\n",
    "#     return DATA"
   ]
  },
  {
   "cell_type": "code",
   "execution_count": 12,
   "id": "089fc137-143b-4348-b032-1c1a6c681e3b",
   "metadata": {},
   "outputs": [],
   "source": [
    "DATA_train_PRE_01 = np.array(DATA_train[:100])"
   ]
  },
  {
   "cell_type": "code",
   "execution_count": 13,
   "id": "786dd768-6e9a-4bd7-9019-5de492a1bbf3",
   "metadata": {},
   "outputs": [],
   "source": [
    "DATA_test_PRE_01 = np.array(DATA_test[:50])"
   ]
  },
  {
   "cell_type": "code",
   "execution_count": null,
   "id": "8cab0f09-e2ca-4388-8bb6-b7ed87b60e48",
   "metadata": {},
   "outputs": [],
   "source": [
    "# DATA_train_PRE_02 = np.array(DATA_train[100:200])"
   ]
  },
  {
   "cell_type": "code",
   "execution_count": 14,
   "id": "52c5d7be-a573-4f95-8906-a2c76b739efb",
   "metadata": {},
   "outputs": [
    {
     "data": {
      "text/plain": [
       "(100, 242311, 12)"
      ]
     },
     "execution_count": 14,
     "metadata": {},
     "output_type": "execute_result"
    }
   ],
   "source": [
    "DATA_train_PRE_01.shape"
   ]
  },
  {
   "cell_type": "code",
   "execution_count": 15,
   "id": "561f0be3-8564-4756-9fe8-7d85fcfb792b",
   "metadata": {},
   "outputs": [
    {
     "data": {
      "text/plain": [
       "(50, 242311, 12)"
      ]
     },
     "execution_count": 15,
     "metadata": {},
     "output_type": "execute_result"
    }
   ],
   "source": [
    "DATA_test_PRE_01.shape"
   ]
  },
  {
   "cell_type": "code",
   "execution_count": 75,
   "id": "a1e5e876-884f-4546-843f-b9f375dc4164",
   "metadata": {},
   "outputs": [],
   "source": [
    "# norm function\n",
    "def data_norm(data):\n",
    "    mean = data.mean(dim=1, keepdim=True)\n",
    "    std = data.std(dim=1, keepdim=True)\n",
    "    return (data-mean)/(std+1)"
   ]
  },
  {
   "cell_type": "code",
   "execution_count": 16,
   "id": "3844cd97-9f22-4d5e-b275-8c39afb6d0d8",
   "metadata": {},
   "outputs": [],
   "source": [
    "# 将坐标作为输入 势能作为输出\n",
    "x_train_data_pos = DATA_train_PRE_01[:,:,-6:-3]\n",
    "y_train_data_pot = DATA_train_PRE_01[:,:,4]"
   ]
  },
  {
   "cell_type": "code",
   "execution_count": 17,
   "id": "b903a039-5cd1-4c8e-977e-35b9703ecd30",
   "metadata": {},
   "outputs": [
    {
     "data": {
      "text/plain": [
       "((100, 242311, 3), (100, 242311))"
      ]
     },
     "execution_count": 17,
     "metadata": {},
     "output_type": "execute_result"
    }
   ],
   "source": [
    "x_train_data_pos.shape, y_train_data_pot.shape"
   ]
  },
  {
   "cell_type": "code",
   "execution_count": 18,
   "id": "333a7652-edb6-4fb9-bfb8-1df60925723f",
   "metadata": {},
   "outputs": [],
   "source": [
    "x_train_data_pos = torch.from_numpy(x_train_data_pos)\n",
    "y_train_data_pot = torch.from_numpy(y_train_data_pot)"
   ]
  },
  {
   "cell_type": "code",
   "execution_count": 19,
   "id": "d8553b72-5290-449d-b4a0-adedfa07da68",
   "metadata": {},
   "outputs": [
    {
     "data": {
      "text/plain": [
       "(torch.Size([100, 242311, 3]), torch.Size([100, 242311]))"
      ]
     },
     "execution_count": 19,
     "metadata": {},
     "output_type": "execute_result"
    }
   ],
   "source": [
    "x_train_data_pos.shape, y_train_data_pot.shape"
   ]
  },
  {
   "cell_type": "code",
   "execution_count": 20,
   "id": "102a9600-96fa-46e1-aac8-de0564d87fa4",
   "metadata": {},
   "outputs": [
    {
     "data": {
      "text/plain": [
       "torch.Size([100, 242311, 1])"
      ]
     },
     "execution_count": 20,
     "metadata": {},
     "output_type": "execute_result"
    }
   ],
   "source": [
    "y_train_data_pot = y_train_data_pot.reshape(100, 242311, 1)\n",
    "y_train_data_pot.shape"
   ]
  },
  {
   "cell_type": "code",
   "execution_count": 21,
   "id": "94e20ef9-e0ba-4cd6-a95c-34e5cd5e6d82",
   "metadata": {},
   "outputs": [],
   "source": [
    "x_test_data_pos = DATA_test_PRE_01[:,:,-6:-3]\n",
    "y_test_data_pot = DATA_test_PRE_01[:,:,4].reshape(50, 242311, 1)"
   ]
  },
  {
   "cell_type": "code",
   "execution_count": 22,
   "id": "cebe17d0-721e-4b7d-baa9-3d1c8566789a",
   "metadata": {},
   "outputs": [],
   "source": [
    "x_test_data_pos = torch.from_numpy(x_test_data_pos)\n",
    "y_test_data_pot = torch.from_numpy(y_test_data_pot)"
   ]
  },
  {
   "cell_type": "code",
   "execution_count": 23,
   "id": "1f4770ee-5e79-4da1-9f93-c866dcbd221d",
   "metadata": {},
   "outputs": [
    {
     "data": {
      "text/plain": [
       "(torch.Size([50, 242311, 3]), torch.Size([50, 242311, 1]))"
      ]
     },
     "execution_count": 23,
     "metadata": {},
     "output_type": "execute_result"
    }
   ],
   "source": [
    "x_test_data_pos.shape, y_test_data_pot.shape"
   ]
  },
  {
   "cell_type": "code",
   "execution_count": 84,
   "id": "0252c98e-461c-48a6-b5b8-bd29a841d981",
   "metadata": {},
   "outputs": [],
   "source": [
    "x_train_data_pos = data_norm(x_train_data_pos)\n",
    "y_train_data_pot = data_norm(y_train_data_pot)\n",
    "x_test_data_pos = data_norm(x_test_data_pos)\n",
    "y_test_data_pot = data_norm(y_test_data_pot)"
   ]
  },
  {
   "cell_type": "code",
   "execution_count": 24,
   "id": "a34c791a-e2c1-482c-aff0-4176a1080684",
   "metadata": {},
   "outputs": [
    {
     "data": {
      "text/plain": [
       "(tensor(4.1418e+09), tensor(-3.5442e+09))"
      ]
     },
     "execution_count": 24,
     "metadata": {},
     "output_type": "execute_result"
    }
   ],
   "source": [
    "x_train_data_pos.max(), x_train_data_pos.min()"
   ]
  },
  {
   "cell_type": "code",
   "execution_count": 25,
   "id": "4a7c3ea6-e14a-428f-b292-99f4b0754186",
   "metadata": {},
   "outputs": [
    {
     "data": {
      "text/plain": [
       "(tensor(-9.5733e+09), tensor(-2.3961e+11))"
      ]
     },
     "execution_count": 25,
     "metadata": {},
     "output_type": "execute_result"
    }
   ],
   "source": [
    "y_train_data_pot.max(), y_train_data_pot.min()"
   ]
  },
  {
   "cell_type": "code",
   "execution_count": 26,
   "id": "bc0f0eb4-e331-4cc7-bfaf-455f0b15036d",
   "metadata": {},
   "outputs": [
    {
     "data": {
      "text/plain": [
       "(tensor(2.9852e+10), tensor(-2.5352e+10))"
      ]
     },
     "execution_count": 26,
     "metadata": {},
     "output_type": "execute_result"
    }
   ],
   "source": [
    "x_test_data_pos.max(), x_test_data_pos.min()"
   ]
  },
  {
   "cell_type": "code",
   "execution_count": 27,
   "id": "5f6b74d4-4ab3-4caa-bc33-771f129ec97a",
   "metadata": {},
   "outputs": [
    {
     "data": {
      "text/plain": [
       "(tensor(-1.3034e+09), tensor(-2.3782e+11))"
      ]
     },
     "execution_count": 27,
     "metadata": {},
     "output_type": "execute_result"
    }
   ],
   "source": [
    "y_test_data_pot.max(), y_test_data_pot.min()"
   ]
  },
  {
   "cell_type": "code",
   "execution_count": 28,
   "id": "88fb64c7-8e73-406f-a4c3-35f71bbb213b",
   "metadata": {},
   "outputs": [
    {
     "data": {
      "text/plain": [
       "torch.Size([100, 242311, 1])"
      ]
     },
     "execution_count": 28,
     "metadata": {},
     "output_type": "execute_result"
    }
   ],
   "source": [
    "y_train_data_pot.shape"
   ]
  },
  {
   "cell_type": "code",
   "execution_count": 29,
   "id": "86b09de1-5558-40b5-98d7-8869c4d30971",
   "metadata": {},
   "outputs": [],
   "source": [
    "class MyDataset(Dataset):\n",
    "    def __init__(self, x, label):\n",
    "        self.x = x\n",
    "        self.label = label\n",
    "    def __len__(self):\n",
    "        return len(self.x)\n",
    "    def __getitem__(self, item):\n",
    "        return self.x[item], self.label[item]"
   ]
  },
  {
   "cell_type": "code",
   "execution_count": 30,
   "id": "28be6d18-42c5-4808-a6da-410268f0eb66",
   "metadata": {},
   "outputs": [],
   "source": [
    "train_data_01 = MyDataset(x_train_data_pos, y_train_data_pot)"
   ]
  },
  {
   "cell_type": "code",
   "execution_count": 31,
   "id": "6de2ee88-0176-4db2-8a79-960bf36e396e",
   "metadata": {},
   "outputs": [
    {
     "data": {
      "text/plain": [
       "__main__.MyDataset"
      ]
     },
     "execution_count": 31,
     "metadata": {},
     "output_type": "execute_result"
    }
   ],
   "source": [
    "type(train_data_01)"
   ]
  },
  {
   "cell_type": "code",
   "execution_count": 32,
   "id": "5abef5ca-7126-4453-8c4c-53b9c74b94fa",
   "metadata": {},
   "outputs": [],
   "source": [
    "test_data_01 = MyDataset(x_test_data_pos, y_test_data_pot)"
   ]
  },
  {
   "cell_type": "code",
   "execution_count": 33,
   "id": "850c7a98-45f3-4ae9-9e4d-238f04130147",
   "metadata": {},
   "outputs": [],
   "source": [
    "# Dataloader\n",
    "train_dataloader = DataLoader(train_data_01, batch_size=1, shuffle=True)\n",
    "test_dataloader = DataLoader(test_data_01, batch_size=1, shuffle=False)"
   ]
  },
  {
   "cell_type": "code",
   "execution_count": 34,
   "id": "bef50167-d9cb-4d67-86c7-26c88c8bcdb2",
   "metadata": {},
   "outputs": [
    {
     "data": {
      "text/plain": [
       "100"
      ]
     },
     "execution_count": 34,
     "metadata": {},
     "output_type": "execute_result"
    }
   ],
   "source": [
    "len(train_dataloader)"
   ]
  },
  {
   "cell_type": "code",
   "execution_count": 35,
   "id": "345cc50c-7e0f-47c2-be98-498b448d5e9d",
   "metadata": {},
   "outputs": [
    {
     "name": "stdout",
     "output_type": "stream",
     "text": [
      "Using cuda device\n"
     ]
    }
   ],
   "source": [
    "device = 'cuda' if torch.cuda.is_available() else 'cpu'\n",
    "print(f'Using {device} device')"
   ]
  },
  {
   "cell_type": "code",
   "execution_count": 36,
   "id": "70868ab8-dc9f-4f7a-a078-b7bc8425e7bd",
   "metadata": {},
   "outputs": [],
   "source": [
    "# network model\n",
    "class MyNetwork(nn.Module):\n",
    "    def __init__(self, input_units=3, output_units=1):\n",
    "        super(MyNetwork, self).__init__()\n",
    "        self.fc_unit = nn.Sequential(nn.Linear(input_units, 120), \n",
    "                                     nn.Tanh(), \n",
    "                                     nn.Linear(120, 100), \n",
    "                                     nn.Tanh(), \n",
    "                                     nn.Linear(100, 50), \n",
    "                                     nn.Tanh(), \n",
    "                                     nn.Linear(50, output_units)\n",
    "                                    )\n",
    "    def forward(self, x):\n",
    "        x = self.fc_unit(x)\n",
    "        return x\n",
    "         "
   ]
  },
  {
   "cell_type": "code",
   "execution_count": 37,
   "id": "d31d3425-a44f-425c-a06e-eaef3c099812",
   "metadata": {},
   "outputs": [
    {
     "data": {
      "text/plain": [
       "MyNetwork(\n",
       "  (fc_unit): Sequential(\n",
       "    (0): Linear(in_features=3, out_features=120, bias=True)\n",
       "    (1): Tanh()\n",
       "    (2): Linear(in_features=120, out_features=100, bias=True)\n",
       "    (3): Tanh()\n",
       "    (4): Linear(in_features=100, out_features=50, bias=True)\n",
       "    (5): Tanh()\n",
       "    (6): Linear(in_features=50, out_features=1, bias=True)\n",
       "  )\n",
       ")"
      ]
     },
     "execution_count": 37,
     "metadata": {},
     "output_type": "execute_result"
    }
   ],
   "source": [
    "model = MyNetwork().to(device)\n",
    "model"
   ]
  },
  {
   "cell_type": "code",
   "execution_count": 38,
   "id": "7051b7cc-fd06-4671-8d91-e52964a4c95d",
   "metadata": {},
   "outputs": [
    {
     "data": {
      "text/plain": [
       "torch.Size([242311, 1])"
      ]
     },
     "execution_count": 38,
     "metadata": {},
     "output_type": "execute_result"
    }
   ],
   "source": [
    "model(x_train_data_pos[0].to(device)).shape"
   ]
  },
  {
   "cell_type": "code",
   "execution_count": 39,
   "id": "d41687fa-b006-42b2-8ab8-c2eb4eeee233",
   "metadata": {},
   "outputs": [],
   "source": [
    "loss_fn = nn.MSELoss().to(device)"
   ]
  },
  {
   "cell_type": "code",
   "execution_count": 40,
   "id": "5a8613de-e6a6-4ef7-badc-c9614457fc2f",
   "metadata": {},
   "outputs": [],
   "source": [
    "optimizer = optim.Adam(model.parameters(), lr=1e-3)"
   ]
  },
  {
   "cell_type": "code",
   "execution_count": 41,
   "id": "a04cbb03-ffb7-416b-a59c-ead3119631d8",
   "metadata": {},
   "outputs": [
    {
     "name": "stderr",
     "output_type": "stream",
     "text": [
      "Setting up a new session...\n",
      "Traceback (most recent call last):\n",
      "  File \"/root/miniconda3/lib/python3.8/site-packages/urllib3/connection.py\", line 169, in _new_conn\n",
      "    conn = connection.create_connection(\n",
      "  File \"/root/miniconda3/lib/python3.8/site-packages/urllib3/util/connection.py\", line 96, in create_connection\n",
      "    raise err\n",
      "  File \"/root/miniconda3/lib/python3.8/site-packages/urllib3/util/connection.py\", line 86, in create_connection\n",
      "    sock.connect(sa)\n",
      "ConnectionRefusedError: [Errno 111] Connection refused\n",
      "\n",
      "During handling of the above exception, another exception occurred:\n",
      "\n",
      "Traceback (most recent call last):\n",
      "  File \"/root/miniconda3/lib/python3.8/site-packages/urllib3/connectionpool.py\", line 699, in urlopen\n",
      "    httplib_response = self._make_request(\n",
      "  File \"/root/miniconda3/lib/python3.8/site-packages/urllib3/connectionpool.py\", line 394, in _make_request\n",
      "    conn.request(method, url, **httplib_request_kw)\n",
      "  File \"/root/miniconda3/lib/python3.8/site-packages/urllib3/connection.py\", line 234, in request\n",
      "    super(HTTPConnection, self).request(method, url, body=body, headers=headers)\n",
      "  File \"/root/miniconda3/lib/python3.8/http/client.py\", line 1252, in request\n",
      "    self._send_request(method, url, body, headers, encode_chunked)\n",
      "  File \"/root/miniconda3/lib/python3.8/http/client.py\", line 1298, in _send_request\n",
      "    self.endheaders(body, encode_chunked=encode_chunked)\n",
      "  File \"/root/miniconda3/lib/python3.8/http/client.py\", line 1247, in endheaders\n",
      "    self._send_output(message_body, encode_chunked=encode_chunked)\n",
      "  File \"/root/miniconda3/lib/python3.8/http/client.py\", line 1007, in _send_output\n",
      "    self.send(msg)\n",
      "  File \"/root/miniconda3/lib/python3.8/http/client.py\", line 947, in send\n",
      "    self.connect()\n",
      "  File \"/root/miniconda3/lib/python3.8/site-packages/urllib3/connection.py\", line 200, in connect\n",
      "    conn = self._new_conn()\n",
      "  File \"/root/miniconda3/lib/python3.8/site-packages/urllib3/connection.py\", line 181, in _new_conn\n",
      "    raise NewConnectionError(\n",
      "urllib3.exceptions.NewConnectionError: <urllib3.connection.HTTPConnection object at 0x7feaee9456d0>: Failed to establish a new connection: [Errno 111] Connection refused\n",
      "\n",
      "During handling of the above exception, another exception occurred:\n",
      "\n",
      "Traceback (most recent call last):\n",
      "  File \"/root/miniconda3/lib/python3.8/site-packages/requests/adapters.py\", line 439, in send\n",
      "    resp = conn.urlopen(\n",
      "  File \"/root/miniconda3/lib/python3.8/site-packages/urllib3/connectionpool.py\", line 755, in urlopen\n",
      "    retries = retries.increment(\n",
      "  File \"/root/miniconda3/lib/python3.8/site-packages/urllib3/util/retry.py\", line 574, in increment\n",
      "    raise MaxRetryError(_pool, url, error or ResponseError(cause))\n",
      "urllib3.exceptions.MaxRetryError: HTTPConnectionPool(host='localhost', port=8097): Max retries exceeded with url: /env/main (Caused by NewConnectionError('<urllib3.connection.HTTPConnection object at 0x7feaee9456d0>: Failed to establish a new connection: [Errno 111] Connection refused'))\n",
      "\n",
      "During handling of the above exception, another exception occurred:\n",
      "\n",
      "Traceback (most recent call last):\n",
      "  File \"/root/miniconda3/lib/python3.8/site-packages/visdom/__init__.py\", line 708, in _send\n",
      "    return self._handle_post(\n",
      "  File \"/root/miniconda3/lib/python3.8/site-packages/visdom/__init__.py\", line 677, in _handle_post\n",
      "    r = self.session.post(url, data=data)\n",
      "  File \"/root/miniconda3/lib/python3.8/site-packages/requests/sessions.py\", line 590, in post\n",
      "    return self.request('POST', url, data=data, json=json, **kwargs)\n",
      "  File \"/root/miniconda3/lib/python3.8/site-packages/requests/sessions.py\", line 542, in request\n",
      "    resp = self.send(prep, **send_kwargs)\n",
      "  File \"/root/miniconda3/lib/python3.8/site-packages/requests/sessions.py\", line 655, in send\n",
      "    r = adapter.send(request, **kwargs)\n",
      "  File \"/root/miniconda3/lib/python3.8/site-packages/requests/adapters.py\", line 516, in send\n",
      "    raise ConnectionError(e, request=request)\n",
      "requests.exceptions.ConnectionError: HTTPConnectionPool(host='localhost', port=8097): Max retries exceeded with url: /env/main (Caused by NewConnectionError('<urllib3.connection.HTTPConnection object at 0x7feaee9456d0>: Failed to establish a new connection: [Errno 111] Connection refused'))\n",
      "[Errno 99] Cannot assign requested address\n",
      "on_close() takes 1 positional argument but 3 were given\n"
     ]
    },
    {
     "name": "stdout",
     "output_type": "stream",
     "text": [
      "Exception in user code:\n",
      "------------------------------------------------------------\n"
     ]
    },
    {
     "name": "stderr",
     "output_type": "stream",
     "text": [
      "[Errno 99] Cannot assign requested address\n",
      "on_close() takes 1 positional argument but 3 were given\n",
      "[Errno 99] Cannot assign requested address\n",
      "on_close() takes 1 positional argument but 3 were given\n",
      "Visdom python client failed to establish socket to get messages from the server. This feature is optional and can be disabled by initializing Visdom with `use_incoming_socket=False`, which will prevent waiting for this request to timeout.\n"
     ]
    },
    {
     "name": "stdout",
     "output_type": "stream",
     "text": [
      "Exception in user code:\n",
      "------------------------------------------------------------\n",
      "Exception in user code:\n",
      "------------------------------------------------------------\n"
     ]
    },
    {
     "name": "stderr",
     "output_type": "stream",
     "text": [
      "Traceback (most recent call last):\n",
      "  File \"/root/miniconda3/lib/python3.8/site-packages/urllib3/connection.py\", line 169, in _new_conn\n",
      "    conn = connection.create_connection(\n",
      "  File \"/root/miniconda3/lib/python3.8/site-packages/urllib3/util/connection.py\", line 96, in create_connection\n",
      "    raise err\n",
      "  File \"/root/miniconda3/lib/python3.8/site-packages/urllib3/util/connection.py\", line 86, in create_connection\n",
      "    sock.connect(sa)\n",
      "ConnectionRefusedError: [Errno 111] Connection refused\n",
      "\n",
      "During handling of the above exception, another exception occurred:\n",
      "\n",
      "Traceback (most recent call last):\n",
      "  File \"/root/miniconda3/lib/python3.8/site-packages/urllib3/connectionpool.py\", line 699, in urlopen\n",
      "    httplib_response = self._make_request(\n",
      "  File \"/root/miniconda3/lib/python3.8/site-packages/urllib3/connectionpool.py\", line 394, in _make_request\n",
      "    conn.request(method, url, **httplib_request_kw)\n",
      "  File \"/root/miniconda3/lib/python3.8/site-packages/urllib3/connection.py\", line 234, in request\n",
      "    super(HTTPConnection, self).request(method, url, body=body, headers=headers)\n",
      "  File \"/root/miniconda3/lib/python3.8/http/client.py\", line 1252, in request\n",
      "    self._send_request(method, url, body, headers, encode_chunked)\n",
      "  File \"/root/miniconda3/lib/python3.8/http/client.py\", line 1298, in _send_request\n",
      "    self.endheaders(body, encode_chunked=encode_chunked)\n",
      "  File \"/root/miniconda3/lib/python3.8/http/client.py\", line 1247, in endheaders\n",
      "    self._send_output(message_body, encode_chunked=encode_chunked)\n",
      "  File \"/root/miniconda3/lib/python3.8/http/client.py\", line 1007, in _send_output\n",
      "    self.send(msg)\n",
      "  File \"/root/miniconda3/lib/python3.8/http/client.py\", line 947, in send\n",
      "    self.connect()\n",
      "  File \"/root/miniconda3/lib/python3.8/site-packages/urllib3/connection.py\", line 200, in connect\n",
      "    conn = self._new_conn()\n",
      "  File \"/root/miniconda3/lib/python3.8/site-packages/urllib3/connection.py\", line 181, in _new_conn\n",
      "    raise NewConnectionError(\n",
      "urllib3.exceptions.NewConnectionError: <urllib3.connection.HTTPConnection object at 0x7feac249b130>: Failed to establish a new connection: [Errno 111] Connection refused\n",
      "\n",
      "During handling of the above exception, another exception occurred:\n",
      "\n",
      "Traceback (most recent call last):\n",
      "  File \"/root/miniconda3/lib/python3.8/site-packages/requests/adapters.py\", line 439, in send\n",
      "    resp = conn.urlopen(\n",
      "  File \"/root/miniconda3/lib/python3.8/site-packages/urllib3/connectionpool.py\", line 755, in urlopen\n",
      "    retries = retries.increment(\n",
      "  File \"/root/miniconda3/lib/python3.8/site-packages/urllib3/util/retry.py\", line 574, in increment\n",
      "    raise MaxRetryError(_pool, url, error or ResponseError(cause))\n",
      "urllib3.exceptions.MaxRetryError: HTTPConnectionPool(host='localhost', port=8097): Max retries exceeded with url: /events (Caused by NewConnectionError('<urllib3.connection.HTTPConnection object at 0x7feac249b130>: Failed to establish a new connection: [Errno 111] Connection refused'))\n",
      "\n",
      "During handling of the above exception, another exception occurred:\n",
      "\n",
      "Traceback (most recent call last):\n",
      "  File \"/root/miniconda3/lib/python3.8/site-packages/visdom/__init__.py\", line 708, in _send\n",
      "    return self._handle_post(\n",
      "  File \"/root/miniconda3/lib/python3.8/site-packages/visdom/__init__.py\", line 677, in _handle_post\n",
      "    r = self.session.post(url, data=data)\n",
      "  File \"/root/miniconda3/lib/python3.8/site-packages/requests/sessions.py\", line 590, in post\n",
      "    return self.request('POST', url, data=data, json=json, **kwargs)\n",
      "  File \"/root/miniconda3/lib/python3.8/site-packages/requests/sessions.py\", line 542, in request\n",
      "    resp = self.send(prep, **send_kwargs)\n",
      "  File \"/root/miniconda3/lib/python3.8/site-packages/requests/sessions.py\", line 655, in send\n",
      "    r = adapter.send(request, **kwargs)\n",
      "  File \"/root/miniconda3/lib/python3.8/site-packages/requests/adapters.py\", line 516, in send\n",
      "    raise ConnectionError(e, request=request)\n",
      "requests.exceptions.ConnectionError: HTTPConnectionPool(host='localhost', port=8097): Max retries exceeded with url: /events (Caused by NewConnectionError('<urllib3.connection.HTTPConnection object at 0x7feac249b130>: Failed to establish a new connection: [Errno 111] Connection refused'))\n",
      "Traceback (most recent call last):\n",
      "  File \"/root/miniconda3/lib/python3.8/site-packages/urllib3/connection.py\", line 169, in _new_conn\n",
      "    conn = connection.create_connection(\n",
      "  File \"/root/miniconda3/lib/python3.8/site-packages/urllib3/util/connection.py\", line 96, in create_connection\n",
      "    raise err\n",
      "  File \"/root/miniconda3/lib/python3.8/site-packages/urllib3/util/connection.py\", line 86, in create_connection\n",
      "    sock.connect(sa)\n",
      "ConnectionRefusedError: [Errno 111] Connection refused\n",
      "\n",
      "During handling of the above exception, another exception occurred:\n",
      "\n",
      "Traceback (most recent call last):\n",
      "  File \"/root/miniconda3/lib/python3.8/site-packages/urllib3/connectionpool.py\", line 699, in urlopen\n",
      "    httplib_response = self._make_request(\n",
      "  File \"/root/miniconda3/lib/python3.8/site-packages/urllib3/connectionpool.py\", line 394, in _make_request\n",
      "    conn.request(method, url, **httplib_request_kw)\n",
      "  File \"/root/miniconda3/lib/python3.8/site-packages/urllib3/connection.py\", line 234, in request\n",
      "    super(HTTPConnection, self).request(method, url, body=body, headers=headers)\n",
      "  File \"/root/miniconda3/lib/python3.8/http/client.py\", line 1252, in request\n",
      "    self._send_request(method, url, body, headers, encode_chunked)\n",
      "  File \"/root/miniconda3/lib/python3.8/http/client.py\", line 1298, in _send_request\n",
      "    self.endheaders(body, encode_chunked=encode_chunked)\n",
      "  File \"/root/miniconda3/lib/python3.8/http/client.py\", line 1247, in endheaders\n",
      "    self._send_output(message_body, encode_chunked=encode_chunked)\n",
      "  File \"/root/miniconda3/lib/python3.8/http/client.py\", line 1007, in _send_output\n",
      "    self.send(msg)\n",
      "  File \"/root/miniconda3/lib/python3.8/http/client.py\", line 947, in send\n",
      "    self.connect()\n",
      "  File \"/root/miniconda3/lib/python3.8/site-packages/urllib3/connection.py\", line 200, in connect\n",
      "    conn = self._new_conn()\n",
      "  File \"/root/miniconda3/lib/python3.8/site-packages/urllib3/connection.py\", line 181, in _new_conn\n",
      "    raise NewConnectionError(\n",
      "urllib3.exceptions.NewConnectionError: <urllib3.connection.HTTPConnection object at 0x7feac249ba00>: Failed to establish a new connection: [Errno 111] Connection refused\n",
      "\n",
      "During handling of the above exception, another exception occurred:\n",
      "\n",
      "Traceback (most recent call last):\n",
      "  File \"/root/miniconda3/lib/python3.8/site-packages/requests/adapters.py\", line 439, in send\n",
      "    resp = conn.urlopen(\n",
      "  File \"/root/miniconda3/lib/python3.8/site-packages/urllib3/connectionpool.py\", line 755, in urlopen\n",
      "    retries = retries.increment(\n",
      "  File \"/root/miniconda3/lib/python3.8/site-packages/urllib3/util/retry.py\", line 574, in increment\n",
      "    raise MaxRetryError(_pool, url, error or ResponseError(cause))\n",
      "urllib3.exceptions.MaxRetryError: HTTPConnectionPool(host='localhost', port=8097): Max retries exceeded with url: /events (Caused by NewConnectionError('<urllib3.connection.HTTPConnection object at 0x7feac249ba00>: Failed to establish a new connection: [Errno 111] Connection refused'))\n",
      "\n",
      "During handling of the above exception, another exception occurred:\n",
      "\n",
      "Traceback (most recent call last):\n",
      "  File \"/root/miniconda3/lib/python3.8/site-packages/visdom/__init__.py\", line 708, in _send\n",
      "    return self._handle_post(\n",
      "  File \"/root/miniconda3/lib/python3.8/site-packages/visdom/__init__.py\", line 677, in _handle_post\n",
      "    r = self.session.post(url, data=data)\n",
      "  File \"/root/miniconda3/lib/python3.8/site-packages/requests/sessions.py\", line 590, in post\n",
      "    return self.request('POST', url, data=data, json=json, **kwargs)\n",
      "  File \"/root/miniconda3/lib/python3.8/site-packages/requests/sessions.py\", line 542, in request\n",
      "    resp = self.send(prep, **send_kwargs)\n",
      "  File \"/root/miniconda3/lib/python3.8/site-packages/requests/sessions.py\", line 655, in send\n",
      "    r = adapter.send(request, **kwargs)\n",
      "  File \"/root/miniconda3/lib/python3.8/site-packages/requests/adapters.py\", line 516, in send\n",
      "    raise ConnectionError(e, request=request)\n",
      "requests.exceptions.ConnectionError: HTTPConnectionPool(host='localhost', port=8097): Max retries exceeded with url: /events (Caused by NewConnectionError('<urllib3.connection.HTTPConnection object at 0x7feac249ba00>: Failed to establish a new connection: [Errno 111] Connection refused'))\n"
     ]
    },
    {
     "data": {
      "text/plain": [
       "False"
      ]
     },
     "execution_count": 41,
     "metadata": {},
     "output_type": "execute_result"
    },
    {
     "name": "stderr",
     "output_type": "stream",
     "text": [
      "[Errno 99] Cannot assign requested address\n",
      "on_close() takes 1 positional argument but 3 were given\n",
      "[Errno 99] Cannot assign requested address\n",
      "on_close() takes 1 positional argument but 3 were given\n",
      "[Errno 99] Cannot assign requested address\n",
      "on_close() takes 1 positional argument but 3 were given\n",
      "[Errno 99] Cannot assign requested address\n",
      "on_close() takes 1 positional argument but 3 were given\n",
      "[Errno 99] Cannot assign requested address\n",
      "on_close() takes 1 positional argument but 3 were given\n",
      "[Errno 99] Cannot assign requested address\n",
      "on_close() takes 1 positional argument but 3 were given\n",
      "[Errno 99] Cannot assign requested address\n",
      "on_close() takes 1 positional argument but 3 were given\n",
      "[Errno 99] Cannot assign requested address\n",
      "on_close() takes 1 positional argument but 3 were given\n",
      "[Errno 99] Cannot assign requested address\n",
      "on_close() takes 1 positional argument but 3 were given\n",
      "[Errno 99] Cannot assign requested address\n",
      "on_close() takes 1 positional argument but 3 were given\n",
      "[Errno 99] Cannot assign requested address\n",
      "on_close() takes 1 positional argument but 3 were given\n",
      "[Errno 99] Cannot assign requested address\n",
      "on_close() takes 1 positional argument but 3 were given\n",
      "[Errno 99] Cannot assign requested address\n",
      "on_close() takes 1 positional argument but 3 were given\n",
      "[Errno 99] Cannot assign requested address\n",
      "on_close() takes 1 positional argument but 3 were given\n"
     ]
    }
   ],
   "source": [
    "viz = Visdom()\n",
    "viz.line([0.], [0.], win='train_loss', opts=dict(title='train_loss'))\n",
    "viz.line([[0.0, 1.0]], [0.], win='test', opts=dict(title='test_loss&acc.', \n",
    "                                                   legend=['loss', 'acc.']))"
   ]
  },
  {
   "cell_type": "code",
   "execution_count": 42,
   "id": "700e917d-58ce-46ab-8685-4320f22ab647",
   "metadata": {},
   "outputs": [],
   "source": [
    "global_step = 0. # 记录训练步长"
   ]
  },
  {
   "cell_type": "code",
   "execution_count": 43,
   "id": "94389508-9be0-4740-ae1f-4f4fc8a0ced6",
   "metadata": {},
   "outputs": [],
   "source": [
    "train_data = train_dataloader\n",
    "test_data = test_dataloader"
   ]
  },
  {
   "cell_type": "code",
   "execution_count": 44,
   "id": "a389402c-b0ac-41f0-88fa-9b7a844e25dd",
   "metadata": {},
   "outputs": [
    {
     "data": {
      "text/plain": [
       "100"
      ]
     },
     "execution_count": 44,
     "metadata": {},
     "output_type": "execute_result"
    }
   ],
   "source": [
    "len(train_data)"
   ]
  },
  {
   "cell_type": "code",
   "execution_count": 46,
   "id": "943ad9d9-01e1-4acc-a82d-e3d8cc439893",
   "metadata": {},
   "outputs": [],
   "source": [
    "epochs = 1000"
   ]
  },
  {
   "cell_type": "code",
   "execution_count": null,
   "id": "0530ddcc-774e-46fe-9475-e93e91523872",
   "metadata": {},
   "outputs": [],
   "source": [
    "for epoch in range(epochs):\n",
    "    model.train()  # train\n",
    "    for batch_idx, (x, label) in enumerate(train_dataloader):\n",
    "        x, label = x.to(device), label.to(device)\n",
    "        y_hat = model(x)\n",
    "        # label = torch.flatten(label, 1, -1)\n",
    "        train_loss = loss_fn(y_hat, label)\n",
    "        optimizer.zero_grad()\n",
    "        train_loss.backward()\n",
    "        optimizer.step()\n",
    "        global_step += 1\n",
    "        viz.line([train_loss.item()], [global_step], win='train_loss', update='append')\n",
    "    if batch_idx % 100 == 0:    \n",
    "        print(epoch, 'loss: {:.2f}'.format(loss.item()))\n",
    "    model.eval()   # test\n",
    "    with torch.no_grad():\n",
    "        correct = 0\n",
    "        test_loss = 0\n",
    "        total_correct = 0\n",
    "        total_num = 0\n",
    "        for x, label in test_dataloader:\n",
    "            x, label = x.to(device), label.to(device)\n",
    "            pred = model(x)\n",
    "            # label = torch.flatten(label, 1, -1)\n",
    "            loss = loss_fn(pred, label)\n",
    "            test_loss += loss_fn(pred, label).item()\n",
    "            if loss < 0.5:\n",
    "                correct += 1\n",
    "            # correct = torch.eq(pred,label).float().sum().item()\n",
    "            total_correct += correct\n",
    "            total_num += x.size(0)   \n",
    "        test_loss /= total_num\n",
    "        acc = total_correct / total_num\n",
    "        # visdom 可视化\n",
    "        viz.line([[test_loss, acc]], [global_step], win='test', update='append')\n",
    "        if batch_idx % 100 == 0:\n",
    "            print(epoch, 'test acc: {:.2f}%'.format(acc*100))\n",
    "            print('test loss: {:.2f}'.format(loss))"
   ]
  },
  {
   "cell_type": "code",
   "execution_count": null,
   "id": "da58cc6a-0768-4a17-956d-80965d950eda",
   "metadata": {},
   "outputs": [],
   "source": []
  }
 ],
 "metadata": {
  "kernelspec": {
   "display_name": "Python 3 (ipykernel)",
   "language": "python",
   "name": "python3"
  },
  "language_info": {
   "codemirror_mode": {
    "name": "ipython",
    "version": 3
   },
   "file_extension": ".py",
   "mimetype": "text/x-python",
   "name": "python",
   "nbconvert_exporter": "python",
   "pygments_lexer": "ipython3",
   "version": "3.8.10"
  }
 },
 "nbformat": 4,
 "nbformat_minor": 5
}
