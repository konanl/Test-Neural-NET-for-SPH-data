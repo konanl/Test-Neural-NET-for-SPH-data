{
 "cells": [
  {
   "cell_type": "code",
   "execution_count": 1,
   "id": "5dfedf5f-d964-4a95-af88-5b5586811592",
   "metadata": {},
   "outputs": [],
   "source": [
    "import pynbody"
   ]
  },
  {
   "cell_type": "code",
   "execution_count": 4,
   "id": "e3d0d68a-494f-46d3-a738-85ff3915bb94",
   "metadata": {},
   "outputs": [
    {
     "name": "stderr",
     "output_type": "stream",
     "text": [
      "/root/miniconda3/lib/python3.8/site-packages/pynbody/snapshot/tipsy.py:124: RuntimeWarning: No readable param file in the run directory or parent directory: using defaults.\n",
      "  warnings.warn(\n"
     ]
    }
   ],
   "source": [
    "f = pynbody.tipsy.TipsySnap(\"b051-v30-2.25MM-1.125IMP-MANEOS.00100\")"
   ]
  },
  {
   "cell_type": "code",
   "execution_count": 10,
   "id": "400fc02d-047a-46f5-85a5-8a456649d211",
   "metadata": {},
   "outputs": [
    {
     "data": {
      "text/plain": [
       "(SimArray(3.62068968e-05, '1.00e+10 Msol'),\n",
       " SimArray(4.35306611e-05, '1.00e+10 Msol'))"
      ]
     },
     "execution_count": 10,
     "metadata": {},
     "output_type": "execute_result"
    }
   ],
   "source": [
    "f[\"mass\"].min(), f[\"mass\"].max()"
   ]
  },
  {
   "cell_type": "code",
   "execution_count": 14,
   "id": "68e314db-9eda-40af-89e1-8bd55b64d739",
   "metadata": {},
   "outputs": [
    {
     "data": {
      "text/plain": [
       "(SimArray(22.37633514, '1.00e+10 Msol kpc**-3'),\n",
       " SimArray(0.0002797, '1.00e+10 Msol kpc**-3'))"
      ]
     },
     "execution_count": 14,
     "metadata": {},
     "output_type": "execute_result"
    }
   ],
   "source": [
    "f[\"rho\"].max(), f[\"rho\"].min()"
   ]
  },
  {
   "cell_type": "code",
   "execution_count": 13,
   "id": "d3d6ed61-0b0f-46b3-a816-f14161a00fef",
   "metadata": {},
   "outputs": [
    {
     "data": {
      "text/plain": [
       "(SimArray(3.3184402, 'kpc'), SimArray(-3.21093559, 'kpc'))"
      ]
     },
     "execution_count": 13,
     "metadata": {},
     "output_type": "execute_result"
    }
   ],
   "source": [
    "f[\"pos\"].max(), f[\"pos\"].min()"
   ]
  },
  {
   "cell_type": "code",
   "execution_count": 15,
   "id": "3898b500-1030-41a5-b5dd-1519357d4213",
   "metadata": {},
   "outputs": [
    {
     "data": {
      "text/plain": [
       "(SimArray(-35.58257675, '1.00e+05 G**1/2 Msol**1/2 kpc**-1/2'),\n",
       " SimArray(36.90813446, '1.00e+05 G**1/2 Msol**1/2 kpc**-1/2'))"
      ]
     },
     "execution_count": 15,
     "metadata": {},
     "output_type": "execute_result"
    }
   ],
   "source": [
    "f[\"vel\"].min(), f[\"vel\"].max()"
   ]
  },
  {
   "cell_type": "code",
   "execution_count": null,
   "id": "30b4c652-232e-4a66-884e-77a2172e40b3",
   "metadata": {},
   "outputs": [],
   "source": []
  }
 ],
 "metadata": {
  "kernelspec": {
   "display_name": "Python 3 (ipykernel)",
   "language": "python",
   "name": "python3"
  },
  "language_info": {
   "codemirror_mode": {
    "name": "ipython",
    "version": 3
   },
   "file_extension": ".py",
   "mimetype": "text/x-python",
   "name": "python",
   "nbconvert_exporter": "python",
   "pygments_lexer": "ipython3",
   "version": "3.8.10"
  }
 },
 "nbformat": 4,
 "nbformat_minor": 5
}
