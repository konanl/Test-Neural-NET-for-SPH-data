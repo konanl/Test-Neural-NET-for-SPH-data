{
 "cells": [
  {
   "cell_type": "code",
   "execution_count": 1,
   "id": "93b9ee27-e6ac-4915-96f9-e988064112ea",
   "metadata": {},
   "outputs": [],
   "source": [
    "import torch\n",
    "import h5py\n",
    "import os\n",
    "import numpy as np\n",
    "from torch import nn as nn\n",
    "from torch.nn import functional as F\n",
    "from torch import optim\n",
    "from torch.utils.data import Dataset, DataLoader\n",
    "import time\n",
    "from d2l import torch as d2l\n",
    "import random"
   ]
  },
  {
   "cell_type": "code",
   "execution_count": 2,
   "id": "b9c8fada-583c-4cd6-a4c8-e3fdc02e119c",
   "metadata": {},
   "outputs": [],
   "source": [
    "# get the file name of path\n",
    "def get_fname(path):\n",
    "    files = os.listdir(path)\n",
    "    files.sort()\n",
    "    return files"
   ]
  },
  {
   "cell_type": "code",
   "execution_count": 3,
   "id": "1d8c8366-12d3-4b39-83ee-127702af0dd5",
   "metadata": {},
   "outputs": [],
   "source": [
    "data_dir = \"../Datasets\""
   ]
  },
  {
   "cell_type": "code",
   "execution_count": 4,
   "id": "cbf0f800-2f5d-4998-ad2d-3fc996e933de",
   "metadata": {},
   "outputs": [],
   "source": [
    "files = get_fname(data_dir)"
   ]
  },
  {
   "cell_type": "code",
   "execution_count": 5,
   "id": "49a380f5-1412-4ce3-b7db-60b50df3573e",
   "metadata": {},
   "outputs": [
    {
     "data": {
      "text/plain": [
       "'snapshot_000.hdf5'"
      ]
     },
     "execution_count": 5,
     "metadata": {},
     "output_type": "execute_result"
    }
   ],
   "source": [
    "files[0]"
   ]
  },
  {
   "cell_type": "code",
   "execution_count": 6,
   "id": "25f2b289-574d-46da-a957-ea43dc138509",
   "metadata": {},
   "outputs": [],
   "source": [
    "def get_fpath(path, fname):\n",
    "    return os.path.join(path, fname)"
   ]
  },
  {
   "cell_type": "code",
   "execution_count": 7,
   "id": "c38a6a7b-c065-4b31-8677-8d7c87a3fd28",
   "metadata": {},
   "outputs": [],
   "source": [
    "f0 = h5py.File(get_fpath(data_dir, files[0]))"
   ]
  },
  {
   "cell_type": "code",
   "execution_count": 8,
   "id": "be61029c-efa0-4773-bac9-b985f84b147f",
   "metadata": {},
   "outputs": [],
   "source": [
    "def get_hdf5_group(hdf5File):\n",
    "    group = []\n",
    "    for key in hdf5File:\n",
    "        group.append(key)\n",
    "    return group"
   ]
  },
  {
   "cell_type": "code",
   "execution_count": 9,
   "id": "20b1d7e9-960e-4d77-badc-71dfb8e7a633",
   "metadata": {},
   "outputs": [
    {
     "data": {
      "text/plain": [
       "'dataset'"
      ]
     },
     "execution_count": 9,
     "metadata": {},
     "output_type": "execute_result"
    }
   ],
   "source": [
    "get_hdf5_group(f0)[0]"
   ]
  },
  {
   "cell_type": "code",
   "execution_count": 10,
   "id": "44e06a17-5ee2-4347-9d20-46f0ac31e90b",
   "metadata": {},
   "outputs": [],
   "source": [
    "DATA = f0[get_hdf5_group(f0)[0]]"
   ]
  },
  {
   "cell_type": "code",
   "execution_count": 11,
   "id": "963196c9-e78c-486b-8c66-9de6e364d922",
   "metadata": {},
   "outputs": [
    {
     "data": {
      "text/plain": [
       "array([ 1.0000000e+00,  2.9456370e+21,  7.9943233e+00,  1.4509925e+07,\n",
       "       -1.9568456e+11,  2.4651726e+07, -1.6436408e+08, -4.3989524e+07,\n",
       "       -1.0778338e+07,  2.7425510e+02,  4.4113613e+04,  1.7417133e+02],\n",
       "      dtype=float32)"
      ]
     },
     "execution_count": 11,
     "metadata": {},
     "output_type": "execute_result"
    }
   ],
   "source": [
    "DATA[0]"
   ]
  },
  {
   "cell_type": "code",
   "execution_count": 12,
   "id": "d1d4ac1f-8f8d-4029-9785-de106088b083",
   "metadata": {},
   "outputs": [
    {
     "data": {
      "text/plain": [
       "numpy.ndarray"
      ]
     },
     "execution_count": 12,
     "metadata": {},
     "output_type": "execute_result"
    }
   ],
   "source": [
    "type(DATA[0])"
   ]
  },
  {
   "cell_type": "code",
   "execution_count": 13,
   "id": "44f3be6c-df04-4c15-b499-e5ab9c38c667",
   "metadata": {},
   "outputs": [
    {
     "data": {
      "text/plain": [
       "24231"
      ]
     },
     "execution_count": 13,
     "metadata": {},
     "output_type": "execute_result"
    }
   ],
   "source": [
    "int(len(DATA)*0.1)"
   ]
  },
  {
   "cell_type": "code",
   "execution_count": 14,
   "id": "edffb2cb-2c15-4f9a-a56a-b0a790a4ae45",
   "metadata": {},
   "outputs": [],
   "source": [
    "# This train test we just to use one snapshot just"
   ]
  },
  {
   "cell_type": "code",
   "execution_count": 15,
   "id": "5cf4ca7b-aa53-46dd-98a0-ef4c891c507d",
   "metadata": {},
   "outputs": [],
   "source": [
    "# get train set and validation set from the DATA\n",
    "def reorg_train_vaild(data, vaild_ratio):\n",
    "    l = len(data)\n",
    "    # data = random.shuffle(data)\n",
    "    n = l-int(l*vaild_ratio)\n",
    "    train_data = data[:n]\n",
    "    vaild_data = data[n:]\n",
    "    return train_data, vaild_data"
   ]
  },
  {
   "cell_type": "code",
   "execution_count": 16,
   "id": "b51ab362-f9e3-4afa-85e2-ef69a8fad291",
   "metadata": {},
   "outputs": [],
   "source": [
    "train_data, vaild_data = reorg_train_vaild(DATA, 0.1)"
   ]
  },
  {
   "cell_type": "code",
   "execution_count": 17,
   "id": "9d0f1aa0-d72c-4ebc-b232-016dfa8a98bb",
   "metadata": {},
   "outputs": [
    {
     "data": {
      "text/plain": [
       "(218080, 24231)"
      ]
     },
     "execution_count": 17,
     "metadata": {},
     "output_type": "execute_result"
    }
   ],
   "source": [
    "len(train_data), len(vaild_data)"
   ]
  },
  {
   "cell_type": "code",
   "execution_count": 18,
   "id": "789d6f09-69a5-40c8-8965-44bce8949225",
   "metadata": {},
   "outputs": [
    {
     "data": {
      "text/plain": [
       "True"
      ]
     },
     "execution_count": 18,
     "metadata": {},
     "output_type": "execute_result"
    }
   ],
   "source": [
    "(len(train_data) + len(vaild_data)) == len(DATA)"
   ]
  },
  {
   "cell_type": "code",
   "execution_count": 19,
   "id": "8795fd4c-dc40-4941-9a7c-229db95c6e24",
   "metadata": {},
   "outputs": [
    {
     "data": {
      "text/plain": [
       "array([ 1.0000000e+00,  2.9456370e+21,  7.9943233e+00,  1.4509925e+07,\n",
       "       -1.9568456e+11,  2.4651726e+07, -1.6436408e+08, -4.3989524e+07,\n",
       "       -1.0778338e+07,  2.7425510e+02,  4.4113613e+04,  1.7417133e+02],\n",
       "      dtype=float32)"
      ]
     },
     "execution_count": 19,
     "metadata": {},
     "output_type": "execute_result"
    }
   ],
   "source": [
    "train_data[0]"
   ]
  },
  {
   "cell_type": "code",
   "execution_count": 20,
   "id": "c6f256a6-5756-47f7-900a-2715b745b3c2",
   "metadata": {},
   "outputs": [
    {
     "data": {
      "text/plain": [
       "((218080, 12), (24231, 12))"
      ]
     },
     "execution_count": 20,
     "metadata": {},
     "output_type": "execute_result"
    }
   ],
   "source": [
    "train_data.shape, vaild_data.shape"
   ]
  },
  {
   "cell_type": "code",
   "execution_count": 21,
   "id": "95770888-176e-4006-950d-06533e9a31c4",
   "metadata": {},
   "outputs": [
    {
     "data": {
      "text/plain": [
       "array([[ 2.7425510e+02,  4.4113613e+04,  1.7417133e+02],\n",
       "       [ 2.8381116e+02,  4.4112398e+04,  1.5363177e+02],\n",
       "       [ 2.7865091e+02,  4.4125488e+04,  1.6021362e+02],\n",
       "       ...,\n",
       "       [ 6.5299835e+01,  4.4108121e+04,  1.9768300e+02],\n",
       "       [-1.7201406e+01,  4.4019441e+04,  1.9535860e+02],\n",
       "       [-2.2663403e+01,  4.4019906e+04,  2.0022131e+02]], dtype=float32)"
      ]
     },
     "execution_count": 21,
     "metadata": {},
     "output_type": "execute_result"
    }
   ],
   "source": [
    "train_data[:, -3:]"
   ]
  },
  {
   "cell_type": "code",
   "execution_count": 22,
   "id": "84b7d594-df27-4c80-bd90-ace8354c069d",
   "metadata": {},
   "outputs": [],
   "source": [
    "# physcial quantity squence is ids mass rho ie pot sl pos*3 vel*3\n",
    "def chose_input_output_phy_qua(data, phy_qua):\n",
    "    assert phy_qua == \"mass\" or phy_qua == \"rho\" or phy_qua == \"ie\" or phy_qua == \"pot\" or phy_qua == \"sl\" or phy_qua == \"pos\" or phy_qua == \"vel\"\n",
    "    if phy_qua == \"mass\":\n",
    "        return data[:, 1]\n",
    "    if phy_qua == \"rho\":\n",
    "        return data[:, 2]\n",
    "    if phy_qua == \"ie\":\n",
    "        return data[:, 3]\n",
    "    if phy_qua == \"pot\":\n",
    "        return data[:, 4]\n",
    "    if phy_qua == \"rho\":\n",
    "        return data[:, 5]\n",
    "    if phy_qua == \"pos\":\n",
    "        return data[:, -6:-3]\n",
    "    if phy_qua == \"vel\":\n",
    "        return data[:, -3:]"
   ]
  },
  {
   "cell_type": "code",
   "execution_count": 23,
   "id": "c7c51ef4-10bd-4678-9f0b-5c27735b4b75",
   "metadata": {},
   "outputs": [],
   "source": [
    "train_data_pos = chose_input_output_phy_qua(train_data, \"pos\")\n",
    "train_data_pot = chose_input_output_phy_qua(train_data, \"pot\")"
   ]
  },
  {
   "cell_type": "code",
   "execution_count": 24,
   "id": "1fb62583-4539-4407-b3bd-b212c9564a0c",
   "metadata": {},
   "outputs": [],
   "source": [
    "vaild_data_pos = chose_input_output_phy_qua(vaild_data, \"pos\")\n",
    "vaild_data_pot = chose_input_output_phy_qua(vaild_data, \"pot\")"
   ]
  },
  {
   "cell_type": "code",
   "execution_count": 25,
   "id": "bfc7ad87-178e-4b31-bcd1-464db90ed1b3",
   "metadata": {},
   "outputs": [
    {
     "data": {
      "text/plain": [
       "((218080, 3), (218080,))"
      ]
     },
     "execution_count": 25,
     "metadata": {},
     "output_type": "execute_result"
    }
   ],
   "source": [
    "train_data_pos.shape, train_data_pot.shape"
   ]
  },
  {
   "cell_type": "code",
   "execution_count": 26,
   "id": "9254a502-bad5-4b7e-81b9-a3e1f6e67d5a",
   "metadata": {},
   "outputs": [
    {
     "data": {
      "text/plain": [
       "((24231, 3), (24231,))"
      ]
     },
     "execution_count": 26,
     "metadata": {},
     "output_type": "execute_result"
    }
   ],
   "source": [
    "vaild_data_pos.shape, vaild_data_pot.shape"
   ]
  },
  {
   "cell_type": "code",
   "execution_count": 27,
   "id": "13c5c41f-8bf8-44fa-9d99-5489a53bbfbf",
   "metadata": {},
   "outputs": [],
   "source": [
    "train_data_pot = train_data_pot.reshape(-1, 1)"
   ]
  },
  {
   "cell_type": "code",
   "execution_count": 28,
   "id": "e1e5747f-d59e-424b-81f9-8464187a52a8",
   "metadata": {},
   "outputs": [],
   "source": [
    "vaild_data_pot = vaild_data_pot.reshape(-1, 1)"
   ]
  },
  {
   "cell_type": "code",
   "execution_count": 29,
   "id": "a2ec99ed-cd24-4b87-9152-fc07dea17d48",
   "metadata": {},
   "outputs": [
    {
     "data": {
      "text/plain": [
       "((218080, 1), (24231, 1))"
      ]
     },
     "execution_count": 29,
     "metadata": {},
     "output_type": "execute_result"
    }
   ],
   "source": [
    "train_data_pot.shape, vaild_data_pot.shape"
   ]
  },
  {
   "cell_type": "code",
   "execution_count": 30,
   "id": "a2c9a942-cd0f-4612-9f2e-fe996a3b45c9",
   "metadata": {},
   "outputs": [
    {
     "data": {
      "text/plain": [
       "(numpy.ndarray, numpy.ndarray, numpy.ndarray, numpy.ndarray)"
      ]
     },
     "execution_count": 30,
     "metadata": {},
     "output_type": "execute_result"
    }
   ],
   "source": [
    "type(train_data_pos), type(train_data_pot), type(vaild_data_pos), type(vaild_data_pot)"
   ]
  },
  {
   "cell_type": "code",
   "execution_count": 31,
   "id": "a4d90f04-76de-4e45-a451-115f99bbc3b6",
   "metadata": {},
   "outputs": [],
   "source": [
    "# norm function for numpy\n",
    "def data_norm(data):\n",
    "    mean = data.mean(axis=0, keepdims=True)\n",
    "    std = data.std(axis=0, keepdims=True)\n",
    "    return (data-mean)/std"
   ]
  },
  {
   "cell_type": "code",
   "execution_count": 32,
   "id": "7835ce2f-e637-4aba-876b-9c121934d05b",
   "metadata": {},
   "outputs": [],
   "source": [
    "train_data_pos_norm = data_norm(train_data_pos)\n",
    "train_data_pot_norm = data_norm(train_data_pot)"
   ]
  },
  {
   "cell_type": "code",
   "execution_count": 33,
   "id": "17467b73-6e94-43a7-ab6e-2372b0abe469",
   "metadata": {},
   "outputs": [
    {
     "data": {
      "text/plain": [
       "((218080, 3), (218080, 1))"
      ]
     },
     "execution_count": 33,
     "metadata": {},
     "output_type": "execute_result"
    }
   ],
   "source": [
    "train_data_pos_norm.shape, train_data_pot_norm.shape"
   ]
  },
  {
   "cell_type": "code",
   "execution_count": 34,
   "id": "c1f94560-78e3-4793-bdfe-7e688a856091",
   "metadata": {},
   "outputs": [
    {
     "data": {
      "text/plain": [
       "(3.0629683, -2.3754456, 2.1655304, -2.0422297)"
      ]
     },
     "execution_count": 34,
     "metadata": {},
     "output_type": "execute_result"
    }
   ],
   "source": [
    "train_data_pos_norm.max(), train_data_pos_norm.min(), train_data_pot_norm.max(), train_data_pot_norm.min()"
   ]
  },
  {
   "cell_type": "code",
   "execution_count": 35,
   "id": "fb8b8721-92d7-45d8-a391-e46bd6a52933",
   "metadata": {},
   "outputs": [],
   "source": [
    "vaild_data_pos_norm = data_norm(vaild_data_pos)\n",
    "vaild_data_pot_norm = data_norm(vaild_data_pot)"
   ]
  },
  {
   "cell_type": "code",
   "execution_count": 36,
   "id": "104df327-0c5c-4a84-8bce-eb8c30e1ddd9",
   "metadata": {},
   "outputs": [
    {
     "data": {
      "text/plain": [
       "((24231, 3), (24231, 1))"
      ]
     },
     "execution_count": 36,
     "metadata": {},
     "output_type": "execute_result"
    }
   ],
   "source": [
    "vaild_data_pos_norm.shape, vaild_data_pot_norm.shape"
   ]
  },
  {
   "cell_type": "code",
   "execution_count": 37,
   "id": "dc68d4f9-c12c-4f4b-bfac-0980b1d86a33",
   "metadata": {},
   "outputs": [
    {
     "data": {
      "text/plain": [
       "(2.5615253, -2.5647385, 1.7983176, -2.1992207)"
      ]
     },
     "execution_count": 37,
     "metadata": {},
     "output_type": "execute_result"
    }
   ],
   "source": [
    "vaild_data_pos_norm.max(), vaild_data_pos_norm.min(), vaild_data_pot_norm.max(), vaild_data_pot_norm.min()"
   ]
  },
  {
   "cell_type": "code",
   "execution_count": 38,
   "id": "5d284c32-2b8a-4654-8084-ffa1bde29173",
   "metadata": {},
   "outputs": [],
   "source": [
    "# defined SPH output Dataset\n",
    "class SPHDataset(Dataset):\n",
    "    def __init__(self, features, labels):\n",
    "        self.features = features\n",
    "        self.labels = labels\n",
    "    def __len__(self):\n",
    "        return len(self.features)\n",
    "    def __getitem__(self, item):\n",
    "        return self.features[item], self.labels[item]"
   ]
  },
  {
   "cell_type": "code",
   "execution_count": 39,
   "id": "10bc8f5a-e45a-4bb8-8590-40479e235160",
   "metadata": {},
   "outputs": [],
   "source": [
    "train_ds = SPHDataset(train_data_pos_norm, train_data_pot_norm)"
   ]
  },
  {
   "cell_type": "code",
   "execution_count": 40,
   "id": "13f2317b-6834-40c7-b7a5-4560eb4478c5",
   "metadata": {},
   "outputs": [
    {
     "data": {
      "text/plain": [
       "(218080,\n",
       " (array([-1.2238528 , -0.37931347, -0.07987393], dtype=float32),\n",
       "  array([-0.6781142], dtype=float32)))"
      ]
     },
     "execution_count": 40,
     "metadata": {},
     "output_type": "execute_result"
    }
   ],
   "source": [
    "len(train_ds), train_ds[0]"
   ]
  },
  {
   "cell_type": "code",
   "execution_count": 41,
   "id": "f8239ee6-79b5-409b-901a-3c18cb32714d",
   "metadata": {},
   "outputs": [],
   "source": [
    "vaild_ds = SPHDataset(vaild_data_pos_norm, vaild_data_pot_norm)"
   ]
  },
  {
   "cell_type": "code",
   "execution_count": 42,
   "id": "35c12cb6-d02b-4f60-8a2a-f6edf17f9eba",
   "metadata": {},
   "outputs": [
    {
     "data": {
      "text/plain": [
       "(24231,\n",
       " (array([ 0.00879525, -1.0692656 , -1.602093  ], dtype=float32),\n",
       "  array([-1.3022025], dtype=float32)))"
      ]
     },
     "execution_count": 42,
     "metadata": {},
     "output_type": "execute_result"
    }
   ],
   "source": [
    "len(vaild_ds), vaild_ds[0]"
   ]
  },
  {
   "cell_type": "code",
   "execution_count": 43,
   "id": "85ee1579-9128-4b4f-8b6e-c67e27dbf33a",
   "metadata": {},
   "outputs": [],
   "source": [
    "batch_size = 32"
   ]
  },
  {
   "cell_type": "code",
   "execution_count": 44,
   "id": "83233bc8-8361-446e-bc19-08df40b7c120",
   "metadata": {},
   "outputs": [],
   "source": [
    "train_iter = DataLoader(train_ds, batch_size=batch_size, shuffle=True, drop_last=True)\n",
    "vaild_iter = DataLoader(vaild_ds, batch_size=batch_size, shuffle=False, drop_last=False)"
   ]
  },
  {
   "cell_type": "code",
   "execution_count": 45,
   "id": "108ece0e-f615-4bc4-8ae3-040cb7cb578e",
   "metadata": {},
   "outputs": [
    {
     "name": "stdout",
     "output_type": "stream",
     "text": [
      "input:  tensor([[ 7.2784e-02, -6.9264e-01, -2.0209e+00],\n",
      "        [ 1.3619e+00, -5.3167e-01,  7.1643e-01],\n",
      "        [-2.7818e-01,  8.1120e-01, -2.2547e-01],\n",
      "        [-5.4424e-01, -1.1932e+00,  1.1267e+00],\n",
      "        [-9.1771e-01,  3.2125e-01,  1.6513e+00],\n",
      "        [-2.2987e+00,  2.6677e-01, -4.2079e-01],\n",
      "        [-1.3040e+00, -1.8054e+00,  1.2028e-01],\n",
      "        [-5.3721e-01,  1.2750e-01,  1.8284e+00],\n",
      "        [ 1.0754e-01, -3.8399e-01, -1.2177e+00],\n",
      "        [ 9.6819e-01, -1.3230e+00,  5.5644e-01],\n",
      "        [-8.0251e-01, -9.1646e-01, -2.5240e-01],\n",
      "        [-1.9497e+00, -6.0451e-01,  6.9974e-01],\n",
      "        [-2.2589e+00,  4.9913e-01, -2.5884e-01],\n",
      "        [-6.5395e-01, -6.6124e-01,  2.1727e+00],\n",
      "        [ 8.3864e-05,  4.1491e-01,  1.8298e-01],\n",
      "        [ 6.6842e-02,  1.1970e+00, -1.2999e+00],\n",
      "        [-1.2292e+00, -1.1507e+00,  1.9986e-01],\n",
      "        [ 1.3664e+00, -1.3482e+00,  1.3490e-01],\n",
      "        [-6.5044e-01, -1.9805e-01, -1.0795e+00],\n",
      "        [-2.4921e-02, -5.3118e-01,  6.0448e-01],\n",
      "        [ 1.2884e+00,  1.1323e+00,  8.7030e-01],\n",
      "        [ 7.2953e-02, -1.3701e+00, -2.6321e-01],\n",
      "        [ 1.8776e+00,  2.2134e+00, -2.4774e-01],\n",
      "        [-7.2796e-01,  2.7165e-01,  3.6229e-01],\n",
      "        [-1.1390e-01,  5.2169e-01, -2.6223e-01],\n",
      "        [ 1.5564e+00,  8.6068e-01, -9.5897e-01],\n",
      "        [ 1.0491e+00, -2.8647e-01, -1.2085e+00],\n",
      "        [ 4.1771e-01,  1.5737e+00, -5.5905e-01],\n",
      "        [ 1.4298e-01,  1.7777e-02, -1.5797e-01],\n",
      "        [ 5.7483e-01,  1.0865e+00,  1.5241e+00],\n",
      "        [ 3.8052e-01, -4.5723e-01, -1.0640e-01],\n",
      "        [-4.6822e-01,  1.7887e-01, -2.0307e+00]]) torch.Size([32, 3])\n",
      "output:  tensor([[ 0.9153],\n",
      "        [-0.1382],\n",
      "        [-1.1207],\n",
      "        [ 0.2899],\n",
      "        [ 0.5385],\n",
      "        [ 1.3312],\n",
      "        [ 1.3828],\n",
      "        [ 0.4910],\n",
      "        [-0.7172],\n",
      "        [ 0.2899],\n",
      "        [-0.6614],\n",
      "        [ 0.9678],\n",
      "        [ 1.3226],\n",
      "        [ 1.3348],\n",
      "        [-1.7755],\n",
      "        [ 0.4177],\n",
      "        [ 0.2237],\n",
      "        [ 0.6254],\n",
      "        [-0.7035],\n",
      "        [-1.4667],\n",
      "        [ 0.4280],\n",
      "        [-0.2464],\n",
      "        [ 1.3373],\n",
      "        [-1.3192],\n",
      "        [-1.6025],\n",
      "        [ 0.5650],\n",
      "        [-0.1423],\n",
      "        [ 0.3181],\n",
      "        [-2.0081],\n",
      "        [ 0.6599],\n",
      "        [-1.7423],\n",
      "        [ 0.8300]]) torch.Size([32, 1])\n"
     ]
    }
   ],
   "source": [
    "for i, (feature, label) in enumerate(train_iter):\n",
    "    if(i < 1):\n",
    "        print(\"input: \", feature, feature.shape)\n",
    "        print(\"output: \", label, label.shape)\n",
    "    else:\n",
    "        break"
   ]
  },
  {
   "cell_type": "code",
   "execution_count": 46,
   "id": "971c6e1a-ad46-4a8b-b4bf-dd7f16709aae",
   "metadata": {},
   "outputs": [
    {
     "name": "stdout",
     "output_type": "stream",
     "text": [
      "input:  tensor([[ 0.0088, -1.0693, -1.6021],\n",
      "        [-0.0769, -1.0702, -1.4304],\n",
      "        [-0.0567, -1.0745, -1.4163],\n",
      "        [ 0.1248, -1.0745, -1.2706],\n",
      "        [ 0.1246, -1.0745, -1.2705],\n",
      "        [-0.1123, -1.1200, -1.0838],\n",
      "        [-0.0707, -1.1223, -0.8347],\n",
      "        [-0.0708, -1.1223, -0.8347],\n",
      "        [-0.0536, -1.1079, -0.6372],\n",
      "        [-0.0536, -1.1079, -0.6372],\n",
      "        [-0.1204, -1.0929, -0.4649],\n",
      "        [-0.0273, -1.0743, -0.2836],\n",
      "        [-0.0932, -1.0950, -0.1286],\n",
      "        [-0.0952, -1.0948, -0.1152],\n",
      "        [-0.0620, -1.0956,  0.1140],\n",
      "        [-0.0558, -1.0885,  0.0902],\n",
      "        [-0.0421, -1.0774,  0.3002],\n",
      "        [-0.0421, -1.0774,  0.3002],\n",
      "        [-0.2098, -1.0637,  0.4722],\n",
      "        [-0.1396, -1.1101,  0.6268],\n",
      "        [-0.1395, -1.1101,  0.6268],\n",
      "        [-0.2313, -1.0987,  0.7891],\n",
      "        [-0.0563, -1.1016,  0.9311],\n",
      "        [-0.1616, -1.1051,  1.1315],\n",
      "        [-0.1599, -1.1048,  1.1294],\n",
      "        [-0.1582, -1.1046,  1.1279],\n",
      "        [-0.1330, -1.1142,  1.3712],\n",
      "        [-0.1048, -1.0625,  1.4492],\n",
      "        [-0.0220, -1.0589,  1.5749],\n",
      "        [-0.0714, -1.1136,  1.7444],\n",
      "        [-0.0681, -1.1129,  1.7516],\n",
      "        [ 0.0164, -1.0632,  1.9270]]) torch.Size([32, 3])\n",
      "output:  tensor([[-1.3022],\n",
      "        [-1.5345],\n",
      "        [-1.5234],\n",
      "        [-1.4064],\n",
      "        [-1.4068],\n",
      "        [-1.8336],\n",
      "        [-1.9148],\n",
      "        [-1.9149],\n",
      "        [-1.9688],\n",
      "        [-1.9688],\n",
      "        [-2.1023],\n",
      "        [-2.0109],\n",
      "        [-2.1255],\n",
      "        [-2.1291],\n",
      "        [-2.0855],\n",
      "        [-2.0756],\n",
      "        [-2.0280],\n",
      "        [-2.0280],\n",
      "        [-2.1992],\n",
      "        [-2.0818],\n",
      "        [-2.0817],\n",
      "        [-2.1281],\n",
      "        [-1.8381],\n",
      "        [-1.8555],\n",
      "        [-1.8547],\n",
      "        [-1.8534],\n",
      "        [-1.6611],\n",
      "        [-1.5454],\n",
      "        [-1.3498],\n",
      "        [-1.2900],\n",
      "        [-1.2798],\n",
      "        [-1.0118]]) torch.Size([32, 1])\n"
     ]
    }
   ],
   "source": [
    "for i, (feature, label) in enumerate(vaild_iter):\n",
    "    if(i < 1):\n",
    "        print(\"input: \", feature, feature.shape)\n",
    "        print(\"output: \", label, label.shape)\n",
    "        # print(label.shape[0])\n",
    "    else:\n",
    "        break"
   ]
  },
  {
   "cell_type": "code",
   "execution_count": 47,
   "id": "d304558f-f5d0-41db-99a5-56be5888aacd",
   "metadata": {},
   "outputs": [
    {
     "data": {
      "text/plain": [
       "(6815, 758)"
      ]
     },
     "execution_count": 47,
     "metadata": {},
     "output_type": "execute_result"
    }
   ],
   "source": [
    "len(train_iter), len(vaild_iter)"
   ]
  },
  {
   "cell_type": "code",
   "execution_count": 48,
   "id": "cb37437f-9211-4ddb-8885-666ffa7ba092",
   "metadata": {},
   "outputs": [],
   "source": [
    "class MyNetwork(nn.Module):\n",
    "    def __init__(self, input_size, output_size):\n",
    "        super(MyNetwork, self).__init__()\n",
    "        self.fc1 = nn.Linear(input_size, 10)\n",
    "        self.fc2 = nn.Linear(10, 12)\n",
    "        self.fc3 = nn.Linear(12, output_size)\n",
    "        \n",
    "    def forward(self, x):\n",
    "        return self.fc3(F.tanh(self.fc2(F.tanh(self.fc1(x)))))"
   ]
  },
  {
   "cell_type": "code",
   "execution_count": 49,
   "id": "89e90bb8-96e8-4af7-9ce3-2e1f0ab122a3",
   "metadata": {},
   "outputs": [],
   "source": [
    "from visdom import Visdom"
   ]
  },
  {
   "cell_type": "code",
   "execution_count": 53,
   "id": "3baba20f-fdf5-455b-8ddd-e641123767d7",
   "metadata": {},
   "outputs": [],
   "source": [
    "# def use_Visdom(visdom_ = True):\n",
    "#     if visdom_:\n",
    "#         viz = Visdom()\n",
    "#         viz.line([0.], [0.], win='train_loss', opts=dict(title='train_loss'))\n",
    "#         viz.line([[0.0, 1.0]], [0.], win='valid', opts=dict(title='valid_loss&acc.', legend=['loss', 'acc.']))"
   ]
  },
  {
   "cell_type": "code",
   "execution_count": 54,
   "id": "caab24df-af11-46ad-8e7f-244dfc9503cd",
   "metadata": {},
   "outputs": [
    {
     "name": "stderr",
     "output_type": "stream",
     "text": [
      "Setting up a new session...\n"
     ]
    },
    {
     "data": {
      "text/plain": [
       "'valid'"
      ]
     },
     "execution_count": 54,
     "metadata": {},
     "output_type": "execute_result"
    }
   ],
   "source": [
    "viz = Visdom()\n",
    "viz.line([0.], [0.], win='train_loss', opts=dict(title='train_loss'))\n",
    "viz.line([[0.0, 1.0]], [0.], win='valid', opts=dict(title='valid_loss&acc.', legend=['loss', 'acc.']))"
   ]
  },
  {
   "cell_type": "code",
   "execution_count": 55,
   "id": "5bd4a72c-0424-4a26-acab-5e6c647ce7ac",
   "metadata": {},
   "outputs": [],
   "source": [
    "global_step = 0. # 记录训练步长"
   ]
  },
  {
   "cell_type": "code",
   "execution_count": 56,
   "id": "5279fcf7-5f78-431b-a58f-462961073763",
   "metadata": {},
   "outputs": [],
   "source": [
    "# def get_gpu():\n",
    "#     assert num_gpus() is not None\n",
    "#     return gpu()"
   ]
  },
  {
   "cell_type": "code",
   "execution_count": 57,
   "id": "6534f21c-0635-40ea-a771-ab272adf017e",
   "metadata": {},
   "outputs": [
    {
     "name": "stdout",
     "output_type": "stream",
     "text": [
      "Using cuda device\n"
     ]
    }
   ],
   "source": [
    "device = 'cuda' if torch.cuda.is_available() else 'cpu'\n",
    "print(f'Using {device} device')"
   ]
  },
  {
   "cell_type": "code",
   "execution_count": 58,
   "id": "6a481aa8-ae72-4624-9c43-d849d09da0fe",
   "metadata": {},
   "outputs": [],
   "source": [
    "model = MyNetwork(3,1).to(device)\n",
    "\n",
    "loss_fn = nn.MSELoss().to(device)\n",
    "\n",
    "optimizer = optim.SGD(model.parameters(), lr=1e-3, momentum=0.9)"
   ]
  },
  {
   "cell_type": "code",
   "execution_count": 59,
   "id": "3f497555-dd2a-44dc-b503-be4d964d21ee",
   "metadata": {},
   "outputs": [],
   "source": [
    "epochs = 10"
   ]
  },
  {
   "cell_type": "code",
   "execution_count": 60,
   "id": "07611768-3b0e-4a5b-b361-ab52c188e484",
   "metadata": {},
   "outputs": [],
   "source": [
    "target = 0.05"
   ]
  },
  {
   "cell_type": "code",
   "execution_count": null,
   "id": "8e4fcc46-1fdb-4be7-86dc-7cf96aa88542",
   "metadata": {},
   "outputs": [
    {
     "name": "stdout",
     "output_type": "stream",
     "text": [
      "0 loss: 0.0047\n",
      "0 loss: 0.0044\n",
      "0 loss: 0.0029\n",
      "0 loss: 0.0051\n",
      "0 loss: 0.0046\n",
      "0 loss: 0.0025\n",
      "0 loss: 0.0089\n",
      "0 loss: 0.0052\n",
      "0 loss: 0.0058\n",
      "0 loss: 0.0052\n",
      "0 loss: 0.0039\n",
      "0 loss: 0.0055\n",
      "0 loss: 0.0048\n",
      "0 loss: 0.0032\n",
      "0 loss: 0.0055\n",
      "0 loss: 0.0052\n",
      "0 loss: 0.0039\n",
      "0 loss: 0.0037\n",
      "0 loss: 0.0031\n",
      "0 loss: 0.0045\n",
      "0 loss: 0.0050\n",
      "0 loss: 0.0037\n",
      "0 loss: 0.0069\n",
      "0 loss: 0.0036\n",
      "0 loss: 0.0044\n",
      "0 loss: 0.0032\n",
      "0 loss: 0.0019\n",
      "0 loss: 0.0042\n",
      "0 loss: 0.0011\n",
      "0 loss: 0.0031\n",
      "0 loss: 0.0019\n",
      "0 loss: 0.0040\n",
      "0 loss: 0.0024\n",
      "0 loss: 0.0036\n",
      "0 loss: 0.0041\n",
      "0 test acc: 41.9669%\n",
      "test loss: 1.1648\n",
      "1 loss: 0.0017\n",
      "1 loss: 0.0051\n",
      "1 loss: 0.0027\n",
      "1 loss: 0.0044\n",
      "1 loss: 0.0026\n",
      "1 loss: 0.0039\n",
      "1 loss: 0.0034\n",
      "1 loss: 0.0025\n",
      "1 loss: 0.0031\n",
      "1 loss: 0.0026\n",
      "1 loss: 0.0032\n",
      "1 loss: 0.0023\n",
      "1 loss: 0.0039\n",
      "1 loss: 0.0032\n",
      "1 loss: 0.0034\n",
      "1 loss: 0.0020\n",
      "1 loss: 0.0021\n",
      "1 loss: 0.0017\n",
      "1 loss: 0.0059\n",
      "1 loss: 0.0021\n",
      "1 loss: 0.0034\n",
      "1 loss: 0.0035\n",
      "1 loss: 0.0021\n",
      "1 loss: 0.0016\n",
      "1 loss: 0.0032\n",
      "1 loss: 0.0025\n",
      "1 loss: 0.0030\n",
      "1 loss: 0.0035\n",
      "1 loss: 0.0033\n",
      "1 loss: 0.0035\n",
      "1 loss: 0.0038\n",
      "1 loss: 0.0027\n",
      "1 loss: 0.0027\n",
      "1 loss: 0.0044\n",
      "1 loss: 0.0024\n",
      "1 test acc: 41.9669%\n",
      "test loss: 1.1080\n",
      "2 loss: 0.0022\n",
      "2 loss: 0.0023\n",
      "2 loss: 0.0023\n",
      "2 loss: 0.0026\n",
      "2 loss: 0.0013\n",
      "2 loss: 0.0022\n",
      "2 loss: 0.0028\n",
      "2 loss: 0.0043\n",
      "2 loss: 0.0043\n",
      "2 loss: 0.0023\n",
      "2 loss: 0.0022\n",
      "2 loss: 0.0013\n",
      "2 loss: 0.0024\n",
      "2 loss: 0.0020\n",
      "2 loss: 0.0027\n",
      "2 loss: 0.0013\n",
      "2 loss: 0.0018\n",
      "2 loss: 0.0025\n",
      "2 loss: 0.0016\n",
      "2 loss: 0.0016\n",
      "2 loss: 0.0018\n",
      "2 loss: 0.0018\n",
      "2 loss: 0.0018\n",
      "2 loss: 0.0012\n",
      "2 loss: 0.0012\n",
      "2 loss: 0.0022\n",
      "2 loss: 0.0016\n",
      "2 loss: 0.0010\n"
     ]
    }
   ],
   "source": [
    "for epoch in range(epochs):\n",
    "    model.train()  # train\n",
    "    for batch_idx, (x, label) in enumerate(train_iter):\n",
    "        x, label = x.to(device), label.to(device)\n",
    "        y_hat = model(x)\n",
    "        train_loss = loss_fn(y_hat, label)\n",
    "        optimizer.zero_grad()\n",
    "        train_loss.sum().backward()\n",
    "        optimizer.step()\n",
    "        loss = train_loss\n",
    "        global_step += 1\n",
    "        viz.line([loss.item()], [global_step], win='train_loss', update='append')\n",
    "        if batch_idx % 200 == 0:    \n",
    "            print(epoch, 'loss: {:.4f}'.format(loss.item()))\n",
    "    model.eval()   # test\n",
    "    with torch.no_grad():\n",
    "        correct = 0\n",
    "        test_loss = 0\n",
    "        total_correct = 0\n",
    "        total_num = 0\n",
    "        test_loss_sum = 0\n",
    "        for x, label in vaild_iter:\n",
    "            x, label = x.to(device), label.to(device)\n",
    "            logits = model(x)\n",
    "            # label = torch.flatten(label, 1, -1)\n",
    "            test_loss = loss_fn(logits, label)\n",
    "            if test_loss < target:\n",
    "                correct += 1\n",
    "            test_loss_sum += test_loss \n",
    "            # correct = torch.eq(pred,label).float().sum().item()\n",
    "            total_correct += correct\n",
    "            total_num += x.size(0)\n",
    "        test_loss_ = test_loss_sum / total_num\n",
    "        acc = total_correct / total_num\n",
    "        # print(type(test_loss), type(acc))\n",
    "        # visdom 可视化\n",
    "        viz.line([[test_loss_.item(), acc]], [global_step], win='valid', update='append')\n",
    "            # if batch_idx % 100 == 0:\n",
    "        print(epoch, 'test acc: {:.4f}%'.format(acc*100))\n",
    "        print('test loss: {:.4f}'.format(test_loss))"
   ]
  },
  {
   "cell_type": "code",
   "execution_count": null,
   "id": "9eb1b4e3-8254-4fde-b864-636722773170",
   "metadata": {},
   "outputs": [],
   "source": []
  }
 ],
 "metadata": {
  "kernelspec": {
   "display_name": "Python 3 (ipykernel)",
   "language": "python",
   "name": "python3"
  },
  "language_info": {
   "codemirror_mode": {
    "name": "ipython",
    "version": 3
   },
   "file_extension": ".py",
   "mimetype": "text/x-python",
   "name": "python",
   "nbconvert_exporter": "python",
   "pygments_lexer": "ipython3",
   "version": "3.8.10"
  }
 },
 "nbformat": 4,
 "nbformat_minor": 5
}
